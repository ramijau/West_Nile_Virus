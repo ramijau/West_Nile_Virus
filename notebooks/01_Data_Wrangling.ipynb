{
 "cells": [
  {
   "cell_type": "markdown",
   "id": "ea049ede",
   "metadata": {},
   "source": [
    "# Data Wrangling"
   ]
  },
  {
   "cell_type": "code",
   "execution_count": 2,
   "id": "ae650084",
   "metadata": {},
   "outputs": [],
   "source": [
    "import pandas as pd\n",
    "import numpy as np\n",
    "import matplotlib.pyplot as plt\n",
    "import seaborn as sns\n",
    "from datetime import datetime\n",
    "import os\n",
    "\n",
    "from library.sb_utils import save_file"
   ]
  },
  {
   "cell_type": "code",
   "execution_count": 3,
   "id": "4b225d5f",
   "metadata": {},
   "outputs": [],
   "source": [
    "# Load data\n",
    "train = pd.read_csv('/Users/ramijauregui/Desktop/Data_Analysis_Projects/Springboard/West_Nile_Virus/raw_data/train.csv')\n",
    "test = pd.read_csv('/Users/ramijauregui/Desktop/Data_Analysis_Projects/Springboard/West_Nile_Virus/raw_data/test.csv',\\\n",
    "                  index_col='Id')\n",
    "spray = pd.read_csv('/Users/ramijauregui/Desktop/Data_Analysis_Projects/Springboard/West_Nile_Virus/raw_data/spray.csv')\n",
    "weather = pd.read_csv('/Users/ramijauregui/Desktop/Data_Analysis_Projects/Springboard/West_Nile_Virus/raw_data/weather.csv')\n"
   ]
  },
  {
   "cell_type": "markdown",
   "id": "be2e569b",
   "metadata": {},
   "source": [
    "## Train and Test Data"
   ]
  },
  {
   "cell_type": "markdown",
   "id": "99b1024c",
   "metadata": {},
   "source": [
    "### Explore all columns"
   ]
  },
  {
   "cell_type": "code",
   "execution_count": 3,
   "id": "cb951cee",
   "metadata": {
    "scrolled": false
   },
   "outputs": [
    {
     "data": {
      "text/html": [
       "<div>\n",
       "<style scoped>\n",
       "    .dataframe tbody tr th:only-of-type {\n",
       "        vertical-align: middle;\n",
       "    }\n",
       "\n",
       "    .dataframe tbody tr th {\n",
       "        vertical-align: top;\n",
       "    }\n",
       "\n",
       "    .dataframe thead th {\n",
       "        text-align: right;\n",
       "    }\n",
       "</style>\n",
       "<table border=\"1\" class=\"dataframe\">\n",
       "  <thead>\n",
       "    <tr style=\"text-align: right;\">\n",
       "      <th></th>\n",
       "      <th>Date</th>\n",
       "      <th>Address</th>\n",
       "      <th>Species</th>\n",
       "      <th>Block</th>\n",
       "      <th>Street</th>\n",
       "      <th>Trap</th>\n",
       "      <th>AddressNumberAndStreet</th>\n",
       "      <th>Latitude</th>\n",
       "      <th>Longitude</th>\n",
       "      <th>AddressAccuracy</th>\n",
       "      <th>NumMosquitos</th>\n",
       "      <th>WnvPresent</th>\n",
       "    </tr>\n",
       "  </thead>\n",
       "  <tbody>\n",
       "    <tr>\n",
       "      <th>0</th>\n",
       "      <td>2007-05-29</td>\n",
       "      <td>4100 North Oak Park Avenue, Chicago, IL 60634,...</td>\n",
       "      <td>CULEX PIPIENS/RESTUANS</td>\n",
       "      <td>41</td>\n",
       "      <td>N OAK PARK AVE</td>\n",
       "      <td>T002</td>\n",
       "      <td>4100  N OAK PARK AVE, Chicago, IL</td>\n",
       "      <td>41.954690</td>\n",
       "      <td>-87.800991</td>\n",
       "      <td>9</td>\n",
       "      <td>1</td>\n",
       "      <td>0</td>\n",
       "    </tr>\n",
       "    <tr>\n",
       "      <th>1</th>\n",
       "      <td>2007-05-29</td>\n",
       "      <td>4100 North Oak Park Avenue, Chicago, IL 60634,...</td>\n",
       "      <td>CULEX RESTUANS</td>\n",
       "      <td>41</td>\n",
       "      <td>N OAK PARK AVE</td>\n",
       "      <td>T002</td>\n",
       "      <td>4100  N OAK PARK AVE, Chicago, IL</td>\n",
       "      <td>41.954690</td>\n",
       "      <td>-87.800991</td>\n",
       "      <td>9</td>\n",
       "      <td>1</td>\n",
       "      <td>0</td>\n",
       "    </tr>\n",
       "    <tr>\n",
       "      <th>2</th>\n",
       "      <td>2007-05-29</td>\n",
       "      <td>6200 North Mandell Avenue, Chicago, IL 60646, USA</td>\n",
       "      <td>CULEX RESTUANS</td>\n",
       "      <td>62</td>\n",
       "      <td>N MANDELL AVE</td>\n",
       "      <td>T007</td>\n",
       "      <td>6200  N MANDELL AVE, Chicago, IL</td>\n",
       "      <td>41.994991</td>\n",
       "      <td>-87.769279</td>\n",
       "      <td>9</td>\n",
       "      <td>1</td>\n",
       "      <td>0</td>\n",
       "    </tr>\n",
       "    <tr>\n",
       "      <th>3</th>\n",
       "      <td>2007-05-29</td>\n",
       "      <td>7900 West Foster Avenue, Chicago, IL 60656, USA</td>\n",
       "      <td>CULEX PIPIENS/RESTUANS</td>\n",
       "      <td>79</td>\n",
       "      <td>W FOSTER AVE</td>\n",
       "      <td>T015</td>\n",
       "      <td>7900  W FOSTER AVE, Chicago, IL</td>\n",
       "      <td>41.974089</td>\n",
       "      <td>-87.824812</td>\n",
       "      <td>8</td>\n",
       "      <td>1</td>\n",
       "      <td>0</td>\n",
       "    </tr>\n",
       "    <tr>\n",
       "      <th>4</th>\n",
       "      <td>2007-05-29</td>\n",
       "      <td>7900 West Foster Avenue, Chicago, IL 60656, USA</td>\n",
       "      <td>CULEX RESTUANS</td>\n",
       "      <td>79</td>\n",
       "      <td>W FOSTER AVE</td>\n",
       "      <td>T015</td>\n",
       "      <td>7900  W FOSTER AVE, Chicago, IL</td>\n",
       "      <td>41.974089</td>\n",
       "      <td>-87.824812</td>\n",
       "      <td>8</td>\n",
       "      <td>4</td>\n",
       "      <td>0</td>\n",
       "    </tr>\n",
       "  </tbody>\n",
       "</table>\n",
       "</div>"
      ],
      "text/plain": [
       "         Date                                            Address  \\\n",
       "0  2007-05-29  4100 North Oak Park Avenue, Chicago, IL 60634,...   \n",
       "1  2007-05-29  4100 North Oak Park Avenue, Chicago, IL 60634,...   \n",
       "2  2007-05-29  6200 North Mandell Avenue, Chicago, IL 60646, USA   \n",
       "3  2007-05-29    7900 West Foster Avenue, Chicago, IL 60656, USA   \n",
       "4  2007-05-29    7900 West Foster Avenue, Chicago, IL 60656, USA   \n",
       "\n",
       "                  Species  Block           Street  Trap  \\\n",
       "0  CULEX PIPIENS/RESTUANS     41   N OAK PARK AVE  T002   \n",
       "1          CULEX RESTUANS     41   N OAK PARK AVE  T002   \n",
       "2          CULEX RESTUANS     62    N MANDELL AVE  T007   \n",
       "3  CULEX PIPIENS/RESTUANS     79     W FOSTER AVE  T015   \n",
       "4          CULEX RESTUANS     79     W FOSTER AVE  T015   \n",
       "\n",
       "              AddressNumberAndStreet   Latitude  Longitude  AddressAccuracy  \\\n",
       "0  4100  N OAK PARK AVE, Chicago, IL  41.954690 -87.800991                9   \n",
       "1  4100  N OAK PARK AVE, Chicago, IL  41.954690 -87.800991                9   \n",
       "2   6200  N MANDELL AVE, Chicago, IL  41.994991 -87.769279                9   \n",
       "3    7900  W FOSTER AVE, Chicago, IL  41.974089 -87.824812                8   \n",
       "4    7900  W FOSTER AVE, Chicago, IL  41.974089 -87.824812                8   \n",
       "\n",
       "   NumMosquitos  WnvPresent  \n",
       "0             1           0  \n",
       "1             1           0  \n",
       "2             1           0  \n",
       "3             1           0  \n",
       "4             4           0  "
      ]
     },
     "execution_count": 3,
     "metadata": {},
     "output_type": "execute_result"
    }
   ],
   "source": [
    "# inspect train dataframe \n",
    "train.head()"
   ]
  },
  {
   "cell_type": "code",
   "execution_count": 4,
   "id": "3a281ff0",
   "metadata": {},
   "outputs": [
    {
     "data": {
      "text/plain": [
       "(10506, 12)"
      ]
     },
     "execution_count": 4,
     "metadata": {},
     "output_type": "execute_result"
    }
   ],
   "source": [
    "# shape of train dataframe\n",
    "train.shape"
   ]
  },
  {
   "cell_type": "code",
   "execution_count": 5,
   "id": "45b1720f",
   "metadata": {},
   "outputs": [
    {
     "name": "stdout",
     "output_type": "stream",
     "text": [
      "<class 'pandas.core.frame.DataFrame'>\n",
      "RangeIndex: 10506 entries, 0 to 10505\n",
      "Data columns (total 12 columns):\n",
      " #   Column                  Non-Null Count  Dtype  \n",
      "---  ------                  --------------  -----  \n",
      " 0   Date                    10506 non-null  object \n",
      " 1   Address                 10506 non-null  object \n",
      " 2   Species                 10506 non-null  object \n",
      " 3   Block                   10506 non-null  int64  \n",
      " 4   Street                  10506 non-null  object \n",
      " 5   Trap                    10506 non-null  object \n",
      " 6   AddressNumberAndStreet  10506 non-null  object \n",
      " 7   Latitude                10506 non-null  float64\n",
      " 8   Longitude               10506 non-null  float64\n",
      " 9   AddressAccuracy         10506 non-null  int64  \n",
      " 10  NumMosquitos            10506 non-null  int64  \n",
      " 11  WnvPresent              10506 non-null  int64  \n",
      "dtypes: float64(2), int64(4), object(6)\n",
      "memory usage: 985.1+ KB\n"
     ]
    }
   ],
   "source": [
    "# info of train dataframe\n",
    "train.info()"
   ]
  },
  {
   "cell_type": "code",
   "execution_count": 6,
   "id": "e79255c7",
   "metadata": {},
   "outputs": [
    {
     "data": {
      "text/plain": [
       "Date                      0\n",
       "Address                   0\n",
       "Species                   0\n",
       "Block                     0\n",
       "Street                    0\n",
       "Trap                      0\n",
       "AddressNumberAndStreet    0\n",
       "Latitude                  0\n",
       "Longitude                 0\n",
       "AddressAccuracy           0\n",
       "NumMosquitos              0\n",
       "WnvPresent                0\n",
       "dtype: int64"
      ]
     },
     "execution_count": 6,
     "metadata": {},
     "output_type": "execute_result"
    }
   ],
   "source": [
    "# missing values of train dataframe\n",
    "train.isna().sum()"
   ]
  },
  {
   "cell_type": "code",
   "execution_count": 7,
   "id": "b1d52c02",
   "metadata": {
    "scrolled": false
   },
   "outputs": [
    {
     "data": {
      "text/plain": [
       "array(['2007-05-29', '2007-06-05', '2007-06-26', '2007-06-29',\n",
       "       '2007-07-02', '2007-07-11', '2007-07-18', '2007-07-19',\n",
       "       '2007-07-25', '2007-07-27', '2007-08-01', '2007-08-02',\n",
       "       '2007-08-03', '2007-08-07', '2007-08-08', '2007-08-09',\n",
       "       '2007-08-15', '2007-08-16', '2007-08-17', '2007-08-21',\n",
       "       '2007-08-22', '2007-08-24', '2007-08-28', '2007-09-04',\n",
       "       '2007-09-05', '2007-09-06', '2007-09-12', '2007-09-18',\n",
       "       '2007-09-19', '2007-09-24', '2007-09-25', '2007-10-04',\n",
       "       '2007-10-09', '2009-05-28', '2009-06-02', '2009-06-03',\n",
       "       '2009-06-05', '2009-06-12', '2009-06-15', '2009-06-19',\n",
       "       '2009-06-22', '2009-06-26', '2009-06-29', '2009-07-06',\n",
       "       '2009-07-10', '2009-07-13', '2009-07-17', '2009-07-24',\n",
       "       '2009-07-27', '2009-07-31', '2009-08-07', '2009-08-13',\n",
       "       '2009-08-25', '2009-08-27', '2009-09-03', '2009-09-14',\n",
       "       '2009-09-17', '2009-09-25', '2009-10-01', '2011-06-10',\n",
       "       '2011-06-17', '2011-06-24', '2011-06-30', '2011-07-11',\n",
       "       '2011-07-15', '2011-07-25', '2011-07-29', '2011-08-05',\n",
       "       '2011-08-12', '2011-08-19', '2011-08-26', '2011-09-01',\n",
       "       '2011-09-02', '2011-09-12', '2011-09-16', '2011-09-23',\n",
       "       '2011-09-30', '2013-06-07', '2013-06-14', '2013-06-21',\n",
       "       '2013-06-27', '2013-06-28', '2013-07-08', '2013-07-12',\n",
       "       '2013-07-19', '2013-07-25', '2013-08-01', '2013-08-08',\n",
       "       '2013-08-15', '2013-08-22', '2013-08-29', '2013-09-06',\n",
       "       '2013-09-12', '2013-09-19', '2013-09-26'], dtype=object)"
      ]
     },
     "execution_count": 7,
     "metadata": {},
     "output_type": "execute_result"
    }
   ],
   "source": [
    "# unique values of Date column\n",
    "train['Date'].unique()"
   ]
  },
  {
   "cell_type": "code",
   "execution_count": 8,
   "id": "19e1b12d",
   "metadata": {},
   "outputs": [],
   "source": [
    "# transform 'Date' column to datetime\n",
    "train['Date'] = pd.to_datetime(train['Date'],format='%Y-%m-%d')"
   ]
  },
  {
   "cell_type": "markdown",
   "id": "0d64c37e",
   "metadata": {},
   "source": [
    "From looking at the unique dates we can say that there is no clear regular pattern as to when each sample was taken. However we can see that the samples were taken in May through October of 2007, 2009, 2011, and 2013."
   ]
  },
  {
   "cell_type": "code",
   "execution_count": 9,
   "id": "ef050f8c",
   "metadata": {},
   "outputs": [
    {
     "data": {
      "text/plain": [
       "array(['CULEX PIPIENS/RESTUANS', 'CULEX RESTUANS', 'CULEX PIPIENS',\n",
       "       'CULEX SALINARIUS', 'CULEX TERRITANS', 'CULEX TARSALIS',\n",
       "       'CULEX ERRATICUS'], dtype=object)"
      ]
     },
     "execution_count": 9,
     "metadata": {},
     "output_type": "execute_result"
    }
   ],
   "source": [
    "# unique values in Species column\n",
    "train['Species'].unique()"
   ]
  },
  {
   "cell_type": "markdown",
   "id": "c493a569",
   "metadata": {},
   "source": [
    "There are six species of mosquitoes. It seems like there were some samples where both culex pipiens and culex restauns were present within the same sample."
   ]
  },
  {
   "cell_type": "code",
   "execution_count": 10,
   "id": "f938e341",
   "metadata": {},
   "outputs": [
    {
     "data": {
      "text/plain": [
       "138"
      ]
     },
     "execution_count": 10,
     "metadata": {},
     "output_type": "execute_result"
    }
   ],
   "source": [
    "# inspect 'Address' column\n",
    "train['Address'].nunique()"
   ]
  },
  {
   "cell_type": "code",
   "execution_count": 11,
   "id": "6e022fce",
   "metadata": {
    "scrolled": true
   },
   "outputs": [
    {
     "data": {
      "text/plain": [
       "ORD Terminal 5, O'Hare International Airport, Chicago, IL 60666, USA         750\n",
       "South Doty Avenue, Chicago, IL, USA                                          542\n",
       "South Stony Island Avenue, Chicago, IL, USA                                  314\n",
       "4100 North Oak Park Avenue, Chicago, IL 60634, USA                           185\n",
       "4200 West 127th Street, Alsip, IL 60803, USA                                 183\n",
       "                                                                            ... \n",
       "3400 West 77th Street, Chicago, IL 60652, USA                                  7\n",
       "9600 South Longwood Drive, Chicago, IL 60643, USA                              5\n",
       "5500 South Doctor Martin Luther King Junior Drive, Chicago, IL 60637, USA      5\n",
       "2900 West 85th Street, Chicago, IL 60652, USA                                  3\n",
       "2100 South Hamlin Avenue, Chicago, IL 60623, USA                               2\n",
       "Name: Address, Length: 138, dtype: int64"
      ]
     },
     "execution_count": 11,
     "metadata": {},
     "output_type": "execute_result"
    }
   ],
   "source": [
    "# unique addresses\n",
    "train['Address'].value_counts()"
   ]
  },
  {
   "cell_type": "code",
   "execution_count": 12,
   "id": "2e53545c",
   "metadata": {},
   "outputs": [
    {
     "data": {
      "text/plain": [
       "array([41, 62, 79, 15, 25, 11, 21, 22, 17, 53, 65, 75, 89, 91, 36, 72, 38,\n",
       "       49, 58, 50, 14, 10, 42, 40, 43, 28, 18, 70, 35, 93, 37, 45, 46, 60,\n",
       "       61, 27, 68, 30, 96, 64, 12, 20, 33, 52, 67, 73, 39, 47, 55, 71, 77,\n",
       "       63, 13, 81, 24, 80, 82, 98, 66, 48, 51, 90, 29, 34])"
      ]
     },
     "execution_count": 12,
     "metadata": {},
     "output_type": "execute_result"
    }
   ],
   "source": [
    "# unique values in Block column\n",
    "train['Block'].unique()"
   ]
  },
  {
   "cell_type": "code",
   "execution_count": 13,
   "id": "b274586d",
   "metadata": {
    "scrolled": true
   },
   "outputs": [
    {
     "data": {
      "text/plain": [
       "array(['T002', 'T007', 'T015', 'T045', 'T046', 'T048', 'T049', 'T050',\n",
       "       'T054', 'T086', 'T091', 'T094', 'T096', 'T129', 'T143', 'T148',\n",
       "       'T153', 'T159', 'T009', 'T011', 'T016', 'T019', 'T025', 'T028',\n",
       "       'T031', 'T033', 'T089', 'T090', 'T092', 'T135', 'T141', 'T142',\n",
       "       'T145', 'T146', 'T147', 'T149', 'T150', 'T151', 'T152', 'T154',\n",
       "       'T158', 'T162', 'T218', 'T220', 'T001', 'T003', 'T006', 'T008',\n",
       "       'T012', 'T034', 'T037', 'T040', 'T043', 'T047', 'T051', 'T085',\n",
       "       'T088', 'T161', 'T219', 'T013', 'T014', 'T018', 'T030', 'T084',\n",
       "       'T144', 'T160', 'T005', 'T017', 'T044', 'T095', 'T004', 'T035',\n",
       "       'T036', 'T039', 'T060', 'T061', 'T062', 'T065', 'T066', 'T067',\n",
       "       'T069', 'T070', 'T071', 'T073', 'T074', 'T075', 'T076', 'T077',\n",
       "       'T079', 'T080', 'T081', 'T082', 'T083', 'T114', 'T155', 'T063',\n",
       "       'T115', 'T138', 'T200', 'T206', 'T209', 'T212', 'T215', 'T107',\n",
       "       'T128', 'T072', 'T078', 'T097', 'T099', 'T100', 'T102', 'T103',\n",
       "       'T027', 'T156', 'T157', 'T221', 'T900', 'T903', 'T222', 'T223',\n",
       "       'T225', 'T227', 'T224', 'T226', 'T229', 'T230', 'T228', 'T232',\n",
       "       'T231', 'T235', 'T233', 'T236', 'T237', 'T238', 'T094B', 'T054C'],\n",
       "      dtype=object)"
      ]
     },
     "execution_count": 13,
     "metadata": {},
     "output_type": "execute_result"
    }
   ],
   "source": [
    "# unique values in Trap column\n",
    "train['Trap'].unique()"
   ]
  },
  {
   "cell_type": "code",
   "execution_count": 14,
   "id": "29887914",
   "metadata": {
    "scrolled": true
   },
   "outputs": [
    {
     "data": {
      "text/plain": [
       "8    4628\n",
       "9    3980\n",
       "5    1807\n",
       "3      91\n",
       "Name: AddressAccuracy, dtype: int64"
      ]
     },
     "execution_count": 14,
     "metadata": {},
     "output_type": "execute_result"
    }
   ],
   "source": [
    "# value counts of AddressAccuracy column\n",
    "train['AddressAccuracy'].value_counts()"
   ]
  },
  {
   "cell_type": "markdown",
   "id": "e0ee14d8",
   "metadata": {},
   "source": [
    "We know from the given info about the data that the data is organized in a way that when the number of mosquitos exceeds 50, the results are split into another row. We will want to condense all of these rows into a single data entry."
   ]
  },
  {
   "cell_type": "markdown",
   "id": "776a3ef2",
   "metadata": {},
   "source": [
    "In order to condense the data, we need to make sure that there are no discrepancies between the columns that indicate location. These columns would be `Address`, `Street`, `AddressNumberAndStreet`, `Trap`, `Latitude`, and `Longitude`."
   ]
  },
  {
   "cell_type": "code",
   "execution_count": 15,
   "id": "57cf8328",
   "metadata": {},
   "outputs": [
    {
     "name": "stdout",
     "output_type": "stream",
     "text": [
      "Total Values for Given Columns\n",
      "Address: 138\n",
      "Street: 128\n",
      "AddressNumberAndStreet: 138\n",
      "Trap: 136\n",
      "Latitude: 138\n",
      "Longitude: 138\n"
     ]
    }
   ],
   "source": [
    "print('Total Values for Given Columns')\n",
    "print('Address: {}'.format(train['Address'].nunique()))\n",
    "print('Street: {}'.format(train['Street'].nunique()))\n",
    "print('AddressNumberAndStreet: {}'.format(train['AddressNumberAndStreet'].nunique()))\n",
    "print('Trap: {}'.format(train['Trap'].nunique()))\n",
    "print('Latitude: {}'.format(train['Latitude'].nunique()))\n",
    "print('Longitude: {}'.format(train['Longitude'].nunique()))"
   ]
  },
  {
   "cell_type": "markdown",
   "id": "2ef9f6b7",
   "metadata": {},
   "source": [
    "This indicates that there are traps that have multiple addresses. We need to find them and fix them. This also indicates that there are possibly multiple unique addresses in the same streets. We should also check to make sure that this is the case. "
   ]
  },
  {
   "cell_type": "code",
   "execution_count": 16,
   "id": "b158d321",
   "metadata": {},
   "outputs": [],
   "source": [
    "# function to check discrepancy between two columns\n",
    "def check_discrepancy(df, column1, column2):\n",
    "    \"\"\"This function checks if there are multiple unique values in column2 for each unique \n",
    "    value in column1 of the dataframe df.\n",
    "    \"\"\"\n",
    "    \n",
    "    lst = list(df[column1].unique())\n",
    "    counter = 0\n",
    "    for i in lst:\n",
    "        if len(list(df[df[column1] == i][column2].unique())) >= 2:\n",
    "            print('{}: {}      {}: {}'\\\n",
    "                  .format(column1, i,\\\n",
    "                          column2, list(df[df[column1] == i][column2].unique())))\n",
    "        else:\n",
    "            counter += 1\n",
    "    if counter == len(lst):\n",
    "        print('There are no discrepancies between {} and {}'\\\n",
    "             .format(column1, column2))"
   ]
  },
  {
   "cell_type": "code",
   "execution_count": 17,
   "id": "e7ddb948",
   "metadata": {
    "scrolled": false
   },
   "outputs": [
    {
     "name": "stdout",
     "output_type": "stream",
     "text": [
      "Street:  N OAK PARK AVE      Address: ['4100 North Oak Park Avenue, Chicago, IL 60634, USA', '6500 North Oak Park Avenue, Chicago, IL 60631, USA']\n",
      "Street:  N CANNON DR      Address: ['2200 North Cannon Drive, Chicago, IL 60614, USA', '2100 North Cannon Drive, Chicago, IL 60614, USA']\n",
      "Street:  W 95TH ST      Address: ['1700 West 95th Street, Chicago, IL 60643, USA', '1000 West 95th Street, Chicago, IL 60643, USA']\n",
      "Street:  S ASHLAND AVE      Address: ['University of Illinois at Chicago, 1100 South Ashland Avenue, Chicago, IL 60607, USA', '3900 South Ashland Avenue, Chicago, IL 60609, USA']\n",
      "Street:  S DR MARTIN LUTHER KING JR DR      Address: ['9300 South Doctor Martin Luther King Junior Drive, Chicago, IL 60619, USA', '5500 South Doctor Martin Luther King Junior Drive, Chicago, IL 60637, USA']\n",
      "Street:  S HOYNE AVE      Address: ['9600 South Hoyne Avenue, Chicago, IL 60643, USA', '3000 South Hoyne Avenue, Chicago, IL 60608, USA']\n",
      "Street:  N PULASKI RD      Address: ['1700 North Pulaski Road, Chicago, IL 60639, USA', '5800 North Pulaski Road, Chicago, IL 60646, USA']\n",
      "Street:  W 51ST ST      Address: ['2200 West 51st Street, Chicago, IL 60609, USA', '3500 West 51st Street, Chicago, IL 60632, USA']\n",
      "Street:  S KEDZIE AVE      Address: ['6700 South Kedzie Avenue, Chicago, IL 60629, USA', '8000 South Kedzie Avenue, Chicago, IL 60652, USA']\n",
      "Street:  S STONY ISLAND AVE      Address: ['6400 South Stony Island Avenue, Chicago, IL 60637, USA', 'South Stony Island Avenue, Chicago, IL, USA']\n"
     ]
    }
   ],
   "source": [
    "# check street/address discrepancy\n",
    "check_discrepancy(train, 'Street', 'Address')"
   ]
  },
  {
   "cell_type": "markdown",
   "id": "db79733f",
   "metadata": {},
   "source": [
    "There is no issue between the `Street` and `Address` columns. Now we should check for discrepancy between `Trap` and `Address`."
   ]
  },
  {
   "cell_type": "code",
   "execution_count": 18,
   "id": "8e04da19",
   "metadata": {},
   "outputs": [
    {
     "name": "stdout",
     "output_type": "stream",
     "text": [
      "Trap: T009      Address: ['9100 West Higgins Avenue, Chicago, IL 60656, USA', '9100 West Higgins Road, Rosemont, IL 60018, USA']\n",
      "Trap: T035      Address: ['3000 South Hoyne Avenue, Chicago, IL 60608, USA', '5100 West 72nd Street, Chicago, IL 60638, USA']\n"
     ]
    }
   ],
   "source": [
    "# check trap/address discrepancy\n",
    "check_discrepancy(train, 'Trap', 'Address')"
   ]
  },
  {
   "cell_type": "markdown",
   "id": "99e4571f",
   "metadata": {},
   "source": [
    "Traps T009 and T035 have two different addresses attached to them. We should check if the same dicrepancy is found between `Trap` and `Latitude` and `Longitude`."
   ]
  },
  {
   "cell_type": "code",
   "execution_count": 19,
   "id": "404f0ddd",
   "metadata": {},
   "outputs": [
    {
     "name": "stdout",
     "output_type": "stream",
     "text": [
      "Trap: T009      Latitude: [41.981964000000005, 41.992478000000006]\n",
      "Trap: T035      Latitude: [41.836644, 41.763733]\n"
     ]
    }
   ],
   "source": [
    "# check trap/latitude discrepancy\n",
    "check_discrepancy(train, 'Trap', 'Latitude')"
   ]
  },
  {
   "cell_type": "code",
   "execution_count": 20,
   "id": "01f4e797",
   "metadata": {},
   "outputs": [
    {
     "name": "stdout",
     "output_type": "stream",
     "text": [
      "Trap: T009      Longitude: [-87.812827, -87.862995]\n",
      "Trap: T035      Longitude: [-87.677737, -87.742302]\n"
     ]
    }
   ],
   "source": [
    "# check trap/longitude discrepancy\n",
    "check_discrepancy(train, 'Trap', 'Longitude')"
   ]
  },
  {
   "cell_type": "markdown",
   "id": "c0dd2056",
   "metadata": {},
   "source": [
    "We can now see that traps `T009` and `T035` have discrepancies in the `Address`, `Latitude`, and `Longitude` columns. We want to check if the multiple addresses match the latitude and latitude coordinates assigned to these traps."
   ]
  },
  {
   "cell_type": "markdown",
   "id": "74ef6be1",
   "metadata": {},
   "source": [
    "#### Find corresponding values of T009 and T035"
   ]
  },
  {
   "cell_type": "code",
   "execution_count": 21,
   "id": "a0a5ed3c",
   "metadata": {},
   "outputs": [
    {
     "data": {
      "text/plain": [
       "9100 West Higgins Road, Rosemont, IL 60018, USA     80\n",
       "9100 West Higgins Avenue, Chicago, IL 60656, USA    31\n",
       "Name: Address, dtype: int64"
      ]
     },
     "execution_count": 21,
     "metadata": {},
     "output_type": "execute_result"
    }
   ],
   "source": [
    "# Address value counts of T035 trap\n",
    "train[train['Trap'] == 'T009']['Address'].value_counts()"
   ]
  },
  {
   "cell_type": "code",
   "execution_count": 22,
   "id": "1cf826e7",
   "metadata": {},
   "outputs": [
    {
     "data": {
      "text/plain": [
       "41.992478    80\n",
       "41.981964    31\n",
       "Name: Latitude, dtype: int64"
      ]
     },
     "execution_count": 22,
     "metadata": {},
     "output_type": "execute_result"
    }
   ],
   "source": [
    "# latitude value counts of T009 trap\n",
    "train[train['Trap'] == 'T009']['Latitude'].value_counts()"
   ]
  },
  {
   "cell_type": "code",
   "execution_count": 23,
   "id": "5caca971",
   "metadata": {},
   "outputs": [
    {
     "data": {
      "text/plain": [
       "-87.862995    80\n",
       "-87.812827    31\n",
       "Name: Longitude, dtype: int64"
      ]
     },
     "execution_count": 23,
     "metadata": {},
     "output_type": "execute_result"
    }
   ],
   "source": [
    "# longitude value counts of T009 trap\n",
    "train[train['Trap'] == 'T009']['Longitude'].value_counts()"
   ]
  },
  {
   "cell_type": "code",
   "execution_count": 24,
   "id": "6d7cdc3b",
   "metadata": {},
   "outputs": [
    {
     "name": "stdout",
     "output_type": "stream",
     "text": [
      "['9100 West Higgins Avenue, Chicago, IL 60656, USA', 41.981964, -87.812827]\n",
      "['9100 West Higgins Road, Rosemont, IL 60018, USA', 41.992478, -87.862995]\n"
     ]
    }
   ],
   "source": [
    "# T009 address coordinates [Address, Latitude, Longitude]\n",
    "print(['9100 West Higgins Avenue, Chicago, IL 60656, USA', 41.981964, -87.812827])\n",
    "print(['9100 West Higgins Road, Rosemont, IL 60018, USA',41.992478,-87.862995])"
   ]
  },
  {
   "cell_type": "markdown",
   "id": "f97d8afa",
   "metadata": {},
   "source": [
    "From checking google maps and looking at the value counts for each value, we found that these were the corresponding coordinates for these addreses. Now let's do the same for the T035 trap."
   ]
  },
  {
   "cell_type": "code",
   "execution_count": 25,
   "id": "ff2de21f",
   "metadata": {},
   "outputs": [
    {
     "data": {
      "text/plain": [
       "5100 West 72nd Street, Chicago, IL 60638, USA      45\n",
       "3000 South Hoyne Avenue, Chicago, IL 60608, USA    27\n",
       "Name: Address, dtype: int64"
      ]
     },
     "execution_count": 25,
     "metadata": {},
     "output_type": "execute_result"
    }
   ],
   "source": [
    "# Address value counts of T035 trap\n",
    "train[train['Trap'] == 'T035']['Address'].value_counts()"
   ]
  },
  {
   "cell_type": "code",
   "execution_count": 26,
   "id": "16f26c64",
   "metadata": {},
   "outputs": [
    {
     "data": {
      "text/plain": [
       "41.763733    45\n",
       "41.836644    27\n",
       "Name: Latitude, dtype: int64"
      ]
     },
     "execution_count": 26,
     "metadata": {},
     "output_type": "execute_result"
    }
   ],
   "source": [
    "# latitude value counts of T035 trap\n",
    "train[train['Trap'] == 'T035']['Latitude'].value_counts()"
   ]
  },
  {
   "cell_type": "code",
   "execution_count": 27,
   "id": "e92b9589",
   "metadata": {},
   "outputs": [
    {
     "data": {
      "text/plain": [
       "-87.742302    45\n",
       "-87.677737    27\n",
       "Name: Longitude, dtype: int64"
      ]
     },
     "execution_count": 27,
     "metadata": {},
     "output_type": "execute_result"
    }
   ],
   "source": [
    "# longitude value counts of T035 trap\n",
    "train[train['Trap'] == 'T035']['Longitude'].value_counts()"
   ]
  },
  {
   "cell_type": "code",
   "execution_count": 28,
   "id": "fc292445",
   "metadata": {},
   "outputs": [
    {
     "name": "stdout",
     "output_type": "stream",
     "text": [
      "['5100 West 72nd Street, Chicago, IL 60638, USA', 41.763733, -87.742302]\n",
      "['3000 South Hoyne Avenue, Chicago, IL 60608, USA', 41.836644, -87.677737]\n"
     ]
    }
   ],
   "source": [
    "# T035 address coordinates [Address, Latitude, Longitude]\n",
    "print(['5100 West 72nd Street, Chicago, IL 60638, USA', 41.763733, -87.742302])\n",
    "print(['3000 South Hoyne Avenue, Chicago, IL 60608, USA', 41.836644, -87.677737])"
   ]
  },
  {
   "cell_type": "markdown",
   "id": "21b5d865",
   "metadata": {},
   "source": [
    "To fix these discrepancies, we will rename the entries with the least values for each of thsese two traps as `T009A` and `T035A` respectively."
   ]
  },
  {
   "cell_type": "code",
   "execution_count": 29,
   "id": "b90f89fa",
   "metadata": {},
   "outputs": [
    {
     "data": {
      "text/plain": [
       "Series([], Name: Trap, dtype: int64)"
      ]
     },
     "execution_count": 29,
     "metadata": {},
     "output_type": "execute_result"
    }
   ],
   "source": [
    "# rename traps with '9100 West Higgins Avenue, Chicago, IL 60656, USA' address as 'T009A'\n",
    "train.loc[train['Address'] == '9100 West Higgins Avenue, Chicago, IL 60656, USA', 'Trap']\\\n",
    "= 'T009A'\n",
    "\n",
    "# verify the name change worked appropriately\n",
    "train[(train['Address'] == '9100 West Higgins Avenue, Chicago, IL 60656, USA')\\\n",
    "    & (train['Latitude'] == 41.981964)\\\n",
    "    & (train['Longitude'] == -87.812827)]['Trap'].value_counts()"
   ]
  },
  {
   "cell_type": "code",
   "execution_count": 30,
   "id": "ccaa71a5",
   "metadata": {},
   "outputs": [
    {
     "data": {
      "text/plain": [
       "T035A    27\n",
       "Name: Trap, dtype: int64"
      ]
     },
     "execution_count": 30,
     "metadata": {},
     "output_type": "execute_result"
    }
   ],
   "source": [
    "# rename traps with '3000 South Hoyne Avenue, Chicago, IL 60608, USA' address as 'T035A'\n",
    "train.loc[train['Address'] == '3000 South Hoyne Avenue, Chicago, IL 60608, USA', 'Trap']\\\n",
    "= 'T035A'\n",
    "\n",
    "# verify the name change worked appropriately\n",
    "train[(train['Address'] == '3000 South Hoyne Avenue, Chicago, IL 60608, USA')\\\n",
    "    & (train['Latitude'] == 41.836644)\\\n",
    "    & (train['Longitude'] == -87.677737)]['Trap'].value_counts()"
   ]
  },
  {
   "cell_type": "markdown",
   "id": "00d3232f",
   "metadata": {},
   "source": [
    "Now lets verify that there is no more discrepancy between `Trap` and `Address`, `Latitude`, `Longitude`."
   ]
  },
  {
   "cell_type": "code",
   "execution_count": 31,
   "id": "88a5c0c1",
   "metadata": {},
   "outputs": [
    {
     "name": "stdout",
     "output_type": "stream",
     "text": [
      "Total Values for Given Columns\n",
      "Address: 138\n",
      "Street: 128\n",
      "AddressNumberAndStreet: 138\n",
      "Trap: 138\n",
      "Latitude: 138\n",
      "Longitude: 138\n"
     ]
    }
   ],
   "source": [
    "print('Total Values for Given Columns')\n",
    "print('Address: {}'.format(train['Address'].nunique()))\n",
    "print('Street: {}'.format(train['Street'].nunique()))\n",
    "print('AddressNumberAndStreet: {}'.format(train['AddressNumberAndStreet'].nunique()))\n",
    "print('Trap: {}'.format(train['Trap'].nunique()))\n",
    "print('Latitude: {}'.format(train['Latitude'].nunique()))\n",
    "print('Longitude: {}'.format(train['Longitude'].nunique()))"
   ]
  },
  {
   "cell_type": "code",
   "execution_count": 32,
   "id": "5805ab08",
   "metadata": {},
   "outputs": [
    {
     "name": "stdout",
     "output_type": "stream",
     "text": [
      "There are no discrepancies between Trap and Address\n"
     ]
    }
   ],
   "source": [
    "# check trap/address discrepancy\n",
    "check_discrepancy(train, 'Trap', 'Address')"
   ]
  },
  {
   "cell_type": "code",
   "execution_count": 33,
   "id": "b969478b",
   "metadata": {},
   "outputs": [
    {
     "name": "stdout",
     "output_type": "stream",
     "text": [
      "There are no discrepancies between Trap and Latitude\n"
     ]
    }
   ],
   "source": [
    "# check trap/latitude discrepancy\n",
    "check_discrepancy(train, 'Trap', 'Latitude')"
   ]
  },
  {
   "cell_type": "code",
   "execution_count": 34,
   "id": "2886a007",
   "metadata": {},
   "outputs": [
    {
     "name": "stdout",
     "output_type": "stream",
     "text": [
      "There are no discrepancies between Trap and Longitude\n"
     ]
    }
   ],
   "source": [
    "# check trap/longitude discrepancy\n",
    "check_discrepancy(train, 'Trap', 'Longitude')"
   ]
  },
  {
   "cell_type": "code",
   "execution_count": 35,
   "id": "0f1c3a66",
   "metadata": {},
   "outputs": [
    {
     "name": "stdout",
     "output_type": "stream",
     "text": [
      "There are no discrepancies between Trap and AddressAccuracy\n"
     ]
    }
   ],
   "source": [
    "# check trap/AddressAccuracy discrepancy\n",
    "check_discrepancy(train, 'Trap', 'AddressAccuracy')"
   ]
  },
  {
   "cell_type": "code",
   "execution_count": 36,
   "id": "fc30d08b",
   "metadata": {},
   "outputs": [],
   "source": [
    "# function to check discrepancy between two columns and return a dictionary\n",
    "def check_discrepancy_2(df, column1, column2):\n",
    "    \"\"\"This function checks if there are multiple unique values in column2 for each unique \n",
    "    value in column1 of the dataframe df and returns a dictionary with the results\n",
    "    \"\"\"\n",
    "    \n",
    "    lst = list(df[column1].unique())\n",
    "    dic = {}\n",
    "    counter = 0\n",
    "    for i in lst:\n",
    "        if len(list(df[df[column1] == i][column2].unique())) >= 2:\n",
    "            dic[i] = list(df[df[column1] == i][column2].unique())    \n",
    "#            print('{}: {}      {}: {}'\\\n",
    "#                  .format(column1, i,\\\n",
    "#                          column2, list(df[df[column1] == i][column2].unique())))\n",
    "        else:\n",
    "            counter += 1\n",
    "    return dic                      \n",
    "    if counter == len(lst):\n",
    "        print('There are no discrepancies between {} and {}'\\\n",
    "             .format(column1, column2))"
   ]
  },
  {
   "cell_type": "code",
   "execution_count": 37,
   "id": "cdc57c34",
   "metadata": {
    "scrolled": true
   },
   "outputs": [
    {
     "data": {
      "text/plain": [
       "{}"
      ]
     },
     "execution_count": 37,
     "metadata": {},
     "output_type": "execute_result"
    }
   ],
   "source": [
    "check_discrepancy_2(train, 'Trap', 'Address')"
   ]
  },
  {
   "cell_type": "code",
   "execution_count": 38,
   "id": "2375b396",
   "metadata": {
    "scrolled": true
   },
   "outputs": [
    {
     "data": {
      "text/plain": [
       "1     2307\n",
       "2     1300\n",
       "50    1019\n",
       "3      896\n",
       "4      593\n",
       "5      489\n",
       "6      398\n",
       "7      326\n",
       "8      244\n",
       "9      237\n",
       "10     206\n",
       "11     170\n",
       "13     163\n",
       "12     132\n",
       "16     128\n",
       "14     120\n",
       "15     112\n",
       "17     107\n",
       "18      92\n",
       "19      86\n",
       "21      85\n",
       "20      79\n",
       "23      69\n",
       "27      67\n",
       "37      61\n",
       "26      57\n",
       "24      57\n",
       "22      56\n",
       "25      50\n",
       "39      49\n",
       "29      48\n",
       "36      47\n",
       "31      47\n",
       "30      44\n",
       "35      43\n",
       "28      43\n",
       "46      43\n",
       "43      39\n",
       "32      39\n",
       "47      37\n",
       "33      36\n",
       "48      36\n",
       "49      35\n",
       "45      35\n",
       "38      35\n",
       "34      31\n",
       "41      31\n",
       "42      29\n",
       "40      28\n",
       "44      25\n",
       "Name: NumMosquitos, dtype: int64"
      ]
     },
     "execution_count": 38,
     "metadata": {},
     "output_type": "execute_result"
    }
   ],
   "source": [
    "# value counts for NumMosquitos column\n",
    "train['NumMosquitos'].value_counts()"
   ]
  },
  {
   "cell_type": "markdown",
   "id": "49189329",
   "metadata": {},
   "source": [
    "### Condense `NumMosquitos` into single entry\n",
    "\n",
    "Now that we have properly addressed any discrepancies, we can go forward with condensing the data as previously mentioned.\n",
    "\n",
    "Since we now have a unique address for each trap, these columns is now redundant and we can remove the `Address`, `Street`, and `AddressNumberAndStreet` columns. \n",
    "\n",
    "We also want to create a dataframe that includes all the traps and their respective address, latitude and longitude for possible future reference."
   ]
  },
  {
   "cell_type": "code",
   "execution_count": 39,
   "id": "e144d029",
   "metadata": {
    "scrolled": false
   },
   "outputs": [
    {
     "data": {
      "text/html": [
       "<div>\n",
       "<style scoped>\n",
       "    .dataframe tbody tr th:only-of-type {\n",
       "        vertical-align: middle;\n",
       "    }\n",
       "\n",
       "    .dataframe tbody tr th {\n",
       "        vertical-align: top;\n",
       "    }\n",
       "\n",
       "    .dataframe thead th {\n",
       "        text-align: right;\n",
       "    }\n",
       "</style>\n",
       "<table border=\"1\" class=\"dataframe\">\n",
       "  <thead>\n",
       "    <tr style=\"text-align: right;\">\n",
       "      <th></th>\n",
       "      <th>Trap</th>\n",
       "      <th>Address</th>\n",
       "      <th>Latitude</th>\n",
       "      <th>Longitude</th>\n",
       "    </tr>\n",
       "  </thead>\n",
       "  <tbody>\n",
       "    <tr>\n",
       "      <th>0</th>\n",
       "      <td>T002</td>\n",
       "      <td>4100 North Oak Park Avenue, Chicago, IL 60634,...</td>\n",
       "      <td>41.954690</td>\n",
       "      <td>-87.800991</td>\n",
       "    </tr>\n",
       "    <tr>\n",
       "      <th>1</th>\n",
       "      <td>T007</td>\n",
       "      <td>6200 North Mandell Avenue, Chicago, IL 60646, USA</td>\n",
       "      <td>41.994991</td>\n",
       "      <td>-87.769279</td>\n",
       "    </tr>\n",
       "    <tr>\n",
       "      <th>2</th>\n",
       "      <td>T015</td>\n",
       "      <td>7900 West Foster Avenue, Chicago, IL 60656, USA</td>\n",
       "      <td>41.974089</td>\n",
       "      <td>-87.824812</td>\n",
       "    </tr>\n",
       "    <tr>\n",
       "      <th>3</th>\n",
       "      <td>T045</td>\n",
       "      <td>1500 West Webster Avenue, Chicago, IL 60614, USA</td>\n",
       "      <td>41.921600</td>\n",
       "      <td>-87.666455</td>\n",
       "    </tr>\n",
       "    <tr>\n",
       "      <th>4</th>\n",
       "      <td>T046</td>\n",
       "      <td>2500 West Grand Avenue, Chicago, IL 60654, USA</td>\n",
       "      <td>41.891118</td>\n",
       "      <td>-87.654491</td>\n",
       "    </tr>\n",
       "    <tr>\n",
       "      <th>...</th>\n",
       "      <td>...</td>\n",
       "      <td>...</td>\n",
       "      <td>...</td>\n",
       "      <td>...</td>\n",
       "    </tr>\n",
       "    <tr>\n",
       "      <th>133</th>\n",
       "      <td>T236</td>\n",
       "      <td>6200 North Mcclellan Avenue, Chicago, IL 60646...</td>\n",
       "      <td>41.994679</td>\n",
       "      <td>-87.770899</td>\n",
       "    </tr>\n",
       "    <tr>\n",
       "      <th>134</th>\n",
       "      <td>T237</td>\n",
       "      <td>2900 West 85th Street, Chicago, IL 60652, USA</td>\n",
       "      <td>41.738903</td>\n",
       "      <td>-87.695443</td>\n",
       "    </tr>\n",
       "    <tr>\n",
       "      <th>135</th>\n",
       "      <td>T238</td>\n",
       "      <td>3400 West 77th Street, Chicago, IL 60652, USA</td>\n",
       "      <td>41.753391</td>\n",
       "      <td>-87.707394</td>\n",
       "    </tr>\n",
       "    <tr>\n",
       "      <th>136</th>\n",
       "      <td>T094B</td>\n",
       "      <td>9600 South Longwood Drive, Chicago, IL 60643, USA</td>\n",
       "      <td>41.719140</td>\n",
       "      <td>-87.669539</td>\n",
       "    </tr>\n",
       "    <tr>\n",
       "      <th>137</th>\n",
       "      <td>T054C</td>\n",
       "      <td>2100 North Cannon Drive, Chicago, IL 60614, USA</td>\n",
       "      <td>41.925652</td>\n",
       "      <td>-87.633590</td>\n",
       "    </tr>\n",
       "  </tbody>\n",
       "</table>\n",
       "<p>138 rows × 4 columns</p>\n",
       "</div>"
      ],
      "text/plain": [
       "      Trap                                            Address   Latitude  \\\n",
       "0     T002  4100 North Oak Park Avenue, Chicago, IL 60634,...  41.954690   \n",
       "1     T007  6200 North Mandell Avenue, Chicago, IL 60646, USA  41.994991   \n",
       "2     T015    7900 West Foster Avenue, Chicago, IL 60656, USA  41.974089   \n",
       "3     T045   1500 West Webster Avenue, Chicago, IL 60614, USA  41.921600   \n",
       "4     T046     2500 West Grand Avenue, Chicago, IL 60654, USA  41.891118   \n",
       "..     ...                                                ...        ...   \n",
       "133   T236  6200 North Mcclellan Avenue, Chicago, IL 60646...  41.994679   \n",
       "134   T237      2900 West 85th Street, Chicago, IL 60652, USA  41.738903   \n",
       "135   T238      3400 West 77th Street, Chicago, IL 60652, USA  41.753391   \n",
       "136  T094B  9600 South Longwood Drive, Chicago, IL 60643, USA  41.719140   \n",
       "137  T054C    2100 North Cannon Drive, Chicago, IL 60614, USA  41.925652   \n",
       "\n",
       "     Longitude  \n",
       "0   -87.800991  \n",
       "1   -87.769279  \n",
       "2   -87.824812  \n",
       "3   -87.666455  \n",
       "4   -87.654491  \n",
       "..         ...  \n",
       "133 -87.770899  \n",
       "134 -87.695443  \n",
       "135 -87.707394  \n",
       "136 -87.669539  \n",
       "137 -87.633590  \n",
       "\n",
       "[138 rows x 4 columns]"
      ]
     },
     "execution_count": 39,
     "metadata": {},
     "output_type": "execute_result"
    }
   ],
   "source": [
    "# dataframe of traps with their respective address and coordinates\n",
    "trap_list = list(train['Trap'].unique())\n",
    "trap_loc = {}\n",
    "for trap in trap_list:\n",
    "    trap_loc[trap] = [list(train[train['Trap'] == trap]['Address'].unique())[0],\\\n",
    "                            list(train[train['Trap'] == trap]['Latitude'].unique())[0],\\\n",
    "                            list(train[train['Trap'] == trap]['Longitude'].unique())[0]]\n",
    "    \n",
    "trap_locations = pd.DataFrame.from_dict(trap_loc, orient='index').reset_index()\n",
    "trap_locations.rename(columns={'index': 'Trap', 0:'Address', 1:'Latitude', 2:'Longitude'},\n",
    "             inplace=True)\n",
    "trap_locations"
   ]
  },
  {
   "cell_type": "code",
   "execution_count": 40,
   "id": "ed0e7550",
   "metadata": {
    "scrolled": true
   },
   "outputs": [
    {
     "data": {
      "text/html": [
       "<div>\n",
       "<style scoped>\n",
       "    .dataframe tbody tr th:only-of-type {\n",
       "        vertical-align: middle;\n",
       "    }\n",
       "\n",
       "    .dataframe tbody tr th {\n",
       "        vertical-align: top;\n",
       "    }\n",
       "\n",
       "    .dataframe thead th {\n",
       "        text-align: right;\n",
       "    }\n",
       "</style>\n",
       "<table border=\"1\" class=\"dataframe\">\n",
       "  <thead>\n",
       "    <tr style=\"text-align: right;\">\n",
       "      <th></th>\n",
       "      <th>Date</th>\n",
       "      <th>Species</th>\n",
       "      <th>Block</th>\n",
       "      <th>Trap</th>\n",
       "      <th>Latitude</th>\n",
       "      <th>Longitude</th>\n",
       "      <th>AddressAccuracy</th>\n",
       "      <th>NumMosquitos</th>\n",
       "      <th>WnvPresent</th>\n",
       "    </tr>\n",
       "  </thead>\n",
       "  <tbody>\n",
       "    <tr>\n",
       "      <th>0</th>\n",
       "      <td>2007-05-29</td>\n",
       "      <td>CULEX PIPIENS/RESTUANS</td>\n",
       "      <td>41</td>\n",
       "      <td>T002</td>\n",
       "      <td>41.954690</td>\n",
       "      <td>-87.800991</td>\n",
       "      <td>9</td>\n",
       "      <td>1</td>\n",
       "      <td>0</td>\n",
       "    </tr>\n",
       "    <tr>\n",
       "      <th>1</th>\n",
       "      <td>2007-05-29</td>\n",
       "      <td>CULEX RESTUANS</td>\n",
       "      <td>41</td>\n",
       "      <td>T002</td>\n",
       "      <td>41.954690</td>\n",
       "      <td>-87.800991</td>\n",
       "      <td>9</td>\n",
       "      <td>1</td>\n",
       "      <td>0</td>\n",
       "    </tr>\n",
       "    <tr>\n",
       "      <th>2</th>\n",
       "      <td>2007-05-29</td>\n",
       "      <td>CULEX RESTUANS</td>\n",
       "      <td>62</td>\n",
       "      <td>T007</td>\n",
       "      <td>41.994991</td>\n",
       "      <td>-87.769279</td>\n",
       "      <td>9</td>\n",
       "      <td>1</td>\n",
       "      <td>0</td>\n",
       "    </tr>\n",
       "    <tr>\n",
       "      <th>3</th>\n",
       "      <td>2007-05-29</td>\n",
       "      <td>CULEX PIPIENS/RESTUANS</td>\n",
       "      <td>79</td>\n",
       "      <td>T015</td>\n",
       "      <td>41.974089</td>\n",
       "      <td>-87.824812</td>\n",
       "      <td>8</td>\n",
       "      <td>1</td>\n",
       "      <td>0</td>\n",
       "    </tr>\n",
       "    <tr>\n",
       "      <th>4</th>\n",
       "      <td>2007-05-29</td>\n",
       "      <td>CULEX RESTUANS</td>\n",
       "      <td>79</td>\n",
       "      <td>T015</td>\n",
       "      <td>41.974089</td>\n",
       "      <td>-87.824812</td>\n",
       "      <td>8</td>\n",
       "      <td>4</td>\n",
       "      <td>0</td>\n",
       "    </tr>\n",
       "  </tbody>\n",
       "</table>\n",
       "</div>"
      ],
      "text/plain": [
       "        Date                 Species  Block  Trap   Latitude  Longitude  \\\n",
       "0 2007-05-29  CULEX PIPIENS/RESTUANS     41  T002  41.954690 -87.800991   \n",
       "1 2007-05-29          CULEX RESTUANS     41  T002  41.954690 -87.800991   \n",
       "2 2007-05-29          CULEX RESTUANS     62  T007  41.994991 -87.769279   \n",
       "3 2007-05-29  CULEX PIPIENS/RESTUANS     79  T015  41.974089 -87.824812   \n",
       "4 2007-05-29          CULEX RESTUANS     79  T015  41.974089 -87.824812   \n",
       "\n",
       "   AddressAccuracy  NumMosquitos  WnvPresent  \n",
       "0                9             1           0  \n",
       "1                9             1           0  \n",
       "2                9             1           0  \n",
       "3                8             1           0  \n",
       "4                8             4           0  "
      ]
     },
     "execution_count": 40,
     "metadata": {},
     "output_type": "execute_result"
    }
   ],
   "source": [
    "# drop all address columns\n",
    "train1 = train.drop(labels=['Address', 'Street', 'AddressNumberAndStreet'], axis=1)\n",
    "train1.head()"
   ]
  },
  {
   "cell_type": "code",
   "execution_count": 41,
   "id": "9253e56f",
   "metadata": {},
   "outputs": [
    {
     "data": {
      "text/html": [
       "<div>\n",
       "<style scoped>\n",
       "    .dataframe tbody tr th:only-of-type {\n",
       "        vertical-align: middle;\n",
       "    }\n",
       "\n",
       "    .dataframe tbody tr th {\n",
       "        vertical-align: top;\n",
       "    }\n",
       "\n",
       "    .dataframe thead th {\n",
       "        text-align: right;\n",
       "    }\n",
       "</style>\n",
       "<table border=\"1\" class=\"dataframe\">\n",
       "  <thead>\n",
       "    <tr style=\"text-align: right;\">\n",
       "      <th></th>\n",
       "      <th>Trap</th>\n",
       "      <th>Block</th>\n",
       "      <th>Latitude</th>\n",
       "      <th>Longitude</th>\n",
       "      <th>Date</th>\n",
       "      <th>Species</th>\n",
       "      <th>WnvPresent</th>\n",
       "      <th>AddressAccuracy</th>\n",
       "      <th>NumMosquitos</th>\n",
       "    </tr>\n",
       "  </thead>\n",
       "  <tbody>\n",
       "    <tr>\n",
       "      <th>0</th>\n",
       "      <td>T001</td>\n",
       "      <td>40</td>\n",
       "      <td>41.953705</td>\n",
       "      <td>-87.733974</td>\n",
       "      <td>2007-06-26</td>\n",
       "      <td>CULEX PIPIENS/RESTUANS</td>\n",
       "      <td>0</td>\n",
       "      <td>8</td>\n",
       "      <td>1</td>\n",
       "    </tr>\n",
       "    <tr>\n",
       "      <th>1</th>\n",
       "      <td>T001</td>\n",
       "      <td>40</td>\n",
       "      <td>41.953705</td>\n",
       "      <td>-87.733974</td>\n",
       "      <td>2007-07-11</td>\n",
       "      <td>CULEX PIPIENS/RESTUANS</td>\n",
       "      <td>0</td>\n",
       "      <td>8</td>\n",
       "      <td>1</td>\n",
       "    </tr>\n",
       "    <tr>\n",
       "      <th>2</th>\n",
       "      <td>T001</td>\n",
       "      <td>40</td>\n",
       "      <td>41.953705</td>\n",
       "      <td>-87.733974</td>\n",
       "      <td>2007-07-18</td>\n",
       "      <td>CULEX PIPIENS</td>\n",
       "      <td>0</td>\n",
       "      <td>8</td>\n",
       "      <td>1</td>\n",
       "    </tr>\n",
       "    <tr>\n",
       "      <th>3</th>\n",
       "      <td>T001</td>\n",
       "      <td>40</td>\n",
       "      <td>41.953705</td>\n",
       "      <td>-87.733974</td>\n",
       "      <td>2007-08-01</td>\n",
       "      <td>CULEX PIPIENS</td>\n",
       "      <td>0</td>\n",
       "      <td>8</td>\n",
       "      <td>1</td>\n",
       "    </tr>\n",
       "    <tr>\n",
       "      <th>4</th>\n",
       "      <td>T001</td>\n",
       "      <td>40</td>\n",
       "      <td>41.953705</td>\n",
       "      <td>-87.733974</td>\n",
       "      <td>2007-08-01</td>\n",
       "      <td>CULEX PIPIENS/RESTUANS</td>\n",
       "      <td>0</td>\n",
       "      <td>8</td>\n",
       "      <td>3</td>\n",
       "    </tr>\n",
       "    <tr>\n",
       "      <th>...</th>\n",
       "      <td>...</td>\n",
       "      <td>...</td>\n",
       "      <td>...</td>\n",
       "      <td>...</td>\n",
       "      <td>...</td>\n",
       "      <td>...</td>\n",
       "      <td>...</td>\n",
       "      <td>...</td>\n",
       "      <td>...</td>\n",
       "    </tr>\n",
       "    <tr>\n",
       "      <th>8605</th>\n",
       "      <td>T903</td>\n",
       "      <td>10</td>\n",
       "      <td>41.957799</td>\n",
       "      <td>-87.930995</td>\n",
       "      <td>2013-08-08</td>\n",
       "      <td>CULEX PIPIENS</td>\n",
       "      <td>0</td>\n",
       "      <td>5</td>\n",
       "      <td>3</td>\n",
       "    </tr>\n",
       "    <tr>\n",
       "      <th>8606</th>\n",
       "      <td>T903</td>\n",
       "      <td>10</td>\n",
       "      <td>41.957799</td>\n",
       "      <td>-87.930995</td>\n",
       "      <td>2013-08-22</td>\n",
       "      <td>CULEX PIPIENS/RESTUANS</td>\n",
       "      <td>0</td>\n",
       "      <td>5</td>\n",
       "      <td>2</td>\n",
       "    </tr>\n",
       "    <tr>\n",
       "      <th>8607</th>\n",
       "      <td>T903</td>\n",
       "      <td>10</td>\n",
       "      <td>41.957799</td>\n",
       "      <td>-87.930995</td>\n",
       "      <td>2013-08-29</td>\n",
       "      <td>CULEX PIPIENS</td>\n",
       "      <td>0</td>\n",
       "      <td>5</td>\n",
       "      <td>11</td>\n",
       "    </tr>\n",
       "    <tr>\n",
       "      <th>8608</th>\n",
       "      <td>T903</td>\n",
       "      <td>10</td>\n",
       "      <td>41.957799</td>\n",
       "      <td>-87.930995</td>\n",
       "      <td>2013-09-06</td>\n",
       "      <td>CULEX PIPIENS</td>\n",
       "      <td>0</td>\n",
       "      <td>5</td>\n",
       "      <td>20</td>\n",
       "    </tr>\n",
       "    <tr>\n",
       "      <th>8609</th>\n",
       "      <td>T903</td>\n",
       "      <td>10</td>\n",
       "      <td>41.957799</td>\n",
       "      <td>-87.930995</td>\n",
       "      <td>2013-09-12</td>\n",
       "      <td>CULEX PIPIENS/RESTUANS</td>\n",
       "      <td>0</td>\n",
       "      <td>5</td>\n",
       "      <td>10</td>\n",
       "    </tr>\n",
       "  </tbody>\n",
       "</table>\n",
       "<p>8610 rows × 9 columns</p>\n",
       "</div>"
      ],
      "text/plain": [
       "      Trap  Block   Latitude  Longitude       Date                 Species  \\\n",
       "0     T001     40  41.953705 -87.733974 2007-06-26  CULEX PIPIENS/RESTUANS   \n",
       "1     T001     40  41.953705 -87.733974 2007-07-11  CULEX PIPIENS/RESTUANS   \n",
       "2     T001     40  41.953705 -87.733974 2007-07-18           CULEX PIPIENS   \n",
       "3     T001     40  41.953705 -87.733974 2007-08-01           CULEX PIPIENS   \n",
       "4     T001     40  41.953705 -87.733974 2007-08-01  CULEX PIPIENS/RESTUANS   \n",
       "...    ...    ...        ...        ...        ...                     ...   \n",
       "8605  T903     10  41.957799 -87.930995 2013-08-08           CULEX PIPIENS   \n",
       "8606  T903     10  41.957799 -87.930995 2013-08-22  CULEX PIPIENS/RESTUANS   \n",
       "8607  T903     10  41.957799 -87.930995 2013-08-29           CULEX PIPIENS   \n",
       "8608  T903     10  41.957799 -87.930995 2013-09-06           CULEX PIPIENS   \n",
       "8609  T903     10  41.957799 -87.930995 2013-09-12  CULEX PIPIENS/RESTUANS   \n",
       "\n",
       "      WnvPresent  AddressAccuracy  NumMosquitos  \n",
       "0              0                8             1  \n",
       "1              0                8             1  \n",
       "2              0                8             1  \n",
       "3              0                8             1  \n",
       "4              0                8             3  \n",
       "...          ...              ...           ...  \n",
       "8605           0                5             3  \n",
       "8606           0                5             2  \n",
       "8607           0                5            11  \n",
       "8608           0                5            20  \n",
       "8609           0                5            10  \n",
       "\n",
       "[8610 rows x 9 columns]"
      ]
     },
     "execution_count": 41,
     "metadata": {},
     "output_type": "execute_result"
    }
   ],
   "source": [
    "# sum all the NumMosquitos for each unique entry\n",
    "grpby_order = ['Trap', 'Block', 'Latitude', 'Longitude', 'Date', 'Species', 'WnvPresent', 'AddressAccuracy']\n",
    "summed = train1.groupby(grpby_order).sum()\n",
    "summed.reset_index(inplace=True)\n",
    "column_order = ['Date', 'Trap', 'Block', 'Latitude', 'Longitude', 'Species', 'AddressAccuracy', 'NumMosquitos', \n",
    "                'WnvPresent']\n",
    "traps = summed\n",
    "traps"
   ]
  },
  {
   "cell_type": "markdown",
   "id": "565bb30a",
   "metadata": {},
   "source": [
    "### Test Data\n",
    "\n",
    "We will not be using the given test data as we will be creating our own train and test data from the created `traps` dataframe."
   ]
  },
  {
   "cell_type": "markdown",
   "id": "e237e233",
   "metadata": {},
   "source": [
    "## Spray Data"
   ]
  },
  {
   "cell_type": "code",
   "execution_count": 42,
   "id": "cafc5d32",
   "metadata": {
    "scrolled": true
   },
   "outputs": [
    {
     "data": {
      "text/html": [
       "<div>\n",
       "<style scoped>\n",
       "    .dataframe tbody tr th:only-of-type {\n",
       "        vertical-align: middle;\n",
       "    }\n",
       "\n",
       "    .dataframe tbody tr th {\n",
       "        vertical-align: top;\n",
       "    }\n",
       "\n",
       "    .dataframe thead th {\n",
       "        text-align: right;\n",
       "    }\n",
       "</style>\n",
       "<table border=\"1\" class=\"dataframe\">\n",
       "  <thead>\n",
       "    <tr style=\"text-align: right;\">\n",
       "      <th></th>\n",
       "      <th>Date</th>\n",
       "      <th>Time</th>\n",
       "      <th>Latitude</th>\n",
       "      <th>Longitude</th>\n",
       "    </tr>\n",
       "  </thead>\n",
       "  <tbody>\n",
       "    <tr>\n",
       "      <th>0</th>\n",
       "      <td>2011-08-29</td>\n",
       "      <td>6:56:58 PM</td>\n",
       "      <td>42.391623</td>\n",
       "      <td>-88.089163</td>\n",
       "    </tr>\n",
       "    <tr>\n",
       "      <th>1</th>\n",
       "      <td>2011-08-29</td>\n",
       "      <td>6:57:08 PM</td>\n",
       "      <td>42.391348</td>\n",
       "      <td>-88.089163</td>\n",
       "    </tr>\n",
       "    <tr>\n",
       "      <th>2</th>\n",
       "      <td>2011-08-29</td>\n",
       "      <td>6:57:18 PM</td>\n",
       "      <td>42.391022</td>\n",
       "      <td>-88.089157</td>\n",
       "    </tr>\n",
       "    <tr>\n",
       "      <th>3</th>\n",
       "      <td>2011-08-29</td>\n",
       "      <td>6:57:28 PM</td>\n",
       "      <td>42.390637</td>\n",
       "      <td>-88.089158</td>\n",
       "    </tr>\n",
       "    <tr>\n",
       "      <th>4</th>\n",
       "      <td>2011-08-29</td>\n",
       "      <td>6:57:38 PM</td>\n",
       "      <td>42.390410</td>\n",
       "      <td>-88.088858</td>\n",
       "    </tr>\n",
       "  </tbody>\n",
       "</table>\n",
       "</div>"
      ],
      "text/plain": [
       "         Date        Time   Latitude  Longitude\n",
       "0  2011-08-29  6:56:58 PM  42.391623 -88.089163\n",
       "1  2011-08-29  6:57:08 PM  42.391348 -88.089163\n",
       "2  2011-08-29  6:57:18 PM  42.391022 -88.089157\n",
       "3  2011-08-29  6:57:28 PM  42.390637 -88.089158\n",
       "4  2011-08-29  6:57:38 PM  42.390410 -88.088858"
      ]
     },
     "execution_count": 42,
     "metadata": {},
     "output_type": "execute_result"
    }
   ],
   "source": [
    "spray.head()"
   ]
  },
  {
   "cell_type": "code",
   "execution_count": 43,
   "id": "90253969",
   "metadata": {},
   "outputs": [
    {
     "data": {
      "text/plain": [
       "(14835, 4)"
      ]
     },
     "execution_count": 43,
     "metadata": {},
     "output_type": "execute_result"
    }
   ],
   "source": [
    "spray.shape"
   ]
  },
  {
   "cell_type": "code",
   "execution_count": 44,
   "id": "df579655",
   "metadata": {},
   "outputs": [
    {
     "data": {
      "text/plain": [
       "2013-08-15    2668\n",
       "2013-08-29    2302\n",
       "2013-07-17    2202\n",
       "2011-09-07    2114\n",
       "2013-07-25    1607\n",
       "2013-08-22    1587\n",
       "2013-08-08    1195\n",
       "2013-09-05     924\n",
       "2013-08-16     141\n",
       "2011-08-29      95\n",
       "Name: Date, dtype: int64"
      ]
     },
     "execution_count": 44,
     "metadata": {},
     "output_type": "execute_result"
    }
   ],
   "source": [
    "spray.Date.value_counts()"
   ]
  },
  {
   "cell_type": "markdown",
   "id": "4364158c",
   "metadata": {},
   "source": [
    "## Weather Data"
   ]
  },
  {
   "cell_type": "code",
   "execution_count": 45,
   "id": "f288d742",
   "metadata": {
    "scrolled": false
   },
   "outputs": [
    {
     "data": {
      "text/html": [
       "<div>\n",
       "<style scoped>\n",
       "    .dataframe tbody tr th:only-of-type {\n",
       "        vertical-align: middle;\n",
       "    }\n",
       "\n",
       "    .dataframe tbody tr th {\n",
       "        vertical-align: top;\n",
       "    }\n",
       "\n",
       "    .dataframe thead th {\n",
       "        text-align: right;\n",
       "    }\n",
       "</style>\n",
       "<table border=\"1\" class=\"dataframe\">\n",
       "  <thead>\n",
       "    <tr style=\"text-align: right;\">\n",
       "      <th></th>\n",
       "      <th>Station</th>\n",
       "      <th>Date</th>\n",
       "      <th>Tmax</th>\n",
       "      <th>Tmin</th>\n",
       "      <th>Tavg</th>\n",
       "      <th>Depart</th>\n",
       "      <th>DewPoint</th>\n",
       "      <th>WetBulb</th>\n",
       "      <th>Heat</th>\n",
       "      <th>Cool</th>\n",
       "      <th>...</th>\n",
       "      <th>CodeSum</th>\n",
       "      <th>Depth</th>\n",
       "      <th>Water1</th>\n",
       "      <th>SnowFall</th>\n",
       "      <th>PrecipTotal</th>\n",
       "      <th>StnPressure</th>\n",
       "      <th>SeaLevel</th>\n",
       "      <th>ResultSpeed</th>\n",
       "      <th>ResultDir</th>\n",
       "      <th>AvgSpeed</th>\n",
       "    </tr>\n",
       "  </thead>\n",
       "  <tbody>\n",
       "    <tr>\n",
       "      <th>0</th>\n",
       "      <td>1</td>\n",
       "      <td>2007-05-01</td>\n",
       "      <td>83</td>\n",
       "      <td>50</td>\n",
       "      <td>67</td>\n",
       "      <td>14</td>\n",
       "      <td>51</td>\n",
       "      <td>56</td>\n",
       "      <td>0</td>\n",
       "      <td>2</td>\n",
       "      <td>...</td>\n",
       "      <td></td>\n",
       "      <td>0</td>\n",
       "      <td>M</td>\n",
       "      <td>0.0</td>\n",
       "      <td>0.00</td>\n",
       "      <td>29.10</td>\n",
       "      <td>29.82</td>\n",
       "      <td>1.7</td>\n",
       "      <td>27</td>\n",
       "      <td>9.2</td>\n",
       "    </tr>\n",
       "    <tr>\n",
       "      <th>1</th>\n",
       "      <td>2</td>\n",
       "      <td>2007-05-01</td>\n",
       "      <td>84</td>\n",
       "      <td>52</td>\n",
       "      <td>68</td>\n",
       "      <td>M</td>\n",
       "      <td>51</td>\n",
       "      <td>57</td>\n",
       "      <td>0</td>\n",
       "      <td>3</td>\n",
       "      <td>...</td>\n",
       "      <td></td>\n",
       "      <td>M</td>\n",
       "      <td>M</td>\n",
       "      <td>M</td>\n",
       "      <td>0.00</td>\n",
       "      <td>29.18</td>\n",
       "      <td>29.82</td>\n",
       "      <td>2.7</td>\n",
       "      <td>25</td>\n",
       "      <td>9.6</td>\n",
       "    </tr>\n",
       "    <tr>\n",
       "      <th>2</th>\n",
       "      <td>1</td>\n",
       "      <td>2007-05-02</td>\n",
       "      <td>59</td>\n",
       "      <td>42</td>\n",
       "      <td>51</td>\n",
       "      <td>-3</td>\n",
       "      <td>42</td>\n",
       "      <td>47</td>\n",
       "      <td>14</td>\n",
       "      <td>0</td>\n",
       "      <td>...</td>\n",
       "      <td>BR</td>\n",
       "      <td>0</td>\n",
       "      <td>M</td>\n",
       "      <td>0.0</td>\n",
       "      <td>0.00</td>\n",
       "      <td>29.38</td>\n",
       "      <td>30.09</td>\n",
       "      <td>13.0</td>\n",
       "      <td>4</td>\n",
       "      <td>13.4</td>\n",
       "    </tr>\n",
       "    <tr>\n",
       "      <th>3</th>\n",
       "      <td>2</td>\n",
       "      <td>2007-05-02</td>\n",
       "      <td>60</td>\n",
       "      <td>43</td>\n",
       "      <td>52</td>\n",
       "      <td>M</td>\n",
       "      <td>42</td>\n",
       "      <td>47</td>\n",
       "      <td>13</td>\n",
       "      <td>0</td>\n",
       "      <td>...</td>\n",
       "      <td>BR HZ</td>\n",
       "      <td>M</td>\n",
       "      <td>M</td>\n",
       "      <td>M</td>\n",
       "      <td>0.00</td>\n",
       "      <td>29.44</td>\n",
       "      <td>30.08</td>\n",
       "      <td>13.3</td>\n",
       "      <td>2</td>\n",
       "      <td>13.4</td>\n",
       "    </tr>\n",
       "    <tr>\n",
       "      <th>4</th>\n",
       "      <td>1</td>\n",
       "      <td>2007-05-03</td>\n",
       "      <td>66</td>\n",
       "      <td>46</td>\n",
       "      <td>56</td>\n",
       "      <td>2</td>\n",
       "      <td>40</td>\n",
       "      <td>48</td>\n",
       "      <td>9</td>\n",
       "      <td>0</td>\n",
       "      <td>...</td>\n",
       "      <td></td>\n",
       "      <td>0</td>\n",
       "      <td>M</td>\n",
       "      <td>0.0</td>\n",
       "      <td>0.00</td>\n",
       "      <td>29.39</td>\n",
       "      <td>30.12</td>\n",
       "      <td>11.7</td>\n",
       "      <td>7</td>\n",
       "      <td>11.9</td>\n",
       "    </tr>\n",
       "    <tr>\n",
       "      <th>5</th>\n",
       "      <td>2</td>\n",
       "      <td>2007-05-03</td>\n",
       "      <td>67</td>\n",
       "      <td>48</td>\n",
       "      <td>58</td>\n",
       "      <td>M</td>\n",
       "      <td>40</td>\n",
       "      <td>50</td>\n",
       "      <td>7</td>\n",
       "      <td>0</td>\n",
       "      <td>...</td>\n",
       "      <td>HZ</td>\n",
       "      <td>M</td>\n",
       "      <td>M</td>\n",
       "      <td>M</td>\n",
       "      <td>0.00</td>\n",
       "      <td>29.46</td>\n",
       "      <td>30.12</td>\n",
       "      <td>12.9</td>\n",
       "      <td>6</td>\n",
       "      <td>13.2</td>\n",
       "    </tr>\n",
       "    <tr>\n",
       "      <th>6</th>\n",
       "      <td>1</td>\n",
       "      <td>2007-05-04</td>\n",
       "      <td>66</td>\n",
       "      <td>49</td>\n",
       "      <td>58</td>\n",
       "      <td>4</td>\n",
       "      <td>41</td>\n",
       "      <td>50</td>\n",
       "      <td>7</td>\n",
       "      <td>0</td>\n",
       "      <td>...</td>\n",
       "      <td>RA</td>\n",
       "      <td>0</td>\n",
       "      <td>M</td>\n",
       "      <td>0.0</td>\n",
       "      <td>T</td>\n",
       "      <td>29.31</td>\n",
       "      <td>30.05</td>\n",
       "      <td>10.4</td>\n",
       "      <td>8</td>\n",
       "      <td>10.8</td>\n",
       "    </tr>\n",
       "    <tr>\n",
       "      <th>7</th>\n",
       "      <td>2</td>\n",
       "      <td>2007-05-04</td>\n",
       "      <td>78</td>\n",
       "      <td>51</td>\n",
       "      <td>M</td>\n",
       "      <td>M</td>\n",
       "      <td>42</td>\n",
       "      <td>50</td>\n",
       "      <td>M</td>\n",
       "      <td>M</td>\n",
       "      <td>...</td>\n",
       "      <td></td>\n",
       "      <td>M</td>\n",
       "      <td>M</td>\n",
       "      <td>M</td>\n",
       "      <td>0.00</td>\n",
       "      <td>29.36</td>\n",
       "      <td>30.04</td>\n",
       "      <td>10.1</td>\n",
       "      <td>7</td>\n",
       "      <td>10.4</td>\n",
       "    </tr>\n",
       "    <tr>\n",
       "      <th>8</th>\n",
       "      <td>1</td>\n",
       "      <td>2007-05-05</td>\n",
       "      <td>66</td>\n",
       "      <td>53</td>\n",
       "      <td>60</td>\n",
       "      <td>5</td>\n",
       "      <td>38</td>\n",
       "      <td>49</td>\n",
       "      <td>5</td>\n",
       "      <td>0</td>\n",
       "      <td>...</td>\n",
       "      <td></td>\n",
       "      <td>0</td>\n",
       "      <td>M</td>\n",
       "      <td>0.0</td>\n",
       "      <td>T</td>\n",
       "      <td>29.40</td>\n",
       "      <td>30.10</td>\n",
       "      <td>11.7</td>\n",
       "      <td>7</td>\n",
       "      <td>12.0</td>\n",
       "    </tr>\n",
       "    <tr>\n",
       "      <th>9</th>\n",
       "      <td>2</td>\n",
       "      <td>2007-05-05</td>\n",
       "      <td>66</td>\n",
       "      <td>54</td>\n",
       "      <td>60</td>\n",
       "      <td>M</td>\n",
       "      <td>39</td>\n",
       "      <td>50</td>\n",
       "      <td>5</td>\n",
       "      <td>0</td>\n",
       "      <td>...</td>\n",
       "      <td></td>\n",
       "      <td>M</td>\n",
       "      <td>M</td>\n",
       "      <td>M</td>\n",
       "      <td>T</td>\n",
       "      <td>29.46</td>\n",
       "      <td>30.09</td>\n",
       "      <td>11.2</td>\n",
       "      <td>7</td>\n",
       "      <td>11.5</td>\n",
       "    </tr>\n",
       "  </tbody>\n",
       "</table>\n",
       "<p>10 rows × 22 columns</p>\n",
       "</div>"
      ],
      "text/plain": [
       "   Station        Date  Tmax  Tmin Tavg Depart  DewPoint WetBulb Heat Cool  \\\n",
       "0        1  2007-05-01    83    50   67     14        51      56    0    2   \n",
       "1        2  2007-05-01    84    52   68      M        51      57    0    3   \n",
       "2        1  2007-05-02    59    42   51     -3        42      47   14    0   \n",
       "3        2  2007-05-02    60    43   52      M        42      47   13    0   \n",
       "4        1  2007-05-03    66    46   56      2        40      48    9    0   \n",
       "5        2  2007-05-03    67    48   58      M        40      50    7    0   \n",
       "6        1  2007-05-04    66    49   58      4        41      50    7    0   \n",
       "7        2  2007-05-04    78    51    M      M        42      50    M    M   \n",
       "8        1  2007-05-05    66    53   60      5        38      49    5    0   \n",
       "9        2  2007-05-05    66    54   60      M        39      50    5    0   \n",
       "\n",
       "   ... CodeSum Depth Water1 SnowFall PrecipTotal StnPressure SeaLevel  \\\n",
       "0  ...             0      M      0.0        0.00       29.10    29.82   \n",
       "1  ...             M      M        M        0.00       29.18    29.82   \n",
       "2  ...      BR     0      M      0.0        0.00       29.38    30.09   \n",
       "3  ...   BR HZ     M      M        M        0.00       29.44    30.08   \n",
       "4  ...             0      M      0.0        0.00       29.39    30.12   \n",
       "5  ...      HZ     M      M        M        0.00       29.46    30.12   \n",
       "6  ...      RA     0      M      0.0           T       29.31    30.05   \n",
       "7  ...             M      M        M        0.00       29.36    30.04   \n",
       "8  ...             0      M      0.0           T       29.40    30.10   \n",
       "9  ...             M      M        M           T       29.46    30.09   \n",
       "\n",
       "  ResultSpeed ResultDir  AvgSpeed  \n",
       "0         1.7        27       9.2  \n",
       "1         2.7        25       9.6  \n",
       "2        13.0         4      13.4  \n",
       "3        13.3         2      13.4  \n",
       "4        11.7         7      11.9  \n",
       "5        12.9         6      13.2  \n",
       "6        10.4         8      10.8  \n",
       "7        10.1         7      10.4  \n",
       "8        11.7         7      12.0  \n",
       "9        11.2         7      11.5  \n",
       "\n",
       "[10 rows x 22 columns]"
      ]
     },
     "execution_count": 45,
     "metadata": {},
     "output_type": "execute_result"
    }
   ],
   "source": [
    "# inspect weather dataframe\n",
    "weather.head(10)"
   ]
  },
  {
   "cell_type": "code",
   "execution_count": 46,
   "id": "268c09b6",
   "metadata": {},
   "outputs": [
    {
     "data": {
      "text/plain": [
       "(2944, 22)"
      ]
     },
     "execution_count": 46,
     "metadata": {},
     "output_type": "execute_result"
    }
   ],
   "source": [
    "# shape of weather\n",
    "weather.shape"
   ]
  },
  {
   "cell_type": "code",
   "execution_count": 47,
   "id": "e658b793",
   "metadata": {
    "scrolled": false
   },
   "outputs": [
    {
     "name": "stdout",
     "output_type": "stream",
     "text": [
      "<class 'pandas.core.frame.DataFrame'>\n",
      "RangeIndex: 2944 entries, 0 to 2943\n",
      "Data columns (total 22 columns):\n",
      " #   Column       Non-Null Count  Dtype  \n",
      "---  ------       --------------  -----  \n",
      " 0   Station      2944 non-null   int64  \n",
      " 1   Date         2944 non-null   object \n",
      " 2   Tmax         2944 non-null   int64  \n",
      " 3   Tmin         2944 non-null   int64  \n",
      " 4   Tavg         2944 non-null   object \n",
      " 5   Depart       2944 non-null   object \n",
      " 6   DewPoint     2944 non-null   int64  \n",
      " 7   WetBulb      2944 non-null   object \n",
      " 8   Heat         2944 non-null   object \n",
      " 9   Cool         2944 non-null   object \n",
      " 10  Sunrise      2944 non-null   object \n",
      " 11  Sunset       2944 non-null   object \n",
      " 12  CodeSum      2944 non-null   object \n",
      " 13  Depth        2944 non-null   object \n",
      " 14  Water1       2944 non-null   object \n",
      " 15  SnowFall     2944 non-null   object \n",
      " 16  PrecipTotal  2944 non-null   object \n",
      " 17  StnPressure  2944 non-null   object \n",
      " 18  SeaLevel     2944 non-null   object \n",
      " 19  ResultSpeed  2944 non-null   float64\n",
      " 20  ResultDir    2944 non-null   int64  \n",
      " 21  AvgSpeed     2944 non-null   object \n",
      "dtypes: float64(1), int64(5), object(16)\n",
      "memory usage: 506.1+ KB\n"
     ]
    }
   ],
   "source": [
    "# dtypes of weather\n",
    "weather.info()"
   ]
  },
  {
   "cell_type": "markdown",
   "id": "e0b8eeb0",
   "metadata": {},
   "source": [
    "   By looking at the provided pdf file about this data, we can see that any value marked as 'M' means there is missing data. Another thing to note is that there are a handful of columns that are object types that should be floats. We will also be converting integers to floats for continuity."
   ]
  },
  {
   "cell_type": "code",
   "execution_count": 48,
   "id": "bbb9779e",
   "metadata": {},
   "outputs": [],
   "source": [
    "# list of columns\n",
    "cols = list(weather.columns)"
   ]
  },
  {
   "cell_type": "code",
   "execution_count": 49,
   "id": "aee04136",
   "metadata": {},
   "outputs": [
    {
     "name": "stdout",
     "output_type": "stream",
     "text": [
      "Unique Dates at Station 1: 1472\n",
      "Unique Dates at Station 2: 1472\n"
     ]
    }
   ],
   "source": [
    "print('Unique Dates at Station 1: {}'.format(weather[weather['Station'] == 1].Date.nunique()))\n",
    "print('Unique Dates at Station 2: {}'.format(weather[weather['Station'] == 2].Date.nunique()))"
   ]
  },
  {
   "cell_type": "markdown",
   "id": "109a7f3a",
   "metadata": {},
   "source": [
    "##### Replacing `M` with `NaN`"
   ]
  },
  {
   "cell_type": "code",
   "execution_count": 50,
   "id": "7f057a19",
   "metadata": {
    "scrolled": false
   },
   "outputs": [
    {
     "data": {
      "text/html": [
       "<div>\n",
       "<style scoped>\n",
       "    .dataframe tbody tr th:only-of-type {\n",
       "        vertical-align: middle;\n",
       "    }\n",
       "\n",
       "    .dataframe tbody tr th {\n",
       "        vertical-align: top;\n",
       "    }\n",
       "\n",
       "    .dataframe thead th {\n",
       "        text-align: right;\n",
       "    }\n",
       "</style>\n",
       "<table border=\"1\" class=\"dataframe\">\n",
       "  <thead>\n",
       "    <tr style=\"text-align: right;\">\n",
       "      <th></th>\n",
       "      <th>Station</th>\n",
       "      <th>Date</th>\n",
       "      <th>Tmax</th>\n",
       "      <th>Tmin</th>\n",
       "      <th>Tavg</th>\n",
       "      <th>Depart</th>\n",
       "      <th>DewPoint</th>\n",
       "      <th>WetBulb</th>\n",
       "      <th>Heat</th>\n",
       "      <th>Cool</th>\n",
       "      <th>...</th>\n",
       "      <th>CodeSum</th>\n",
       "      <th>Depth</th>\n",
       "      <th>Water1</th>\n",
       "      <th>SnowFall</th>\n",
       "      <th>PrecipTotal</th>\n",
       "      <th>StnPressure</th>\n",
       "      <th>SeaLevel</th>\n",
       "      <th>ResultSpeed</th>\n",
       "      <th>ResultDir</th>\n",
       "      <th>AvgSpeed</th>\n",
       "    </tr>\n",
       "  </thead>\n",
       "  <tbody>\n",
       "    <tr>\n",
       "      <th>0</th>\n",
       "      <td>1</td>\n",
       "      <td>2007-05-01</td>\n",
       "      <td>83</td>\n",
       "      <td>50</td>\n",
       "      <td>67</td>\n",
       "      <td>14</td>\n",
       "      <td>51</td>\n",
       "      <td>56</td>\n",
       "      <td>0</td>\n",
       "      <td>2</td>\n",
       "      <td>...</td>\n",
       "      <td></td>\n",
       "      <td>0</td>\n",
       "      <td>NaN</td>\n",
       "      <td>0.0</td>\n",
       "      <td>0.00</td>\n",
       "      <td>29.10</td>\n",
       "      <td>29.82</td>\n",
       "      <td>1.7</td>\n",
       "      <td>27</td>\n",
       "      <td>9.2</td>\n",
       "    </tr>\n",
       "    <tr>\n",
       "      <th>1</th>\n",
       "      <td>2</td>\n",
       "      <td>2007-05-01</td>\n",
       "      <td>84</td>\n",
       "      <td>52</td>\n",
       "      <td>68</td>\n",
       "      <td>NaN</td>\n",
       "      <td>51</td>\n",
       "      <td>57</td>\n",
       "      <td>0</td>\n",
       "      <td>3</td>\n",
       "      <td>...</td>\n",
       "      <td></td>\n",
       "      <td>NaN</td>\n",
       "      <td>NaN</td>\n",
       "      <td>NaN</td>\n",
       "      <td>0.00</td>\n",
       "      <td>29.18</td>\n",
       "      <td>29.82</td>\n",
       "      <td>2.7</td>\n",
       "      <td>25</td>\n",
       "      <td>9.6</td>\n",
       "    </tr>\n",
       "    <tr>\n",
       "      <th>2</th>\n",
       "      <td>1</td>\n",
       "      <td>2007-05-02</td>\n",
       "      <td>59</td>\n",
       "      <td>42</td>\n",
       "      <td>51</td>\n",
       "      <td>-3</td>\n",
       "      <td>42</td>\n",
       "      <td>47</td>\n",
       "      <td>14</td>\n",
       "      <td>0</td>\n",
       "      <td>...</td>\n",
       "      <td>BR</td>\n",
       "      <td>0</td>\n",
       "      <td>NaN</td>\n",
       "      <td>0.0</td>\n",
       "      <td>0.00</td>\n",
       "      <td>29.38</td>\n",
       "      <td>30.09</td>\n",
       "      <td>13.0</td>\n",
       "      <td>4</td>\n",
       "      <td>13.4</td>\n",
       "    </tr>\n",
       "    <tr>\n",
       "      <th>3</th>\n",
       "      <td>2</td>\n",
       "      <td>2007-05-02</td>\n",
       "      <td>60</td>\n",
       "      <td>43</td>\n",
       "      <td>52</td>\n",
       "      <td>NaN</td>\n",
       "      <td>42</td>\n",
       "      <td>47</td>\n",
       "      <td>13</td>\n",
       "      <td>0</td>\n",
       "      <td>...</td>\n",
       "      <td>BR HZ</td>\n",
       "      <td>NaN</td>\n",
       "      <td>NaN</td>\n",
       "      <td>NaN</td>\n",
       "      <td>0.00</td>\n",
       "      <td>29.44</td>\n",
       "      <td>30.08</td>\n",
       "      <td>13.3</td>\n",
       "      <td>2</td>\n",
       "      <td>13.4</td>\n",
       "    </tr>\n",
       "    <tr>\n",
       "      <th>4</th>\n",
       "      <td>1</td>\n",
       "      <td>2007-05-03</td>\n",
       "      <td>66</td>\n",
       "      <td>46</td>\n",
       "      <td>56</td>\n",
       "      <td>2</td>\n",
       "      <td>40</td>\n",
       "      <td>48</td>\n",
       "      <td>9</td>\n",
       "      <td>0</td>\n",
       "      <td>...</td>\n",
       "      <td></td>\n",
       "      <td>0</td>\n",
       "      <td>NaN</td>\n",
       "      <td>0.0</td>\n",
       "      <td>0.00</td>\n",
       "      <td>29.39</td>\n",
       "      <td>30.12</td>\n",
       "      <td>11.7</td>\n",
       "      <td>7</td>\n",
       "      <td>11.9</td>\n",
       "    </tr>\n",
       "  </tbody>\n",
       "</table>\n",
       "<p>5 rows × 22 columns</p>\n",
       "</div>"
      ],
      "text/plain": [
       "   Station        Date  Tmax  Tmin Tavg Depart  DewPoint WetBulb Heat Cool  \\\n",
       "0        1  2007-05-01    83    50   67     14        51      56    0    2   \n",
       "1        2  2007-05-01    84    52   68    NaN        51      57    0    3   \n",
       "2        1  2007-05-02    59    42   51     -3        42      47   14    0   \n",
       "3        2  2007-05-02    60    43   52    NaN        42      47   13    0   \n",
       "4        1  2007-05-03    66    46   56      2        40      48    9    0   \n",
       "\n",
       "   ... CodeSum Depth Water1 SnowFall  PrecipTotal StnPressure SeaLevel  \\\n",
       "0  ...             0    NaN      0.0         0.00       29.10    29.82   \n",
       "1  ...           NaN    NaN      NaN         0.00       29.18    29.82   \n",
       "2  ...      BR     0    NaN      0.0         0.00       29.38    30.09   \n",
       "3  ...   BR HZ   NaN    NaN      NaN         0.00       29.44    30.08   \n",
       "4  ...             0    NaN      0.0         0.00       29.39    30.12   \n",
       "\n",
       "  ResultSpeed ResultDir  AvgSpeed  \n",
       "0         1.7        27       9.2  \n",
       "1         2.7        25       9.6  \n",
       "2        13.0         4      13.4  \n",
       "3        13.3         2      13.4  \n",
       "4        11.7         7      11.9  \n",
       "\n",
       "[5 rows x 22 columns]"
      ]
     },
     "execution_count": 50,
     "metadata": {},
     "output_type": "execute_result"
    }
   ],
   "source": [
    "# replacing 'M' with 'NaN'\n",
    "weather = weather.replace('M', np.nan)\n",
    "weather.head()"
   ]
  },
  {
   "cell_type": "markdown",
   "id": "4337bb28",
   "metadata": {},
   "source": [
    "#### Cleaning `Tmax` and `Tmin`  Columns"
   ]
  },
  {
   "cell_type": "code",
   "execution_count": 51,
   "id": "481c5207",
   "metadata": {},
   "outputs": [
    {
     "name": "stdout",
     "output_type": "stream",
     "text": [
      "[ 83  84  59  60  66  67  78  68  82  80  77  76  70  73  64  65  69  90\n",
      "  62  61  71  79  87  89  88  75  85  86  81  72  63  91  92  93  74  94\n",
      "  54  53  56  57  58  55  50  95  52  47  45  51  48  44  49  46  96  99\n",
      " 100 101  97  98 102 103 104  42  41]\n",
      "[50 52 42 43 46 48 49 51 53 54 47 60 61 63 56 59 44 57 45 55 66 65 70 68\n",
      " 62 67 64 58 71 69 73 75 72 74 39 41 40 37 34 38 35 36 33 31 32 76 77 29\n",
      " 78 79 80 81 82 83]\n"
     ]
    }
   ],
   "source": [
    "# unique values of Tmax and Tmin columns\n",
    "print(weather['Tmax'].unique())\n",
    "print(weather['Tmin'].unique())"
   ]
  },
  {
   "cell_type": "code",
   "execution_count": 52,
   "id": "4439bcff",
   "metadata": {},
   "outputs": [
    {
     "name": "stdout",
     "output_type": "stream",
     "text": [
      "0\n",
      "0\n"
     ]
    }
   ],
   "source": [
    "# number of missing values of Tmax and Tmin columns\n",
    "print(weather['Tmax'].isna().sum())\n",
    "print(weather['Tmin'].isna().sum())"
   ]
  },
  {
   "cell_type": "code",
   "execution_count": 53,
   "id": "d6d3580d",
   "metadata": {},
   "outputs": [],
   "source": [
    "# converting values to floats\n",
    "weather['Tmax'] = weather['Tmax'].astype(float)\n",
    "weather['Tmin'] = weather['Tmin'].astype(float)"
   ]
  },
  {
   "cell_type": "markdown",
   "id": "77ea2ef3",
   "metadata": {},
   "source": [
    "#### Cleaning `Tavg`  Column"
   ]
  },
  {
   "cell_type": "code",
   "execution_count": 54,
   "id": "d7be3ca1",
   "metadata": {},
   "outputs": [
    {
     "data": {
      "text/plain": [
       "array(['67', '68', '51', '52', '56', '58', nan, '60', '59', '65', '70',\n",
       "       '69', '71', '61', '55', '57', '73', '72', '53', '62', '63', '74',\n",
       "       '75', '78', '76', '77', '66', '80', '64', '81', '82', '79', '85',\n",
       "       '84', '83', '50', '49', '46', '48', '45', '54', '47', '44', '40',\n",
       "       '41', '38', '39', '42', '37', '43', '86', '87', '89', '92', '88',\n",
       "       '91', '93', '94', '90', '36'], dtype=object)"
      ]
     },
     "execution_count": 54,
     "metadata": {},
     "output_type": "execute_result"
    }
   ],
   "source": [
    "# unique values of Tavg column\n",
    "weather['Tavg'].unique()"
   ]
  },
  {
   "cell_type": "code",
   "execution_count": 55,
   "id": "f99bfdfc",
   "metadata": {},
   "outputs": [
    {
     "data": {
      "text/plain": [
       "11"
      ]
     },
     "execution_count": 55,
     "metadata": {},
     "output_type": "execute_result"
    }
   ],
   "source": [
    "# number of missing values in Tavg Column\n",
    "weather['Tavg'].isna().sum()"
   ]
  },
  {
   "cell_type": "code",
   "execution_count": 56,
   "id": "4aada0cf",
   "metadata": {},
   "outputs": [
    {
     "data": {
      "text/html": [
       "<div>\n",
       "<style scoped>\n",
       "    .dataframe tbody tr th:only-of-type {\n",
       "        vertical-align: middle;\n",
       "    }\n",
       "\n",
       "    .dataframe tbody tr th {\n",
       "        vertical-align: top;\n",
       "    }\n",
       "\n",
       "    .dataframe thead th {\n",
       "        text-align: right;\n",
       "    }\n",
       "</style>\n",
       "<table border=\"1\" class=\"dataframe\">\n",
       "  <thead>\n",
       "    <tr style=\"text-align: right;\">\n",
       "      <th></th>\n",
       "      <th>Station</th>\n",
       "      <th>Date</th>\n",
       "      <th>Tmax</th>\n",
       "      <th>Tmin</th>\n",
       "      <th>Tavg</th>\n",
       "      <th>Depart</th>\n",
       "      <th>DewPoint</th>\n",
       "      <th>WetBulb</th>\n",
       "      <th>Heat</th>\n",
       "      <th>Cool</th>\n",
       "      <th>...</th>\n",
       "      <th>CodeSum</th>\n",
       "      <th>Depth</th>\n",
       "      <th>Water1</th>\n",
       "      <th>SnowFall</th>\n",
       "      <th>PrecipTotal</th>\n",
       "      <th>StnPressure</th>\n",
       "      <th>SeaLevel</th>\n",
       "      <th>ResultSpeed</th>\n",
       "      <th>ResultDir</th>\n",
       "      <th>AvgSpeed</th>\n",
       "    </tr>\n",
       "  </thead>\n",
       "  <tbody>\n",
       "    <tr>\n",
       "      <th>7</th>\n",
       "      <td>2</td>\n",
       "      <td>2007-05-04</td>\n",
       "      <td>78.0</td>\n",
       "      <td>51.0</td>\n",
       "      <td>NaN</td>\n",
       "      <td>NaN</td>\n",
       "      <td>42</td>\n",
       "      <td>50</td>\n",
       "      <td>NaN</td>\n",
       "      <td>NaN</td>\n",
       "      <td>...</td>\n",
       "      <td></td>\n",
       "      <td>NaN</td>\n",
       "      <td>NaN</td>\n",
       "      <td>NaN</td>\n",
       "      <td>0.00</td>\n",
       "      <td>29.36</td>\n",
       "      <td>30.04</td>\n",
       "      <td>10.1</td>\n",
       "      <td>7</td>\n",
       "      <td>10.4</td>\n",
       "    </tr>\n",
       "    <tr>\n",
       "      <th>505</th>\n",
       "      <td>2</td>\n",
       "      <td>2008-07-08</td>\n",
       "      <td>86.0</td>\n",
       "      <td>46.0</td>\n",
       "      <td>NaN</td>\n",
       "      <td>NaN</td>\n",
       "      <td>68</td>\n",
       "      <td>71</td>\n",
       "      <td>NaN</td>\n",
       "      <td>NaN</td>\n",
       "      <td>...</td>\n",
       "      <td>TS RA</td>\n",
       "      <td>NaN</td>\n",
       "      <td>NaN</td>\n",
       "      <td>NaN</td>\n",
       "      <td>0.28</td>\n",
       "      <td>29.16</td>\n",
       "      <td>29.80</td>\n",
       "      <td>7.4</td>\n",
       "      <td>24</td>\n",
       "      <td>8.3</td>\n",
       "    </tr>\n",
       "    <tr>\n",
       "      <th>675</th>\n",
       "      <td>2</td>\n",
       "      <td>2008-10-01</td>\n",
       "      <td>62.0</td>\n",
       "      <td>46.0</td>\n",
       "      <td>NaN</td>\n",
       "      <td>NaN</td>\n",
       "      <td>41</td>\n",
       "      <td>47</td>\n",
       "      <td>NaN</td>\n",
       "      <td>NaN</td>\n",
       "      <td>...</td>\n",
       "      <td></td>\n",
       "      <td>NaN</td>\n",
       "      <td>NaN</td>\n",
       "      <td>NaN</td>\n",
       "      <td>0.00</td>\n",
       "      <td>29.30</td>\n",
       "      <td>29.96</td>\n",
       "      <td>10.9</td>\n",
       "      <td>33</td>\n",
       "      <td>11.0</td>\n",
       "    </tr>\n",
       "    <tr>\n",
       "      <th>1637</th>\n",
       "      <td>2</td>\n",
       "      <td>2011-07-22</td>\n",
       "      <td>100.0</td>\n",
       "      <td>71.0</td>\n",
       "      <td>NaN</td>\n",
       "      <td>NaN</td>\n",
       "      <td>70</td>\n",
       "      <td>74</td>\n",
       "      <td>NaN</td>\n",
       "      <td>NaN</td>\n",
       "      <td>...</td>\n",
       "      <td>TS TSRA BR</td>\n",
       "      <td>NaN</td>\n",
       "      <td>NaN</td>\n",
       "      <td>NaN</td>\n",
       "      <td>0.14</td>\n",
       "      <td>29.23</td>\n",
       "      <td>29.86</td>\n",
       "      <td>3.8</td>\n",
       "      <td>10</td>\n",
       "      <td>8.2</td>\n",
       "    </tr>\n",
       "    <tr>\n",
       "      <th>2067</th>\n",
       "      <td>2</td>\n",
       "      <td>2012-08-22</td>\n",
       "      <td>84.0</td>\n",
       "      <td>72.0</td>\n",
       "      <td>NaN</td>\n",
       "      <td>NaN</td>\n",
       "      <td>51</td>\n",
       "      <td>61</td>\n",
       "      <td>NaN</td>\n",
       "      <td>NaN</td>\n",
       "      <td>...</td>\n",
       "      <td></td>\n",
       "      <td>NaN</td>\n",
       "      <td>NaN</td>\n",
       "      <td>NaN</td>\n",
       "      <td>0.00</td>\n",
       "      <td>29.39</td>\n",
       "      <td>NaN</td>\n",
       "      <td>4.7</td>\n",
       "      <td>19</td>\n",
       "      <td>NaN</td>\n",
       "    </tr>\n",
       "    <tr>\n",
       "      <th>2211</th>\n",
       "      <td>2</td>\n",
       "      <td>2013-05-02</td>\n",
       "      <td>71.0</td>\n",
       "      <td>42.0</td>\n",
       "      <td>NaN</td>\n",
       "      <td>NaN</td>\n",
       "      <td>39</td>\n",
       "      <td>45</td>\n",
       "      <td>NaN</td>\n",
       "      <td>NaN</td>\n",
       "      <td>...</td>\n",
       "      <td></td>\n",
       "      <td>NaN</td>\n",
       "      <td>NaN</td>\n",
       "      <td>NaN</td>\n",
       "      <td>0.00</td>\n",
       "      <td>29.51</td>\n",
       "      <td>30.17</td>\n",
       "      <td>15.8</td>\n",
       "      <td>2</td>\n",
       "      <td>16.1</td>\n",
       "    </tr>\n",
       "    <tr>\n",
       "      <th>2501</th>\n",
       "      <td>2</td>\n",
       "      <td>2013-09-24</td>\n",
       "      <td>91.0</td>\n",
       "      <td>52.0</td>\n",
       "      <td>NaN</td>\n",
       "      <td>NaN</td>\n",
       "      <td>48</td>\n",
       "      <td>54</td>\n",
       "      <td>NaN</td>\n",
       "      <td>NaN</td>\n",
       "      <td>...</td>\n",
       "      <td></td>\n",
       "      <td>NaN</td>\n",
       "      <td>NaN</td>\n",
       "      <td>NaN</td>\n",
       "      <td>0.00</td>\n",
       "      <td>29.33</td>\n",
       "      <td>30.00</td>\n",
       "      <td>5.8</td>\n",
       "      <td>9</td>\n",
       "      <td>7.7</td>\n",
       "    </tr>\n",
       "    <tr>\n",
       "      <th>2511</th>\n",
       "      <td>2</td>\n",
       "      <td>2013-09-29</td>\n",
       "      <td>84.0</td>\n",
       "      <td>53.0</td>\n",
       "      <td>NaN</td>\n",
       "      <td>NaN</td>\n",
       "      <td>48</td>\n",
       "      <td>54</td>\n",
       "      <td>NaN</td>\n",
       "      <td>NaN</td>\n",
       "      <td>...</td>\n",
       "      <td>RA BR</td>\n",
       "      <td>NaN</td>\n",
       "      <td>NaN</td>\n",
       "      <td>NaN</td>\n",
       "      <td>0.22</td>\n",
       "      <td>29.36</td>\n",
       "      <td>30.01</td>\n",
       "      <td>6.3</td>\n",
       "      <td>36</td>\n",
       "      <td>7.8</td>\n",
       "    </tr>\n",
       "    <tr>\n",
       "      <th>2525</th>\n",
       "      <td>2</td>\n",
       "      <td>2013-10-06</td>\n",
       "      <td>76.0</td>\n",
       "      <td>48.0</td>\n",
       "      <td>NaN</td>\n",
       "      <td>NaN</td>\n",
       "      <td>44</td>\n",
       "      <td>50</td>\n",
       "      <td>NaN</td>\n",
       "      <td>NaN</td>\n",
       "      <td>...</td>\n",
       "      <td>RA DZ BR</td>\n",
       "      <td>NaN</td>\n",
       "      <td>NaN</td>\n",
       "      <td>NaN</td>\n",
       "      <td>0.06</td>\n",
       "      <td>29.10</td>\n",
       "      <td>29.76</td>\n",
       "      <td>10.1</td>\n",
       "      <td>25</td>\n",
       "      <td>10.6</td>\n",
       "    </tr>\n",
       "    <tr>\n",
       "      <th>2579</th>\n",
       "      <td>2</td>\n",
       "      <td>2014-05-02</td>\n",
       "      <td>80.0</td>\n",
       "      <td>47.0</td>\n",
       "      <td>NaN</td>\n",
       "      <td>NaN</td>\n",
       "      <td>43</td>\n",
       "      <td>47</td>\n",
       "      <td>NaN</td>\n",
       "      <td>NaN</td>\n",
       "      <td>...</td>\n",
       "      <td>RA</td>\n",
       "      <td>NaN</td>\n",
       "      <td>NaN</td>\n",
       "      <td>NaN</td>\n",
       "      <td>0.04</td>\n",
       "      <td>29.10</td>\n",
       "      <td>29.79</td>\n",
       "      <td>10.7</td>\n",
       "      <td>23</td>\n",
       "      <td>11.9</td>\n",
       "    </tr>\n",
       "    <tr>\n",
       "      <th>2811</th>\n",
       "      <td>2</td>\n",
       "      <td>2014-08-26</td>\n",
       "      <td>86.0</td>\n",
       "      <td>49.0</td>\n",
       "      <td>NaN</td>\n",
       "      <td>NaN</td>\n",
       "      <td>68</td>\n",
       "      <td>71</td>\n",
       "      <td>NaN</td>\n",
       "      <td>NaN</td>\n",
       "      <td>...</td>\n",
       "      <td></td>\n",
       "      <td>NaN</td>\n",
       "      <td>NaN</td>\n",
       "      <td>NaN</td>\n",
       "      <td>T</td>\n",
       "      <td>29.41</td>\n",
       "      <td>30.04</td>\n",
       "      <td>1.3</td>\n",
       "      <td>15</td>\n",
       "      <td>5.8</td>\n",
       "    </tr>\n",
       "  </tbody>\n",
       "</table>\n",
       "<p>11 rows × 22 columns</p>\n",
       "</div>"
      ],
      "text/plain": [
       "      Station        Date   Tmax  Tmin Tavg Depart  DewPoint WetBulb Heat  \\\n",
       "7           2  2007-05-04   78.0  51.0  NaN    NaN        42      50  NaN   \n",
       "505         2  2008-07-08   86.0  46.0  NaN    NaN        68      71  NaN   \n",
       "675         2  2008-10-01   62.0  46.0  NaN    NaN        41      47  NaN   \n",
       "1637        2  2011-07-22  100.0  71.0  NaN    NaN        70      74  NaN   \n",
       "2067        2  2012-08-22   84.0  72.0  NaN    NaN        51      61  NaN   \n",
       "2211        2  2013-05-02   71.0  42.0  NaN    NaN        39      45  NaN   \n",
       "2501        2  2013-09-24   91.0  52.0  NaN    NaN        48      54  NaN   \n",
       "2511        2  2013-09-29   84.0  53.0  NaN    NaN        48      54  NaN   \n",
       "2525        2  2013-10-06   76.0  48.0  NaN    NaN        44      50  NaN   \n",
       "2579        2  2014-05-02   80.0  47.0  NaN    NaN        43      47  NaN   \n",
       "2811        2  2014-08-26   86.0  49.0  NaN    NaN        68      71  NaN   \n",
       "\n",
       "     Cool  ...     CodeSum Depth Water1 SnowFall  PrecipTotal StnPressure  \\\n",
       "7     NaN  ...               NaN    NaN      NaN         0.00       29.36   \n",
       "505   NaN  ...       TS RA   NaN    NaN      NaN         0.28       29.16   \n",
       "675   NaN  ...               NaN    NaN      NaN         0.00       29.30   \n",
       "1637  NaN  ...  TS TSRA BR   NaN    NaN      NaN         0.14       29.23   \n",
       "2067  NaN  ...               NaN    NaN      NaN         0.00       29.39   \n",
       "2211  NaN  ...               NaN    NaN      NaN         0.00       29.51   \n",
       "2501  NaN  ...               NaN    NaN      NaN         0.00       29.33   \n",
       "2511  NaN  ...       RA BR   NaN    NaN      NaN         0.22       29.36   \n",
       "2525  NaN  ...    RA DZ BR   NaN    NaN      NaN         0.06       29.10   \n",
       "2579  NaN  ...          RA   NaN    NaN      NaN         0.04       29.10   \n",
       "2811  NaN  ...               NaN    NaN      NaN            T       29.41   \n",
       "\n",
       "     SeaLevel ResultSpeed ResultDir  AvgSpeed  \n",
       "7       30.04        10.1         7      10.4  \n",
       "505     29.80         7.4        24       8.3  \n",
       "675     29.96        10.9        33      11.0  \n",
       "1637    29.86         3.8        10       8.2  \n",
       "2067      NaN         4.7        19       NaN  \n",
       "2211    30.17        15.8         2      16.1  \n",
       "2501    30.00         5.8         9       7.7  \n",
       "2511    30.01         6.3        36       7.8  \n",
       "2525    29.76        10.1        25      10.6  \n",
       "2579    29.79        10.7        23      11.9  \n",
       "2811    30.04         1.3        15       5.8  \n",
       "\n",
       "[11 rows x 22 columns]"
      ]
     },
     "execution_count": 56,
     "metadata": {},
     "output_type": "execute_result"
    }
   ],
   "source": [
    "# columns with missing Tavg values\n",
    "weather[weather['Tavg'].isna()]"
   ]
  },
  {
   "cell_type": "markdown",
   "id": "9a8e2e67",
   "metadata": {},
   "source": [
    "Since the rows with missing values in the `Tavg` column have values in the `Tmax` and `Tmin` columns, we will simply recalculate the average temperature from  `Tmax` and `Tmin` into a new column and drop the current `Tavg` column."
   ]
  },
  {
   "cell_type": "code",
   "execution_count": 57,
   "id": "05a1a9e7",
   "metadata": {},
   "outputs": [],
   "source": [
    "# drop current Tavg column\n",
    "weather = weather.drop('Tavg', axis=1)"
   ]
  },
  {
   "cell_type": "code",
   "execution_count": 58,
   "id": "a4e511e4",
   "metadata": {},
   "outputs": [
    {
     "data": {
      "text/html": [
       "<div>\n",
       "<style scoped>\n",
       "    .dataframe tbody tr th:only-of-type {\n",
       "        vertical-align: middle;\n",
       "    }\n",
       "\n",
       "    .dataframe tbody tr th {\n",
       "        vertical-align: top;\n",
       "    }\n",
       "\n",
       "    .dataframe thead th {\n",
       "        text-align: right;\n",
       "    }\n",
       "</style>\n",
       "<table border=\"1\" class=\"dataframe\">\n",
       "  <thead>\n",
       "    <tr style=\"text-align: right;\">\n",
       "      <th></th>\n",
       "      <th>Station</th>\n",
       "      <th>Date</th>\n",
       "      <th>Tmax</th>\n",
       "      <th>Tmin</th>\n",
       "      <th>Depart</th>\n",
       "      <th>DewPoint</th>\n",
       "      <th>WetBulb</th>\n",
       "      <th>Heat</th>\n",
       "      <th>Cool</th>\n",
       "      <th>Sunrise</th>\n",
       "      <th>...</th>\n",
       "      <th>Depth</th>\n",
       "      <th>Water1</th>\n",
       "      <th>SnowFall</th>\n",
       "      <th>PrecipTotal</th>\n",
       "      <th>StnPressure</th>\n",
       "      <th>SeaLevel</th>\n",
       "      <th>ResultSpeed</th>\n",
       "      <th>ResultDir</th>\n",
       "      <th>AvgSpeed</th>\n",
       "      <th>Tavg</th>\n",
       "    </tr>\n",
       "  </thead>\n",
       "  <tbody>\n",
       "    <tr>\n",
       "      <th>0</th>\n",
       "      <td>1</td>\n",
       "      <td>2007-05-01</td>\n",
       "      <td>83.0</td>\n",
       "      <td>50.0</td>\n",
       "      <td>14</td>\n",
       "      <td>51</td>\n",
       "      <td>56</td>\n",
       "      <td>0</td>\n",
       "      <td>2</td>\n",
       "      <td>0448</td>\n",
       "      <td>...</td>\n",
       "      <td>0</td>\n",
       "      <td>NaN</td>\n",
       "      <td>0.0</td>\n",
       "      <td>0.00</td>\n",
       "      <td>29.10</td>\n",
       "      <td>29.82</td>\n",
       "      <td>1.7</td>\n",
       "      <td>27</td>\n",
       "      <td>9.2</td>\n",
       "      <td>66.5</td>\n",
       "    </tr>\n",
       "    <tr>\n",
       "      <th>1</th>\n",
       "      <td>2</td>\n",
       "      <td>2007-05-01</td>\n",
       "      <td>84.0</td>\n",
       "      <td>52.0</td>\n",
       "      <td>NaN</td>\n",
       "      <td>51</td>\n",
       "      <td>57</td>\n",
       "      <td>0</td>\n",
       "      <td>3</td>\n",
       "      <td>-</td>\n",
       "      <td>...</td>\n",
       "      <td>NaN</td>\n",
       "      <td>NaN</td>\n",
       "      <td>NaN</td>\n",
       "      <td>0.00</td>\n",
       "      <td>29.18</td>\n",
       "      <td>29.82</td>\n",
       "      <td>2.7</td>\n",
       "      <td>25</td>\n",
       "      <td>9.6</td>\n",
       "      <td>68.0</td>\n",
       "    </tr>\n",
       "    <tr>\n",
       "      <th>2</th>\n",
       "      <td>1</td>\n",
       "      <td>2007-05-02</td>\n",
       "      <td>59.0</td>\n",
       "      <td>42.0</td>\n",
       "      <td>-3</td>\n",
       "      <td>42</td>\n",
       "      <td>47</td>\n",
       "      <td>14</td>\n",
       "      <td>0</td>\n",
       "      <td>0447</td>\n",
       "      <td>...</td>\n",
       "      <td>0</td>\n",
       "      <td>NaN</td>\n",
       "      <td>0.0</td>\n",
       "      <td>0.00</td>\n",
       "      <td>29.38</td>\n",
       "      <td>30.09</td>\n",
       "      <td>13.0</td>\n",
       "      <td>4</td>\n",
       "      <td>13.4</td>\n",
       "      <td>50.5</td>\n",
       "    </tr>\n",
       "    <tr>\n",
       "      <th>3</th>\n",
       "      <td>2</td>\n",
       "      <td>2007-05-02</td>\n",
       "      <td>60.0</td>\n",
       "      <td>43.0</td>\n",
       "      <td>NaN</td>\n",
       "      <td>42</td>\n",
       "      <td>47</td>\n",
       "      <td>13</td>\n",
       "      <td>0</td>\n",
       "      <td>-</td>\n",
       "      <td>...</td>\n",
       "      <td>NaN</td>\n",
       "      <td>NaN</td>\n",
       "      <td>NaN</td>\n",
       "      <td>0.00</td>\n",
       "      <td>29.44</td>\n",
       "      <td>30.08</td>\n",
       "      <td>13.3</td>\n",
       "      <td>2</td>\n",
       "      <td>13.4</td>\n",
       "      <td>51.5</td>\n",
       "    </tr>\n",
       "    <tr>\n",
       "      <th>4</th>\n",
       "      <td>1</td>\n",
       "      <td>2007-05-03</td>\n",
       "      <td>66.0</td>\n",
       "      <td>46.0</td>\n",
       "      <td>2</td>\n",
       "      <td>40</td>\n",
       "      <td>48</td>\n",
       "      <td>9</td>\n",
       "      <td>0</td>\n",
       "      <td>0446</td>\n",
       "      <td>...</td>\n",
       "      <td>0</td>\n",
       "      <td>NaN</td>\n",
       "      <td>0.0</td>\n",
       "      <td>0.00</td>\n",
       "      <td>29.39</td>\n",
       "      <td>30.12</td>\n",
       "      <td>11.7</td>\n",
       "      <td>7</td>\n",
       "      <td>11.9</td>\n",
       "      <td>56.0</td>\n",
       "    </tr>\n",
       "  </tbody>\n",
       "</table>\n",
       "<p>5 rows × 22 columns</p>\n",
       "</div>"
      ],
      "text/plain": [
       "   Station        Date  Tmax  Tmin Depart  DewPoint WetBulb Heat Cool Sunrise  \\\n",
       "0        1  2007-05-01  83.0  50.0     14        51      56    0    2    0448   \n",
       "1        2  2007-05-01  84.0  52.0    NaN        51      57    0    3       -   \n",
       "2        1  2007-05-02  59.0  42.0     -3        42      47   14    0    0447   \n",
       "3        2  2007-05-02  60.0  43.0    NaN        42      47   13    0       -   \n",
       "4        1  2007-05-03  66.0  46.0      2        40      48    9    0    0446   \n",
       "\n",
       "   ... Depth Water1 SnowFall  PrecipTotal StnPressure SeaLevel ResultSpeed  \\\n",
       "0  ...     0    NaN      0.0         0.00       29.10    29.82         1.7   \n",
       "1  ...   NaN    NaN      NaN         0.00       29.18    29.82         2.7   \n",
       "2  ...     0    NaN      0.0         0.00       29.38    30.09        13.0   \n",
       "3  ...   NaN    NaN      NaN         0.00       29.44    30.08        13.3   \n",
       "4  ...     0    NaN      0.0         0.00       29.39    30.12        11.7   \n",
       "\n",
       "  ResultDir  AvgSpeed  Tavg  \n",
       "0        27       9.2  66.5  \n",
       "1        25       9.6  68.0  \n",
       "2         4      13.4  50.5  \n",
       "3         2      13.4  51.5  \n",
       "4         7      11.9  56.0  \n",
       "\n",
       "[5 rows x 22 columns]"
      ]
     },
     "execution_count": 58,
     "metadata": {},
     "output_type": "execute_result"
    }
   ],
   "source": [
    "# recalculate new Tavg from Tmax and Tmin\n",
    "weather['Tavg'] = (weather['Tmax'] + weather['Tmin']) /2\n",
    "weather.head()"
   ]
  },
  {
   "cell_type": "markdown",
   "id": "db9a6d80",
   "metadata": {
    "scrolled": true
   },
   "source": [
    "We want to rearrange the columns so the new `Tavg` column is next to the `Tmin` column."
   ]
  },
  {
   "cell_type": "code",
   "execution_count": 59,
   "id": "27db928f",
   "metadata": {
    "scrolled": false
   },
   "outputs": [
    {
     "data": {
      "text/html": [
       "<div>\n",
       "<style scoped>\n",
       "    .dataframe tbody tr th:only-of-type {\n",
       "        vertical-align: middle;\n",
       "    }\n",
       "\n",
       "    .dataframe tbody tr th {\n",
       "        vertical-align: top;\n",
       "    }\n",
       "\n",
       "    .dataframe thead th {\n",
       "        text-align: right;\n",
       "    }\n",
       "</style>\n",
       "<table border=\"1\" class=\"dataframe\">\n",
       "  <thead>\n",
       "    <tr style=\"text-align: right;\">\n",
       "      <th></th>\n",
       "      <th>Station</th>\n",
       "      <th>Date</th>\n",
       "      <th>Tmax</th>\n",
       "      <th>Tmin</th>\n",
       "      <th>Tavg</th>\n",
       "      <th>Depart</th>\n",
       "      <th>DewPoint</th>\n",
       "      <th>WetBulb</th>\n",
       "      <th>Heat</th>\n",
       "      <th>Cool</th>\n",
       "      <th>...</th>\n",
       "      <th>CodeSum</th>\n",
       "      <th>Depth</th>\n",
       "      <th>Water1</th>\n",
       "      <th>SnowFall</th>\n",
       "      <th>PrecipTotal</th>\n",
       "      <th>StnPressure</th>\n",
       "      <th>SeaLevel</th>\n",
       "      <th>ResultSpeed</th>\n",
       "      <th>ResultDir</th>\n",
       "      <th>AvgSpeed</th>\n",
       "    </tr>\n",
       "  </thead>\n",
       "  <tbody>\n",
       "    <tr>\n",
       "      <th>0</th>\n",
       "      <td>1</td>\n",
       "      <td>2007-05-01</td>\n",
       "      <td>83.0</td>\n",
       "      <td>50.0</td>\n",
       "      <td>66.5</td>\n",
       "      <td>14</td>\n",
       "      <td>51</td>\n",
       "      <td>56</td>\n",
       "      <td>0</td>\n",
       "      <td>2</td>\n",
       "      <td>...</td>\n",
       "      <td></td>\n",
       "      <td>0</td>\n",
       "      <td>NaN</td>\n",
       "      <td>0.0</td>\n",
       "      <td>0.00</td>\n",
       "      <td>29.10</td>\n",
       "      <td>29.82</td>\n",
       "      <td>1.7</td>\n",
       "      <td>27</td>\n",
       "      <td>9.2</td>\n",
       "    </tr>\n",
       "    <tr>\n",
       "      <th>1</th>\n",
       "      <td>2</td>\n",
       "      <td>2007-05-01</td>\n",
       "      <td>84.0</td>\n",
       "      <td>52.0</td>\n",
       "      <td>68.0</td>\n",
       "      <td>NaN</td>\n",
       "      <td>51</td>\n",
       "      <td>57</td>\n",
       "      <td>0</td>\n",
       "      <td>3</td>\n",
       "      <td>...</td>\n",
       "      <td></td>\n",
       "      <td>NaN</td>\n",
       "      <td>NaN</td>\n",
       "      <td>NaN</td>\n",
       "      <td>0.00</td>\n",
       "      <td>29.18</td>\n",
       "      <td>29.82</td>\n",
       "      <td>2.7</td>\n",
       "      <td>25</td>\n",
       "      <td>9.6</td>\n",
       "    </tr>\n",
       "    <tr>\n",
       "      <th>2</th>\n",
       "      <td>1</td>\n",
       "      <td>2007-05-02</td>\n",
       "      <td>59.0</td>\n",
       "      <td>42.0</td>\n",
       "      <td>50.5</td>\n",
       "      <td>-3</td>\n",
       "      <td>42</td>\n",
       "      <td>47</td>\n",
       "      <td>14</td>\n",
       "      <td>0</td>\n",
       "      <td>...</td>\n",
       "      <td>BR</td>\n",
       "      <td>0</td>\n",
       "      <td>NaN</td>\n",
       "      <td>0.0</td>\n",
       "      <td>0.00</td>\n",
       "      <td>29.38</td>\n",
       "      <td>30.09</td>\n",
       "      <td>13.0</td>\n",
       "      <td>4</td>\n",
       "      <td>13.4</td>\n",
       "    </tr>\n",
       "    <tr>\n",
       "      <th>3</th>\n",
       "      <td>2</td>\n",
       "      <td>2007-05-02</td>\n",
       "      <td>60.0</td>\n",
       "      <td>43.0</td>\n",
       "      <td>51.5</td>\n",
       "      <td>NaN</td>\n",
       "      <td>42</td>\n",
       "      <td>47</td>\n",
       "      <td>13</td>\n",
       "      <td>0</td>\n",
       "      <td>...</td>\n",
       "      <td>BR HZ</td>\n",
       "      <td>NaN</td>\n",
       "      <td>NaN</td>\n",
       "      <td>NaN</td>\n",
       "      <td>0.00</td>\n",
       "      <td>29.44</td>\n",
       "      <td>30.08</td>\n",
       "      <td>13.3</td>\n",
       "      <td>2</td>\n",
       "      <td>13.4</td>\n",
       "    </tr>\n",
       "    <tr>\n",
       "      <th>4</th>\n",
       "      <td>1</td>\n",
       "      <td>2007-05-03</td>\n",
       "      <td>66.0</td>\n",
       "      <td>46.0</td>\n",
       "      <td>56.0</td>\n",
       "      <td>2</td>\n",
       "      <td>40</td>\n",
       "      <td>48</td>\n",
       "      <td>9</td>\n",
       "      <td>0</td>\n",
       "      <td>...</td>\n",
       "      <td></td>\n",
       "      <td>0</td>\n",
       "      <td>NaN</td>\n",
       "      <td>0.0</td>\n",
       "      <td>0.00</td>\n",
       "      <td>29.39</td>\n",
       "      <td>30.12</td>\n",
       "      <td>11.7</td>\n",
       "      <td>7</td>\n",
       "      <td>11.9</td>\n",
       "    </tr>\n",
       "  </tbody>\n",
       "</table>\n",
       "<p>5 rows × 22 columns</p>\n",
       "</div>"
      ],
      "text/plain": [
       "   Station        Date  Tmax  Tmin  Tavg Depart  DewPoint WetBulb Heat Cool  \\\n",
       "0        1  2007-05-01  83.0  50.0  66.5     14        51      56    0    2   \n",
       "1        2  2007-05-01  84.0  52.0  68.0    NaN        51      57    0    3   \n",
       "2        1  2007-05-02  59.0  42.0  50.5     -3        42      47   14    0   \n",
       "3        2  2007-05-02  60.0  43.0  51.5    NaN        42      47   13    0   \n",
       "4        1  2007-05-03  66.0  46.0  56.0      2        40      48    9    0   \n",
       "\n",
       "   ... CodeSum Depth Water1 SnowFall  PrecipTotal StnPressure SeaLevel  \\\n",
       "0  ...             0    NaN      0.0         0.00       29.10    29.82   \n",
       "1  ...           NaN    NaN      NaN         0.00       29.18    29.82   \n",
       "2  ...      BR     0    NaN      0.0         0.00       29.38    30.09   \n",
       "3  ...   BR HZ   NaN    NaN      NaN         0.00       29.44    30.08   \n",
       "4  ...             0    NaN      0.0         0.00       29.39    30.12   \n",
       "\n",
       "  ResultSpeed ResultDir  AvgSpeed  \n",
       "0         1.7        27       9.2  \n",
       "1         2.7        25       9.6  \n",
       "2        13.0         4      13.4  \n",
       "3        13.3         2      13.4  \n",
       "4        11.7         7      11.9  \n",
       "\n",
       "[5 rows x 22 columns]"
      ]
     },
     "execution_count": 59,
     "metadata": {},
     "output_type": "execute_result"
    }
   ],
   "source": [
    "# rearrange columns\n",
    "weather = weather[['Station', 'Date', 'Tmax', 'Tmin', 'Tavg', 'Depart', 'DewPoint', 'WetBulb', 'Heat',\\\n",
    "                      'Cool', 'Sunrise', 'Sunset', 'CodeSum', 'Depth', 'Water1', 'SnowFall', 'PrecipTotal',\\\n",
    "                      'StnPressure', 'SeaLevel', 'ResultSpeed', 'ResultDir', 'AvgSpeed']]\n",
    "weather.head()"
   ]
  },
  {
   "cell_type": "markdown",
   "id": "a99f26b5",
   "metadata": {},
   "source": [
    "#### Cleaning `Depart`, `DewPoint`, `WetBulb`, `Heat`, and `Cool` Columns"
   ]
  },
  {
   "cell_type": "code",
   "execution_count": 60,
   "id": "3d85f2a3",
   "metadata": {
    "scrolled": true
   },
   "outputs": [
    {
     "data": {
      "text/plain": [
       "array(['14', nan, '-3', ' 2', ' 4', ' 5', '10', '12', '13', '-2', '15',\n",
       "       '11', '-4', '-6', ' 8', '-5', ' 1', ' 9', ' 6', '-9', '-8', ' 3',\n",
       "       ' 0', '-1', '-7', ' 7', '-14', '18', '16', '22', '21', '20', '-10',\n",
       "       '-16', '17', '-12', '-11', '-15', '-17', '19', '-13', '23'],\n",
       "      dtype=object)"
      ]
     },
     "execution_count": 60,
     "metadata": {},
     "output_type": "execute_result"
    }
   ],
   "source": [
    "# unique values of 'Depart' column\n",
    "weather['Depart'].unique()"
   ]
  },
  {
   "cell_type": "code",
   "execution_count": 61,
   "id": "5057c4f6",
   "metadata": {},
   "outputs": [
    {
     "data": {
      "text/plain": [
       "array([51, 42, 40, 41, 38, 39, 30, 58, 57, 59, 60, 52, 44, 36, 37, 33, 32,\n",
       "       47, 45, 56, 43, 31, 50, 46, 49, 48, 54, 53, 55, 61, 63, 62, 64, 65,\n",
       "       66, 67, 69, 70, 68, 71, 72, 73, 35, 34, 29, 27, 28, 23, 24, 25, 22,\n",
       "       26, 75, 74])"
      ]
     },
     "execution_count": 61,
     "metadata": {},
     "output_type": "execute_result"
    }
   ],
   "source": [
    "# unique values of 'DewPoint' column\n",
    "weather['DewPoint'].unique()"
   ]
  },
  {
   "cell_type": "code",
   "execution_count": 62,
   "id": "1dc6c1ea",
   "metadata": {},
   "outputs": [
    {
     "data": {
      "text/plain": [
       "array(['56', '57', '47', '48', '50', '49', '46', '54', '53', '62', '63',\n",
       "       '60', '61', '51', '59', '58', '43', '44', '45', '65', '66', '67',\n",
       "       '64', '52', '55', '69', '68', '70', '72', '71', '73', '74', '76',\n",
       "       '42', '39', '40', '41', '35', '33', '34', nan, '75', '36', '32',\n",
       "       '38', '78', '77', '37'], dtype=object)"
      ]
     },
     "execution_count": 62,
     "metadata": {},
     "output_type": "execute_result"
    }
   ],
   "source": [
    "# unique values of 'WetBulb' column\n",
    "weather['WetBulb'].unique()"
   ]
  },
  {
   "cell_type": "code",
   "execution_count": 63,
   "id": "db25c2f1",
   "metadata": {},
   "outputs": [
    {
     "data": {
      "text/plain": [
       "array(['0', '14', '13', '9', '7', nan, '5', '6', '4', '10', '8', '12',\n",
       "       '3', '2', '1', '15', '16', '19', '17', '20', '11', '18', '21',\n",
       "       '25', '24', '27', '26', '23', '28', '22', '29'], dtype=object)"
      ]
     },
     "execution_count": 63,
     "metadata": {},
     "output_type": "execute_result"
    }
   ],
   "source": [
    "# unique values of 'Heat' column\n",
    "weather['Heat'].unique()"
   ]
  },
  {
   "cell_type": "code",
   "execution_count": 64,
   "id": "10cac60e",
   "metadata": {
    "scrolled": true
   },
   "outputs": [
    {
     "data": {
      "text/plain": [
       "array([' 2', ' 3', ' 0', nan, ' 5', ' 4', ' 6', ' 8', ' 7', ' 9', '10',\n",
       "       '13', '11', '12', ' 1', '15', '16', '17', '14', '20', '19', '18',\n",
       "       '21', '22', '24', '27', '23', '26', '28', '29', '25'], dtype=object)"
      ]
     },
     "execution_count": 64,
     "metadata": {},
     "output_type": "execute_result"
    }
   ],
   "source": [
    "# unique values of 'Cool' column\n",
    "weather['Cool'].unique()"
   ]
  },
  {
   "cell_type": "markdown",
   "id": "dbccca90",
   "metadata": {},
   "source": [
    "We can see that all of these columns are object types. We want to change this to float types."
   ]
  },
  {
   "cell_type": "code",
   "execution_count": 65,
   "id": "00f3a24a",
   "metadata": {
    "scrolled": true
   },
   "outputs": [],
   "source": [
    "weather['Depart'] = weather['Depart'].astype(float)\n",
    "weather['DewPoint'] = weather['DewPoint'].astype(float)\n",
    "weather['WetBulb'] = weather['WetBulb'].astype(float)\n",
    "weather['Heat'] = weather['Heat'].astype(float)\n",
    "weather['Cool'] = weather['Cool'].astype(float)"
   ]
  },
  {
   "cell_type": "markdown",
   "id": "7bb8949c",
   "metadata": {},
   "source": [
    "#### Cleaning `Sunrise` and `Sunset` Columns"
   ]
  },
  {
   "cell_type": "code",
   "execution_count": 66,
   "id": "0ea6a04a",
   "metadata": {},
   "outputs": [
    {
     "data": {
      "text/plain": [
       "array(['0448', '-', '0447', '0446', '0444', '0443', '0442', '0441',\n",
       "       '0439', '0438', '0437', '0436', '0435', '0434', '0433', '0432',\n",
       "       '0431', '0430', '0429', '0428', '0427', '0426', '0425', '0424',\n",
       "       '0423', '0422', '0421', '0420', '0419', '0418', '0417', '0416',\n",
       "       '0440', '0445', '0449', '0450', '0451', '0452', '0453', '0454',\n",
       "       '0455', '0456', '0457', '0458', '0459', '0500', '0501', '0502',\n",
       "       '0503', '0504', '0505', '0506', '0508', '0509', '0510', '0511',\n",
       "       '0512', '0513', '0514', '0515', '0516', '0517', '0518', '0519',\n",
       "       '0520', '0521', '0522', '0523', '0524', '0525', '0526', '0527',\n",
       "       '0528', '0529', '0530', '0531', '0532', '0533', '0535', '0536',\n",
       "       '0537', '0538', '0539', '0540', '0541', '0542', '0543', '0544',\n",
       "       '0545', '0546', '0547', '0548', '0549', '0550', '0552', '0553',\n",
       "       '0554', '0555', '0556', '0557', '0558', '0559', '0600', '0602',\n",
       "       '0603', '0604', '0605', '0606', '0607', '0608', '0610', '0611',\n",
       "       '0612', '0613', '0614', '0616', '0617', '0618', '0619', '0620',\n",
       "       '0622', '0623'], dtype=object)"
      ]
     },
     "execution_count": 66,
     "metadata": {},
     "output_type": "execute_result"
    }
   ],
   "source": [
    "# unique values of 'Sunrise' column\n",
    "weather['Sunrise'].unique()"
   ]
  },
  {
   "cell_type": "code",
   "execution_count": 67,
   "id": "f64beb01",
   "metadata": {
    "scrolled": true
   },
   "outputs": [
    {
     "data": {
      "text/plain": [
       "array(['1849', '-', '1850', '1851', '1852', '1853', '1855', '1856',\n",
       "       '1857', '1858', '1859', '1860', '1901', '1902', '1903', '1904',\n",
       "       '1905', '1906', '1907', '1908', '1909', '1910', '1911', '1912',\n",
       "       '1913', '1914', '1915', '1916', '1917', '1918', '1919', '1920',\n",
       "       '1921', '1922', '1923', '1924', '1925', '1926', '1927', '1928',\n",
       "       '1929', '1930', '1931', '1900', '1854', '1848', '1846', '1845',\n",
       "       '1843', '1842', '1840', '1839', '1837', '1835', '1834', '1832',\n",
       "       '1831', '1829', '1827', '1826', '1824', '1822', '1821', '1819',\n",
       "       '1817', '1815', '1814', '1812', '1810', '1809', '1807', '1805',\n",
       "       '1803', '1760', '1758', '1756', '1755', '1753', '1751', '1749',\n",
       "       '1748', '1746', '1744', '1742', '1741', '1739', '1737', '1735',\n",
       "       '1734', '1732', '1730', '1729', '1727', '1725', '1724', '1722',\n",
       "       '1720', '1719', '1717', '1715', '1714', '1712', '1711', '1709',\n",
       "       '1707', '1706', '1704', '1703', '1701', '1660', '1658', '1657',\n",
       "       '1656', '1654', '1653', '1651', '1650', '1649', '1647'],\n",
       "      dtype=object)"
      ]
     },
     "execution_count": 67,
     "metadata": {},
     "output_type": "execute_result"
    }
   ],
   "source": [
    "# unique values of 'Sunset' column\n",
    "weather['Sunset'].unique()"
   ]
  },
  {
   "cell_type": "markdown",
   "id": "d4149532",
   "metadata": {},
   "source": [
    "Both of these columns have `-` for missing values. We want to replace this with proper NaN values."
   ]
  },
  {
   "cell_type": "code",
   "execution_count": 68,
   "id": "fadd15db",
   "metadata": {},
   "outputs": [],
   "source": [
    "weather['Sunrise'] = weather['Sunrise'].replace('-', np.nan)\n",
    "weather['Sunset'] = weather['Sunset'].replace('-', np.nan)"
   ]
  },
  {
   "cell_type": "code",
   "execution_count": 69,
   "id": "bc659783",
   "metadata": {},
   "outputs": [],
   "source": [
    "weather['Sunrise'] = weather['Sunrise'].astype(float)\n",
    "weather['Sunset'] = weather['Sunset'].astype(float)"
   ]
  },
  {
   "cell_type": "code",
   "execution_count": 70,
   "id": "88fb0aa4",
   "metadata": {},
   "outputs": [
    {
     "data": {
      "text/plain": [
       "Station          int64\n",
       "Date            object\n",
       "Tmax           float64\n",
       "Tmin           float64\n",
       "Tavg           float64\n",
       "Depart         float64\n",
       "DewPoint       float64\n",
       "WetBulb        float64\n",
       "Heat           float64\n",
       "Cool           float64\n",
       "Sunrise        float64\n",
       "Sunset         float64\n",
       "CodeSum         object\n",
       "Depth           object\n",
       "Water1         float64\n",
       "SnowFall        object\n",
       "PrecipTotal     object\n",
       "StnPressure     object\n",
       "SeaLevel        object\n",
       "ResultSpeed    float64\n",
       "ResultDir        int64\n",
       "AvgSpeed        object\n",
       "dtype: object"
      ]
     },
     "execution_count": 70,
     "metadata": {},
     "output_type": "execute_result"
    }
   ],
   "source": [
    "weather.dtypes"
   ]
  },
  {
   "cell_type": "markdown",
   "id": "ed6aeaea",
   "metadata": {},
   "source": [
    "#### Cleaning `CodeSum` Column"
   ]
  },
  {
   "cell_type": "code",
   "execution_count": 71,
   "id": "07eedd88",
   "metadata": {
    "scrolled": true
   },
   "outputs": [
    {
     "data": {
      "text/plain": [
       "                         1609\n",
       "RA                        296\n",
       "RA BR                     238\n",
       "BR                        110\n",
       "TSRA RA BR                 92\n",
       "                         ... \n",
       "RA VCTS                     1\n",
       "RA DZ FG+ FG BR             1\n",
       "RA BR FU                    1\n",
       "TS TSRA RA BR HZ VCTS       1\n",
       "TSRA FG+ BR HZ              1\n",
       "Name: CodeSum, Length: 98, dtype: int64"
      ]
     },
     "execution_count": 71,
     "metadata": {},
     "output_type": "execute_result"
    }
   ],
   "source": [
    "# value counts for 'CodeSum' column\n",
    "weather['CodeSum'].value_counts()"
   ]
  },
  {
   "cell_type": "code",
   "execution_count": 72,
   "id": "c382d1e2",
   "metadata": {
    "scrolled": false
   },
   "outputs": [
    {
     "data": {
      "text/plain": [
       "array([' ', 'BR', 'BR HZ', 'HZ', 'RA', 'RA BR', 'TSRA RA BR', 'RA VCTS',\n",
       "       'TSRA RA', 'RA HZ', 'TSRA RA BR HZ', 'TSRA BR HZ', 'RA BR HZ VCTS',\n",
       "       'TSRA RA HZ', 'TSRA BR HZ VCTS', 'TSRA', 'TSRA BR HZ FU',\n",
       "       'TSRA RA HZ FU', 'BR HZ FU', 'TSRA RA VCTS', 'HZ VCTS', 'TSRA HZ',\n",
       "       'VCTS', 'RA BR VCTS', 'TSRA RA BR VCTS', 'TS TSRA RA BR HZ VCTS',\n",
       "       'DZ BR', 'TS TSRA RA BR HZ', 'TS TSRA BR HZ', 'RA BR HZ',\n",
       "       'TSRA RA DZ BR HZ', 'TS TSRA RA BR', 'TS RA BR', 'TS TSRA RA',\n",
       "       'TS TSRA RA BR VCTS', 'TS TSRA BR', 'TS RA', 'RA BCFG BR',\n",
       "       'TSRA BR', 'RA DZ FG+ BCFG BR', 'RA FG+ MIFG BR', 'RA DZ',\n",
       "       'RA DZ BR', 'TS TSRA RA HZ', 'TSRA RA FG+ FG BR',\n",
       "       'TSRA DZ FG+ FG BR HZ', 'TS BR', 'RA BR SQ', 'TS TSRA',\n",
       "       'TSRA RA BR HZ VCTS', 'BR VCTS', 'TS', 'FG+ BR HZ', 'RA SN',\n",
       "       'TSRA RA DZ BR', 'DZ BR HZ', 'RA BR FU', 'TS BR HZ', 'DZ',\n",
       "       'FG+ BR', 'FG+ FG BR', 'FG+ MIFG BR', 'TSRA RA FG BR',\n",
       "       'TSRA FG+ BR', 'RA DZ BR HZ', 'RA DZ SN', 'FG+ FG BR HZ',\n",
       "       'TS TSRA RA FG BR', 'BR HZ VCFG', 'TS RA FG+ FG BR',\n",
       "       'TSRA RA FG+ BR', 'RA DZ FG+ FG BR', 'TS TSRA RA VCTS', 'FU',\n",
       "       'TS TSRA VCFG', 'TS TSRA HZ', 'TS TSRA GR RA BR', 'RA FG BR',\n",
       "       'HZ FU', 'RA BR HZ FU', 'MIFG BCFG BR', 'FG+ BCFG BR',\n",
       "       'TSRA RA FG+ FG BR HZ', 'FG+', 'TSRA BR SQ', 'TSRA DZ BR HZ',\n",
       "       'RA BR HZ VCFG', 'RA FG+ BR', 'FG BR HZ', 'TS HZ',\n",
       "       'TS TSRA RA FG BR HZ', 'RA DZ FG+ BR', 'RA DZ FG+ BR HZ',\n",
       "       'TSRA FG+ BR HZ', 'RA BR VCFG', 'TS RA BR HZ', 'BCFG BR',\n",
       "       'RA SN BR'], dtype=object)"
      ]
     },
     "execution_count": 72,
     "metadata": {},
     "output_type": "execute_result"
    }
   ],
   "source": [
    "# unique values of 'CodeSum' column\n",
    "weather['CodeSum'].unique()"
   ]
  },
  {
   "cell_type": "markdown",
   "id": "a8b47a78",
   "metadata": {},
   "source": [
    "We can see that missing values are marked with `' '`. We want to replace that with proper `NaN` values."
   ]
  },
  {
   "cell_type": "code",
   "execution_count": 73,
   "id": "83be6c6b",
   "metadata": {
    "scrolled": false
   },
   "outputs": [
    {
     "data": {
      "text/plain": [
       "1609"
      ]
     },
     "execution_count": 73,
     "metadata": {},
     "output_type": "execute_result"
    }
   ],
   "source": [
    "# number of missing values in 'CodeSum' column before replacement\n",
    "weather[weather['CodeSum'] == ' '].shape[0]"
   ]
  },
  {
   "cell_type": "code",
   "execution_count": 74,
   "id": "f0dc7bcd",
   "metadata": {
    "scrolled": false
   },
   "outputs": [
    {
     "data": {
      "text/plain": [
       "1609"
      ]
     },
     "execution_count": 74,
     "metadata": {},
     "output_type": "execute_result"
    }
   ],
   "source": [
    "# replace ' ' values with proper NaN values in 'CodeSum' column\n",
    "weather['CodeSum'] = weather['CodeSum'].replace(' ', np.nan)\n",
    "weather['CodeSum'].isna().sum()"
   ]
  },
  {
   "cell_type": "code",
   "execution_count": 75,
   "id": "ea53dfb9",
   "metadata": {},
   "outputs": [
    {
     "data": {
      "text/plain": [
       "Index(['Station', 'Date', 'Tmax', 'Tmin', 'Tavg', 'Depart', 'DewPoint',\n",
       "       'WetBulb', 'Heat', 'Cool', 'Sunrise', 'Sunset', 'Depth', 'Water1',\n",
       "       'SnowFall', 'PrecipTotal', 'StnPressure', 'SeaLevel', 'ResultSpeed',\n",
       "       'ResultDir', 'AvgSpeed'],\n",
       "      dtype='object')"
      ]
     },
     "execution_count": 75,
     "metadata": {},
     "output_type": "execute_result"
    }
   ],
   "source": [
    "# drop 'CodeSum' column\n",
    "weather = weather.drop('CodeSum', axis=1)\n",
    "weather.columns"
   ]
  },
  {
   "cell_type": "markdown",
   "id": "56231a10",
   "metadata": {},
   "source": [
    "#### Cleaning `Depth` Column"
   ]
  },
  {
   "cell_type": "code",
   "execution_count": 76,
   "id": "9af4098b",
   "metadata": {},
   "outputs": [
    {
     "data": {
      "text/plain": [
       "array(['0', nan], dtype=object)"
      ]
     },
     "execution_count": 76,
     "metadata": {},
     "output_type": "execute_result"
    }
   ],
   "source": [
    "# unique values in the depth column\n",
    "weather['Depth'].unique()"
   ]
  },
  {
   "cell_type": "code",
   "execution_count": 77,
   "id": "132215b0",
   "metadata": {},
   "outputs": [
    {
     "data": {
      "text/plain": [
       "1472"
      ]
     },
     "execution_count": 77,
     "metadata": {},
     "output_type": "execute_result"
    }
   ],
   "source": [
    "# number of missing values in depth column\n",
    "weather['Depth'].isna().sum()"
   ]
  },
  {
   "cell_type": "code",
   "execution_count": 78,
   "id": "39b0440a",
   "metadata": {},
   "outputs": [
    {
     "data": {
      "text/plain": [
       "0    1472\n",
       "Name: Depth, dtype: int64"
      ]
     },
     "execution_count": 78,
     "metadata": {},
     "output_type": "execute_result"
    }
   ],
   "source": [
    "# value counts\n",
    "weather['Depth'].value_counts()"
   ]
  },
  {
   "cell_type": "markdown",
   "id": "4235e56d",
   "metadata": {},
   "source": [
    "We can see that half of the values are missing values and the remaining half are marked as `0`. This column is not very useful. We will drop this column."
   ]
  },
  {
   "cell_type": "code",
   "execution_count": 79,
   "id": "2b5612a2",
   "metadata": {},
   "outputs": [
    {
     "data": {
      "text/plain": [
       "Index(['Station', 'Date', 'Tmax', 'Tmin', 'Tavg', 'Depart', 'DewPoint',\n",
       "       'WetBulb', 'Heat', 'Cool', 'Sunrise', 'Sunset', 'Water1', 'SnowFall',\n",
       "       'PrecipTotal', 'StnPressure', 'SeaLevel', 'ResultSpeed', 'ResultDir',\n",
       "       'AvgSpeed'],\n",
       "      dtype='object')"
      ]
     },
     "execution_count": 79,
     "metadata": {},
     "output_type": "execute_result"
    }
   ],
   "source": [
    "# drop 'Depth' column\n",
    "weather = weather.drop('Depth', axis=1)\n",
    "weather.columns"
   ]
  },
  {
   "cell_type": "markdown",
   "id": "9c881a95",
   "metadata": {},
   "source": [
    "#### Cleaning `Water1` Column"
   ]
  },
  {
   "cell_type": "code",
   "execution_count": 80,
   "id": "fa0eb136",
   "metadata": {},
   "outputs": [
    {
     "data": {
      "text/plain": [
       "array([nan])"
      ]
     },
     "execution_count": 80,
     "metadata": {},
     "output_type": "execute_result"
    }
   ],
   "source": [
    "# unique values in 'Water1' column\n",
    "weather['Water1'].unique()"
   ]
  },
  {
   "cell_type": "markdown",
   "id": "b70d4f67",
   "metadata": {},
   "source": [
    "It looks like all the values in this column are missing. This column will not do us any good. We will drop this column."
   ]
  },
  {
   "cell_type": "code",
   "execution_count": 81,
   "id": "0d1bfbe7",
   "metadata": {},
   "outputs": [
    {
     "data": {
      "text/plain": [
       "Index(['Station', 'Date', 'Tmax', 'Tmin', 'Tavg', 'Depart', 'DewPoint',\n",
       "       'WetBulb', 'Heat', 'Cool', 'Sunrise', 'Sunset', 'SnowFall',\n",
       "       'PrecipTotal', 'StnPressure', 'SeaLevel', 'ResultSpeed', 'ResultDir',\n",
       "       'AvgSpeed'],\n",
       "      dtype='object')"
      ]
     },
     "execution_count": 81,
     "metadata": {},
     "output_type": "execute_result"
    }
   ],
   "source": [
    "# drop Water1 column\n",
    "weather = weather.drop('Water1', axis=1)\n",
    "weather.columns"
   ]
  },
  {
   "cell_type": "markdown",
   "id": "225d9df3",
   "metadata": {},
   "source": [
    "#### Cleaning `SnowFall` Column"
   ]
  },
  {
   "cell_type": "code",
   "execution_count": 82,
   "id": "cc1be4da",
   "metadata": {},
   "outputs": [
    {
     "data": {
      "text/plain": [
       "array(['0.0', nan, '  T', '0.1'], dtype=object)"
      ]
     },
     "execution_count": 82,
     "metadata": {},
     "output_type": "execute_result"
    }
   ],
   "source": [
    "# unique values in SnowFall column\n",
    "weather['SnowFall'].unique()"
   ]
  },
  {
   "cell_type": "code",
   "execution_count": 83,
   "id": "a452c78d",
   "metadata": {},
   "outputs": [
    {
     "data": {
      "text/plain": [
       "0.0    1459\n",
       "  T      12\n",
       "0.1       1\n",
       "Name: SnowFall, dtype: int64"
      ]
     },
     "execution_count": 83,
     "metadata": {},
     "output_type": "execute_result"
    }
   ],
   "source": [
    "weather['SnowFall'].value_counts()"
   ]
  },
  {
   "cell_type": "markdown",
   "id": "e4e28cb6",
   "metadata": {},
   "source": [
    "It looks like all but one value with snowfall data. This will not be very useful so we can drop this column."
   ]
  },
  {
   "cell_type": "code",
   "execution_count": 84,
   "id": "3c9f0938",
   "metadata": {},
   "outputs": [
    {
     "data": {
      "text/plain": [
       "Index(['Station', 'Date', 'Tmax', 'Tmin', 'Tavg', 'Depart', 'DewPoint',\n",
       "       'WetBulb', 'Heat', 'Cool', 'Sunrise', 'Sunset', 'PrecipTotal',\n",
       "       'StnPressure', 'SeaLevel', 'ResultSpeed', 'ResultDir', 'AvgSpeed'],\n",
       "      dtype='object')"
      ]
     },
     "execution_count": 84,
     "metadata": {},
     "output_type": "execute_result"
    }
   ],
   "source": [
    "# drop Water1 column\n",
    "weather = weather.drop('SnowFall', axis=1)\n",
    "weather.columns"
   ]
  },
  {
   "cell_type": "markdown",
   "id": "63b4ff64",
   "metadata": {},
   "source": [
    "#### Cleaning `PrecipTotal` Column"
   ]
  },
  {
   "cell_type": "code",
   "execution_count": 85,
   "id": "d27ea574",
   "metadata": {},
   "outputs": [
    {
     "data": {
      "text/plain": [
       "array(['0.00', '  T', '0.13', '0.02', '0.38', '0.60', '0.14', '0.07',\n",
       "       '0.11', '0.09', '1.01', '0.28', '0.04', '0.08', '0.01', '0.53',\n",
       "       '0.19', '0.21', '0.32', '0.39', '0.31', '0.42', '0.27', '0.16',\n",
       "       '0.58', '0.93', '0.05', '0.34', '0.15', '0.35', nan, '0.40',\n",
       "       '0.66', '0.30', '0.24', '0.43', '1.55', '0.92', '0.89', '0.17',\n",
       "       '0.03', '1.43', '0.97', '0.26', '1.31', '0.06', '0.46', '0.29',\n",
       "       '0.23', '0.41', '0.45', '0.83', '1.33', '0.91', '0.48', '0.37',\n",
       "       '0.88', '2.35', '1.96', '0.20', '0.25', '0.18', '0.67', '0.36',\n",
       "       '0.33', '1.28', '0.74', '0.76', '0.71', '0.95', '1.46', '0.12',\n",
       "       '0.52', '0.64', '0.22', '1.24', '0.72', '0.73', '0.65', '1.61',\n",
       "       '1.22', '0.50', '1.05', '2.43', '0.59', '2.90', '2.68', '1.23',\n",
       "       '0.62', '6.64', '3.07', '1.44', '1.75', '0.82', '0.80', '0.86',\n",
       "       '0.63', '0.55', '1.03', '0.70', '1.73', '1.38', '0.44', '1.14',\n",
       "       '1.07', '3.97', '0.87', '0.78', '1.12', '0.68', '0.10', '0.61',\n",
       "       '0.54', '1.19', '0.75', '0.84', '1.29', '0.81', '1.15', '1.49',\n",
       "       '1.57', '1.02', '1.30', '0.51', '0.85', '0.79', '0.77', '2.79',\n",
       "       '3.15', '3.64', '4.73', '1.60', '0.57', '2.24', '1.90', '1.06',\n",
       "       '1.88', '0.69', '2.17', '6.86', '0.49', '1.11', '1.21', '0.90',\n",
       "       '1.34', '0.47', '0.56', '3.66', '1.09', '1.25', '1.35', '2.20',\n",
       "       '1.48', '0.96', '1.16', '1.04', '2.03', '2.09', '1.26', '2.60',\n",
       "       '2.06', '3.31', '2.76', '1.82', '0.98', '1.58', '3.17', '1.18'],\n",
       "      dtype=object)"
      ]
     },
     "execution_count": 85,
     "metadata": {},
     "output_type": "execute_result"
    }
   ],
   "source": [
    "# unique values of 'PrecipTotal' column\n",
    "weather['PrecipTotal'].unique()"
   ]
  },
  {
   "cell_type": "code",
   "execution_count": 86,
   "id": "66a88ae5",
   "metadata": {},
   "outputs": [
    {
     "data": {
      "text/plain": [
       "2"
      ]
     },
     "execution_count": 86,
     "metadata": {},
     "output_type": "execute_result"
    }
   ],
   "source": [
    "# number of missing value in 'PrecipTotal' column\n",
    "weather['PrecipTotal'].isna().sum()"
   ]
  },
  {
   "cell_type": "code",
   "execution_count": 87,
   "id": "9a577fa1",
   "metadata": {},
   "outputs": [
    {
     "data": {
      "text/plain": [
       "0.00    1577\n",
       "  T      318\n",
       "0.01     127\n",
       "0.02      63\n",
       "0.03      46\n",
       "        ... \n",
       "0.98       1\n",
       "2.90       1\n",
       "1.18       1\n",
       "1.82       1\n",
       "2.03       1\n",
       "Name: PrecipTotal, Length: 167, dtype: int64"
      ]
     },
     "execution_count": 87,
     "metadata": {},
     "output_type": "execute_result"
    }
   ],
   "source": [
    "# value counts for 'PrecipTotal' column\n",
    "weather['PrecipTotal'].value_counts()"
   ]
  },
  {
   "cell_type": "code",
   "execution_count": 88,
   "id": "5faacb05",
   "metadata": {},
   "outputs": [],
   "source": [
    "# replace T with 0.001\n",
    "weather['PrecipTotal'] = weather['PrecipTotal'].replace('  T', 0.001)"
   ]
  },
  {
   "cell_type": "code",
   "execution_count": 89,
   "id": "95836e86",
   "metadata": {},
   "outputs": [],
   "source": [
    "# convert column to float\n",
    "weather['PrecipTotal'] = round(weather['PrecipTotal'].astype(float), 5)"
   ]
  },
  {
   "cell_type": "markdown",
   "id": "eb053af2",
   "metadata": {},
   "source": [
    "#### Cleaning `StnPressure` Column"
   ]
  },
  {
   "cell_type": "code",
   "execution_count": 90,
   "id": "47db4dc4",
   "metadata": {
    "scrolled": true
   },
   "outputs": [
    {
     "data": {
      "text/plain": [
       "array(['29.10', '29.18', '29.38', '29.44', '29.39', '29.46', '29.31',\n",
       "       '29.36', '29.40', '29.57', '29.62', '29.29', '29.21', '29.28',\n",
       "       '29.20', '29.26', '29.33', '29.49', '29.54', '29.55', '29.23',\n",
       "       '29.13', '29.19', '29.53', '29.60', '29.34', '29.41', '29.47',\n",
       "       '29.51', '29.42', '29.43', '29.25', '29.03', '28.82', '28.87',\n",
       "       '28.88', '29.16', '29.07', '28.84', '28.91', '29.24', nan, '29.30',\n",
       "       '29.12', '29.45', '29.56', '29.32', '29.05', '29.11', '29.06',\n",
       "       '29.22', '29.08', '29.14', '29.37', '29.35', '29.15', '29.17',\n",
       "       '29.48', '29.52', '29.27', '29.50', '28.59', '28.67', '28.75',\n",
       "       '29.02', '29.79', '29.86', '29.63', '29.70', '28.95', '29.01',\n",
       "       '28.79', '28.85', '28.97', '28.89', '28.94', '28.93', '28.98',\n",
       "       '28.96', '29.00', '29.66', '29.09', '28.90', '29.04', '29.59',\n",
       "       '29.65', '29.58', '29.61', '29.64', '29.71', '29.67', '28.80',\n",
       "       '28.73', '29.68', '28.74', '28.55', '28.63', '28.92', '28.99',\n",
       "       '28.81', '28.71', '28.69', '28.77', '28.83'], dtype=object)"
      ]
     },
     "execution_count": 90,
     "metadata": {},
     "output_type": "execute_result"
    }
   ],
   "source": [
    "# unique values of 'StnPressure' column\n",
    "weather['StnPressure'].unique()"
   ]
  },
  {
   "cell_type": "code",
   "execution_count": 91,
   "id": "54bdf4a5",
   "metadata": {},
   "outputs": [
    {
     "data": {
      "text/plain": [
       "4"
      ]
     },
     "execution_count": 91,
     "metadata": {},
     "output_type": "execute_result"
    }
   ],
   "source": [
    "# number of missing values in StnPressure column\n",
    "weather['StnPressure'].isna().sum()"
   ]
  },
  {
   "cell_type": "code",
   "execution_count": 92,
   "id": "6f6a9dfd",
   "metadata": {},
   "outputs": [],
   "source": [
    "# convert column values to float\n",
    "weather['StnPressure'] = round(weather['StnPressure'].astype(float), 3)"
   ]
  },
  {
   "cell_type": "markdown",
   "id": "6203d0c1",
   "metadata": {},
   "source": [
    "#### Cleaning `SeaLevel` Column"
   ]
  },
  {
   "cell_type": "code",
   "execution_count": 93,
   "id": "cf593e1c",
   "metadata": {},
   "outputs": [
    {
     "data": {
      "text/plain": [
       "array(['29.82', '30.09', '30.08', '30.12', '30.05', '30.04', '30.10',\n",
       "       '30.29', '30.28', '30.03', '30.02', '29.94', '29.93', '29.92',\n",
       "       '29.91', '30.20', '30.19', '30.24', '29.97', '29.98', '29.84',\n",
       "       '29.83', '30.27', '30.25', '30.26', '30.11', '30.06', '30.23',\n",
       "       '30.15', '30.14', '30.00', '29.99', '29.90', '29.77', '29.76',\n",
       "       '29.56', '29.54', '29.52', '29.51', '29.79', '29.78', '29.81',\n",
       "       '29.55', '29.85', '30.07', '30.16', nan, '29.96', '29.95', '30.13',\n",
       "       '30.21', '30.22', '29.88', '30.01', '29.80', '29.89', '29.74',\n",
       "       '29.87', '29.86', '30.18', '30.17', '29.34', '29.44', '29.45',\n",
       "       '29.71', '29.72', '30.52', '30.53', '30.40', '30.41', '29.67',\n",
       "       '29.53', '29.69', '29.61', '29.64', '29.63', '29.66', '29.70',\n",
       "       '30.34', '30.33', '29.62', '29.60', '29.75', '29.68', '29.73',\n",
       "       '30.31', '30.30', '30.32', '30.37', '30.39', '29.59', '29.65',\n",
       "       '30.35', '30.36', '29.48', '30.38', '29.50', '29.25', '29.23',\n",
       "       '29.46', '29.43', '29.47'], dtype=object)"
      ]
     },
     "execution_count": 93,
     "metadata": {},
     "output_type": "execute_result"
    }
   ],
   "source": [
    "# unique values in 'SeaLevel' column\n",
    "weather['SeaLevel'].unique()"
   ]
  },
  {
   "cell_type": "code",
   "execution_count": 94,
   "id": "0d33758a",
   "metadata": {},
   "outputs": [
    {
     "data": {
      "text/plain": [
       "9"
      ]
     },
     "execution_count": 94,
     "metadata": {},
     "output_type": "execute_result"
    }
   ],
   "source": [
    "# number of missing values in 'SeaLevel' column\n",
    "weather['SeaLevel'].isna().sum()"
   ]
  },
  {
   "cell_type": "code",
   "execution_count": 95,
   "id": "2a4beb7c",
   "metadata": {},
   "outputs": [],
   "source": [
    "# convert column values to float\n",
    "weather['SeaLevel'] = round(weather['SeaLevel'].astype(float), 3)"
   ]
  },
  {
   "cell_type": "markdown",
   "id": "26d166a6",
   "metadata": {},
   "source": [
    "#### Cleaning `ResultSpeed` Column"
   ]
  },
  {
   "cell_type": "code",
   "execution_count": 96,
   "id": "bef44416",
   "metadata": {
    "scrolled": false
   },
   "outputs": [
    {
     "data": {
      "text/plain": [
       "array([ 1.7,  2.7, 13. , 13.3, 11.7, 12.9, 10.4, 10.1, 11.2, 14.4, 13.8,\n",
       "        8.6,  8.5,  2.5,  3.9,  0.7,  2. , 11.3, 12.4, 12.7,  6.6,  6.4,\n",
       "       16.9, 14.1,  8.1,  7.8,  8. , 10.5,  5.4,  3.4, 11.1,  6.3, 10. ,\n",
       "       11.4, 10.9, 14.9,  4.9,  4.5,  2.8,  8.9,  8.2,  4.8,  4.7,  5.8,\n",
       "       10.3,  9.7,  9.3,  4.2,  6.5,  7.5,  5.2,  7.9,  6.2, 10.8,  9.6,\n",
       "       22.7, 20.3,  0.3,  2.4,  4.6,  8.3,  9.4,  7.2,  7. ,  5.6,  5.9,\n",
       "        4.1,  3.8,  2.1,  4. , 14. , 12.2, 10.7,  3.5,  3.7,  7.6,  7.3,\n",
       "        6.1, 11.9,  7.4,  5.1,  9.5,  6.7,  3.1,  4.3,  3.2,  3.3,  8.4,\n",
       "       12.6,  8.8,  9.1,  1.4,  1.2,  4.4,  7.7,  1.9,  2.9,  1.1,  3. ,\n",
       "       10.6,  5.5,  5.7,  1.6,  2.6,  1.5,  6.9,  3.6,  6. ,  0.5,  5.3,\n",
       "        9. ,  2.2, 12.8,  9.2, 12.1,  1.8,  7.1,  6.8, 12.5,  5. ,  9.8,\n",
       "        2.3, 11.5, 15.1, 14.6, 17.2, 15.5, 16.2, 17.7, 18. , 16.7, 16. ,\n",
       "       13.9, 14.5, 10.2, 14.3, 13.7, 19.2, 13.2, 21.1, 11.8, 16.1, 14.8,\n",
       "        8.7, 11.6, 13.6,  1. , 12. , 17.5, 13.4,  9.9, 11. ,  0.2, 13.5,\n",
       "       12.3,  1.3,  0.1,  0.6,  0.8, 19.8, 15.6, 15.7, 15. , 14.7, 15.3,\n",
       "       14.2, 17.4, 16.6, 15.2, 24.1, 21.8, 20.8, 17. , 21.4, 18.8, 13.1,\n",
       "       15.9,  0.9, 15.4, 17.1, 19.6, 15.8, 16.8, 19.4, 19.3, 17.9,  0.4,\n",
       "       16.4, 22.6, 21.7])"
      ]
     },
     "execution_count": 96,
     "metadata": {},
     "output_type": "execute_result"
    }
   ],
   "source": [
    "# unique values in 'ResultSpeed' column\n",
    "weather['ResultSpeed'].unique()"
   ]
  },
  {
   "cell_type": "code",
   "execution_count": 97,
   "id": "10449bf5",
   "metadata": {},
   "outputs": [
    {
     "data": {
      "text/plain": [
       "0"
      ]
     },
     "execution_count": 97,
     "metadata": {},
     "output_type": "execute_result"
    }
   ],
   "source": [
    "# number of missing values in 'ResultSpeed' column\n",
    "weather['ResultSpeed'].isna().sum()"
   ]
  },
  {
   "cell_type": "code",
   "execution_count": 98,
   "id": "a1bfb35e",
   "metadata": {},
   "outputs": [],
   "source": [
    "# convert column values to float\n",
    "weather['ResultSpeed'] = round(weather['ResultSpeed'].astype(float), 3)"
   ]
  },
  {
   "cell_type": "markdown",
   "id": "a8906f37",
   "metadata": {},
   "source": [
    "#### Cleaning `ResultDir` Column"
   ]
  },
  {
   "cell_type": "code",
   "execution_count": 99,
   "id": "47327c2c",
   "metadata": {},
   "outputs": [
    {
     "data": {
      "text/plain": [
       "array([27, 25,  4,  2,  7,  6,  8, 11, 10, 18, 17,  9,  3, 36,  1, 14, 21,\n",
       "       22, 24, 23, 16, 19, 20,  5, 15, 26, 31, 30, 28, 33, 29, 12, 13, 32,\n",
       "       35, 34])"
      ]
     },
     "execution_count": 99,
     "metadata": {},
     "output_type": "execute_result"
    }
   ],
   "source": [
    "# unique values in 'ResultDir' column\n",
    "weather['ResultDir'].unique()"
   ]
  },
  {
   "cell_type": "code",
   "execution_count": 100,
   "id": "1297b576",
   "metadata": {},
   "outputs": [
    {
     "data": {
      "text/plain": [
       "0"
      ]
     },
     "execution_count": 100,
     "metadata": {},
     "output_type": "execute_result"
    }
   ],
   "source": [
    "# number of missing values in ResultDir column\n",
    "weather['ResultDir'].isna().sum()"
   ]
  },
  {
   "cell_type": "code",
   "execution_count": 101,
   "id": "ec66a660",
   "metadata": {},
   "outputs": [],
   "source": [
    "# converting ResultDir column to float\n",
    "weather['ResultDir'] = round(weather['ResultDir'].astype(float), 3)"
   ]
  },
  {
   "cell_type": "markdown",
   "id": "95ff18fa",
   "metadata": {},
   "source": [
    "#### Cleaning `AvgSpeed` Column"
   ]
  },
  {
   "cell_type": "code",
   "execution_count": 102,
   "id": "ce2ecb41",
   "metadata": {},
   "outputs": [
    {
     "data": {
      "text/plain": [
       "array(['9.2', '9.6', '13.4', '11.9', '13.2', '10.8', '10.4', '12.0',\n",
       "       '11.5', '15.0', '14.5', '10.5', '9.9', '5.8', '5.4', '6.2', '5.9',\n",
       "       '4.1', '3.9', '12.9', '12.8', '13.0', '8.1', '7.6', '17.3', '14.6',\n",
       "       '12.3', '12.2', '11.8', '11.3', '7.5', '5.5', '11.4', '10.7',\n",
       "       '9.7', '8.2', '7.8', '10.2', '10.6', '11.2', '15.2', '8.8', '7.2',\n",
       "       '9.5', '5.3', '5.2', '6.5', '7.4', '10.1', '6.4', '6.7', '23.1',\n",
       "       '20.7', '13.8', '12.4', '5.0', '4.7', '5.6', '6.9', '8.4', '10.0',\n",
       "       '8.6', nan, '6.8', '4.9', '6.1', '6.3', '15.1', '12.6', '7.7',\n",
       "       '8.7', '9.0', '8.0', '6.0', '7.1', '8.5', '12.5', '13.3', '8.3',\n",
       "       '7.3', '13.1', '12.7', '10.9', '11.1', '13.9', '6.6', '14.4',\n",
       "       '9.1', '3.3', '3.5', '4.0', '7.0', '9.4', '7.9', '5.7', '4.3',\n",
       "       '4.6', '3.7', '11.7', '4.4', '12.1', '13.5', '13.7', '11.0', '9.8',\n",
       "       '8.9', '10.3', '15.5', '18.9', '17.2', '16.7', '18.0', '18.2',\n",
       "       '16.8', '14.1', '14.7', '4.2', '9.3', '14.3', '17.7', '17.8',\n",
       "       '15.9', '19.3', '17.4', '3.8', '4.8', '14.0', '21.5', '19.5',\n",
       "       '16.3', '5.1', '3.6', '3.2', '4.5', '2.9', '3.1', '2.7', '18.4',\n",
       "       '16.4', '14.8', '11.6', '13.6', '2.4', '2.6', '3.4', '3.0', '2.1',\n",
       "       '20.2', '14.9', '16.2', '15.4', '17.9', '14.2', '15.3', '15.7',\n",
       "       '16.1', '18.8', '17.1', '16.6', '26.3', '21.4', '23.2', '22.1',\n",
       "       '15.6', '16.9', '2.0', '2.3', '1.7', '19.9', '17.6', '18.5',\n",
       "       '18.1', '16.0', '15.8', '2.8', '1.9', '22.9', '22.6'], dtype=object)"
      ]
     },
     "execution_count": 102,
     "metadata": {},
     "output_type": "execute_result"
    }
   ],
   "source": [
    "# unique values in 'AvgSpeed' column\n",
    "weather['AvgSpeed'].unique()"
   ]
  },
  {
   "cell_type": "code",
   "execution_count": 103,
   "id": "89c3865b",
   "metadata": {},
   "outputs": [
    {
     "data": {
      "text/plain": [
       "3"
      ]
     },
     "execution_count": 103,
     "metadata": {},
     "output_type": "execute_result"
    }
   ],
   "source": [
    "# number of missing values in 'AvgSpeed' column\n",
    "weather['AvgSpeed'].isna().sum()"
   ]
  },
  {
   "cell_type": "code",
   "execution_count": 104,
   "id": "db957ee1",
   "metadata": {},
   "outputs": [
    {
     "data": {
      "text/plain": [
       "6.9     63\n",
       "5.8     60\n",
       "7.4     55\n",
       "8.1     49\n",
       "7.0     47\n",
       "        ..\n",
       "18.1     1\n",
       "17.6     1\n",
       "15.8     1\n",
       "16.8     1\n",
       "20.2     1\n",
       "Name: AvgSpeed, Length: 177, dtype: int64"
      ]
     },
     "execution_count": 104,
     "metadata": {},
     "output_type": "execute_result"
    }
   ],
   "source": [
    "# value counts of 'AvgSpeed' column\n",
    "weather['AvgSpeed'].value_counts()"
   ]
  },
  {
   "cell_type": "code",
   "execution_count": 105,
   "id": "0bd75f2c",
   "metadata": {},
   "outputs": [],
   "source": [
    "# converting 'AvgSpeed' column to float\n",
    "weather['AvgSpeed'] = round(weather['AvgSpeed'].astype(float), 3)"
   ]
  },
  {
   "cell_type": "code",
   "execution_count": 106,
   "id": "0081ab1e",
   "metadata": {},
   "outputs": [
    {
     "data": {
      "text/plain": [
       "Station          int64\n",
       "Date            object\n",
       "Tmax           float64\n",
       "Tmin           float64\n",
       "Tavg           float64\n",
       "Depart         float64\n",
       "DewPoint       float64\n",
       "WetBulb        float64\n",
       "Heat           float64\n",
       "Cool           float64\n",
       "Sunrise        float64\n",
       "Sunset         float64\n",
       "PrecipTotal    float64\n",
       "StnPressure    float64\n",
       "SeaLevel       float64\n",
       "ResultSpeed    float64\n",
       "ResultDir      float64\n",
       "AvgSpeed       float64\n",
       "dtype: object"
      ]
     },
     "execution_count": 106,
     "metadata": {},
     "output_type": "execute_result"
    }
   ],
   "source": [
    "weather.dtypes"
   ]
  },
  {
   "cell_type": "code",
   "execution_count": 107,
   "id": "ad6e6e9d",
   "metadata": {},
   "outputs": [
    {
     "data": {
      "text/plain": [
       "Station           0\n",
       "Date              0\n",
       "Tmax              0\n",
       "Tmin              0\n",
       "Tavg              0\n",
       "Depart         1472\n",
       "DewPoint          0\n",
       "WetBulb           4\n",
       "Heat             11\n",
       "Cool             11\n",
       "Sunrise        1472\n",
       "Sunset         1472\n",
       "PrecipTotal       2\n",
       "StnPressure       4\n",
       "SeaLevel          9\n",
       "ResultSpeed       0\n",
       "ResultDir         0\n",
       "AvgSpeed          3\n",
       "dtype: int64"
      ]
     },
     "execution_count": 107,
     "metadata": {},
     "output_type": "execute_result"
    }
   ],
   "source": [
    "weather.isna().sum()"
   ]
  },
  {
   "cell_type": "markdown",
   "id": "28338b2e",
   "metadata": {},
   "source": [
    "# Merging `weather` and `traps` Dataframes\n",
    "\n",
    "We want to be able to only use a single dataframe to build out model so we need to merge the `traps` and `weather` dataframes.\n",
    "\n",
    "Since the weather data has entries from two stations for each date, we will simply take the average of the two stations and use this new values to merge with the `traps` data."
   ]
  },
  {
   "cell_type": "code",
   "execution_count": 108,
   "id": "28415745",
   "metadata": {
    "scrolled": true
   },
   "outputs": [
    {
     "data": {
      "text/html": [
       "<div>\n",
       "<style scoped>\n",
       "    .dataframe tbody tr th:only-of-type {\n",
       "        vertical-align: middle;\n",
       "    }\n",
       "\n",
       "    .dataframe tbody tr th {\n",
       "        vertical-align: top;\n",
       "    }\n",
       "\n",
       "    .dataframe thead th {\n",
       "        text-align: right;\n",
       "    }\n",
       "</style>\n",
       "<table border=\"1\" class=\"dataframe\">\n",
       "  <thead>\n",
       "    <tr style=\"text-align: right;\">\n",
       "      <th></th>\n",
       "      <th>Date</th>\n",
       "      <th>Tmax</th>\n",
       "      <th>Tmin</th>\n",
       "      <th>Tavg</th>\n",
       "      <th>Depart</th>\n",
       "      <th>DewPoint</th>\n",
       "      <th>WetBulb</th>\n",
       "      <th>Heat</th>\n",
       "      <th>Cool</th>\n",
       "      <th>Sunrise</th>\n",
       "      <th>Sunset</th>\n",
       "      <th>PrecipTotal</th>\n",
       "      <th>StnPressure</th>\n",
       "      <th>SeaLevel</th>\n",
       "      <th>ResultSpeed</th>\n",
       "      <th>ResultDir</th>\n",
       "      <th>AvgSpeed</th>\n",
       "    </tr>\n",
       "  </thead>\n",
       "  <tbody>\n",
       "    <tr>\n",
       "      <th>0</th>\n",
       "      <td>2007-05-01</td>\n",
       "      <td>83.5</td>\n",
       "      <td>51.0</td>\n",
       "      <td>67.25</td>\n",
       "      <td>14.0</td>\n",
       "      <td>51.0</td>\n",
       "      <td>56.5</td>\n",
       "      <td>0.0</td>\n",
       "      <td>2.5</td>\n",
       "      <td>448.0</td>\n",
       "      <td>1849.0</td>\n",
       "      <td>0.0000</td>\n",
       "      <td>29.140</td>\n",
       "      <td>29.820</td>\n",
       "      <td>2.20</td>\n",
       "      <td>26.0</td>\n",
       "      <td>9.40</td>\n",
       "    </tr>\n",
       "    <tr>\n",
       "      <th>1</th>\n",
       "      <td>2007-05-02</td>\n",
       "      <td>59.5</td>\n",
       "      <td>42.5</td>\n",
       "      <td>51.00</td>\n",
       "      <td>-3.0</td>\n",
       "      <td>42.0</td>\n",
       "      <td>47.0</td>\n",
       "      <td>13.5</td>\n",
       "      <td>0.0</td>\n",
       "      <td>447.0</td>\n",
       "      <td>1850.0</td>\n",
       "      <td>0.0000</td>\n",
       "      <td>29.410</td>\n",
       "      <td>30.085</td>\n",
       "      <td>13.15</td>\n",
       "      <td>3.0</td>\n",
       "      <td>13.40</td>\n",
       "    </tr>\n",
       "    <tr>\n",
       "      <th>2</th>\n",
       "      <td>2007-05-03</td>\n",
       "      <td>66.5</td>\n",
       "      <td>47.0</td>\n",
       "      <td>56.75</td>\n",
       "      <td>2.0</td>\n",
       "      <td>40.0</td>\n",
       "      <td>49.0</td>\n",
       "      <td>8.0</td>\n",
       "      <td>0.0</td>\n",
       "      <td>446.0</td>\n",
       "      <td>1851.0</td>\n",
       "      <td>0.0000</td>\n",
       "      <td>29.425</td>\n",
       "      <td>30.120</td>\n",
       "      <td>12.30</td>\n",
       "      <td>6.5</td>\n",
       "      <td>12.55</td>\n",
       "    </tr>\n",
       "    <tr>\n",
       "      <th>3</th>\n",
       "      <td>2007-05-04</td>\n",
       "      <td>72.0</td>\n",
       "      <td>50.0</td>\n",
       "      <td>61.00</td>\n",
       "      <td>4.0</td>\n",
       "      <td>41.5</td>\n",
       "      <td>50.0</td>\n",
       "      <td>7.0</td>\n",
       "      <td>0.0</td>\n",
       "      <td>444.0</td>\n",
       "      <td>1852.0</td>\n",
       "      <td>0.0005</td>\n",
       "      <td>29.335</td>\n",
       "      <td>30.045</td>\n",
       "      <td>10.25</td>\n",
       "      <td>7.5</td>\n",
       "      <td>10.60</td>\n",
       "    </tr>\n",
       "    <tr>\n",
       "      <th>4</th>\n",
       "      <td>2007-05-05</td>\n",
       "      <td>66.0</td>\n",
       "      <td>53.5</td>\n",
       "      <td>59.75</td>\n",
       "      <td>5.0</td>\n",
       "      <td>38.5</td>\n",
       "      <td>49.5</td>\n",
       "      <td>5.0</td>\n",
       "      <td>0.0</td>\n",
       "      <td>443.0</td>\n",
       "      <td>1853.0</td>\n",
       "      <td>0.0010</td>\n",
       "      <td>29.430</td>\n",
       "      <td>30.095</td>\n",
       "      <td>11.45</td>\n",
       "      <td>7.0</td>\n",
       "      <td>11.75</td>\n",
       "    </tr>\n",
       "  </tbody>\n",
       "</table>\n",
       "</div>"
      ],
      "text/plain": [
       "         Date  Tmax  Tmin   Tavg  Depart  DewPoint  WetBulb  Heat  Cool  \\\n",
       "0  2007-05-01  83.5  51.0  67.25    14.0      51.0     56.5   0.0   2.5   \n",
       "1  2007-05-02  59.5  42.5  51.00    -3.0      42.0     47.0  13.5   0.0   \n",
       "2  2007-05-03  66.5  47.0  56.75     2.0      40.0     49.0   8.0   0.0   \n",
       "3  2007-05-04  72.0  50.0  61.00     4.0      41.5     50.0   7.0   0.0   \n",
       "4  2007-05-05  66.0  53.5  59.75     5.0      38.5     49.5   5.0   0.0   \n",
       "\n",
       "   Sunrise  Sunset  PrecipTotal  StnPressure  SeaLevel  ResultSpeed  \\\n",
       "0    448.0  1849.0       0.0000       29.140    29.820         2.20   \n",
       "1    447.0  1850.0       0.0000       29.410    30.085        13.15   \n",
       "2    446.0  1851.0       0.0000       29.425    30.120        12.30   \n",
       "3    444.0  1852.0       0.0005       29.335    30.045        10.25   \n",
       "4    443.0  1853.0       0.0010       29.430    30.095        11.45   \n",
       "\n",
       "   ResultDir  AvgSpeed  \n",
       "0       26.0      9.40  \n",
       "1        3.0     13.40  \n",
       "2        6.5     12.55  \n",
       "3        7.5     10.60  \n",
       "4        7.0     11.75  "
      ]
     },
     "execution_count": 108,
     "metadata": {},
     "output_type": "execute_result"
    }
   ],
   "source": [
    "# trake mean of each entry between stations\n",
    "weather_condense = weather.groupby(['Date'], dropna=False).mean().reset_index().drop('Station', axis=1)\n",
    "weather_condense.head()"
   ]
  },
  {
   "cell_type": "markdown",
   "id": "c19aeeb5",
   "metadata": {},
   "source": [
    "### Creating `DaytimeLength`, `RelativeHumidity`, `DewPointDepression` and `WetBulbDepression` columns"
   ]
  },
  {
   "cell_type": "markdown",
   "id": "52dd2b81",
   "metadata": {},
   "source": [
    "#### `DaytimeLength`"
   ]
  },
  {
   "cell_type": "code",
   "execution_count": 109,
   "id": "8fbdf15b",
   "metadata": {},
   "outputs": [
    {
     "data": {
      "text/html": [
       "<div>\n",
       "<style scoped>\n",
       "    .dataframe tbody tr th:only-of-type {\n",
       "        vertical-align: middle;\n",
       "    }\n",
       "\n",
       "    .dataframe tbody tr th {\n",
       "        vertical-align: top;\n",
       "    }\n",
       "\n",
       "    .dataframe thead th {\n",
       "        text-align: right;\n",
       "    }\n",
       "</style>\n",
       "<table border=\"1\" class=\"dataframe\">\n",
       "  <thead>\n",
       "    <tr style=\"text-align: right;\">\n",
       "      <th></th>\n",
       "      <th>Date</th>\n",
       "      <th>Tmax</th>\n",
       "      <th>Tmin</th>\n",
       "      <th>Tavg</th>\n",
       "      <th>Depart</th>\n",
       "      <th>DewPoint</th>\n",
       "      <th>WetBulb</th>\n",
       "      <th>Heat</th>\n",
       "      <th>Cool</th>\n",
       "      <th>Sunrise</th>\n",
       "      <th>Sunset</th>\n",
       "      <th>PrecipTotal</th>\n",
       "      <th>StnPressure</th>\n",
       "      <th>SeaLevel</th>\n",
       "      <th>ResultSpeed</th>\n",
       "      <th>ResultDir</th>\n",
       "      <th>AvgSpeed</th>\n",
       "    </tr>\n",
       "  </thead>\n",
       "  <tbody>\n",
       "    <tr>\n",
       "      <th>0</th>\n",
       "      <td>2007-05-01</td>\n",
       "      <td>83.5</td>\n",
       "      <td>51.0</td>\n",
       "      <td>67.25</td>\n",
       "      <td>14.0</td>\n",
       "      <td>51.0</td>\n",
       "      <td>56.5</td>\n",
       "      <td>0.0</td>\n",
       "      <td>2.5</td>\n",
       "      <td>0448</td>\n",
       "      <td>1849</td>\n",
       "      <td>0.0000</td>\n",
       "      <td>29.140</td>\n",
       "      <td>29.820</td>\n",
       "      <td>2.20</td>\n",
       "      <td>26.0</td>\n",
       "      <td>9.40</td>\n",
       "    </tr>\n",
       "    <tr>\n",
       "      <th>1</th>\n",
       "      <td>2007-05-02</td>\n",
       "      <td>59.5</td>\n",
       "      <td>42.5</td>\n",
       "      <td>51.00</td>\n",
       "      <td>-3.0</td>\n",
       "      <td>42.0</td>\n",
       "      <td>47.0</td>\n",
       "      <td>13.5</td>\n",
       "      <td>0.0</td>\n",
       "      <td>0447</td>\n",
       "      <td>1850</td>\n",
       "      <td>0.0000</td>\n",
       "      <td>29.410</td>\n",
       "      <td>30.085</td>\n",
       "      <td>13.15</td>\n",
       "      <td>3.0</td>\n",
       "      <td>13.40</td>\n",
       "    </tr>\n",
       "    <tr>\n",
       "      <th>2</th>\n",
       "      <td>2007-05-03</td>\n",
       "      <td>66.5</td>\n",
       "      <td>47.0</td>\n",
       "      <td>56.75</td>\n",
       "      <td>2.0</td>\n",
       "      <td>40.0</td>\n",
       "      <td>49.0</td>\n",
       "      <td>8.0</td>\n",
       "      <td>0.0</td>\n",
       "      <td>0446</td>\n",
       "      <td>1851</td>\n",
       "      <td>0.0000</td>\n",
       "      <td>29.425</td>\n",
       "      <td>30.120</td>\n",
       "      <td>12.30</td>\n",
       "      <td>6.5</td>\n",
       "      <td>12.55</td>\n",
       "    </tr>\n",
       "    <tr>\n",
       "      <th>3</th>\n",
       "      <td>2007-05-04</td>\n",
       "      <td>72.0</td>\n",
       "      <td>50.0</td>\n",
       "      <td>61.00</td>\n",
       "      <td>4.0</td>\n",
       "      <td>41.5</td>\n",
       "      <td>50.0</td>\n",
       "      <td>7.0</td>\n",
       "      <td>0.0</td>\n",
       "      <td>0444</td>\n",
       "      <td>1852</td>\n",
       "      <td>0.0005</td>\n",
       "      <td>29.335</td>\n",
       "      <td>30.045</td>\n",
       "      <td>10.25</td>\n",
       "      <td>7.5</td>\n",
       "      <td>10.60</td>\n",
       "    </tr>\n",
       "    <tr>\n",
       "      <th>4</th>\n",
       "      <td>2007-05-05</td>\n",
       "      <td>66.0</td>\n",
       "      <td>53.5</td>\n",
       "      <td>59.75</td>\n",
       "      <td>5.0</td>\n",
       "      <td>38.5</td>\n",
       "      <td>49.5</td>\n",
       "      <td>5.0</td>\n",
       "      <td>0.0</td>\n",
       "      <td>0443</td>\n",
       "      <td>1853</td>\n",
       "      <td>0.0010</td>\n",
       "      <td>29.430</td>\n",
       "      <td>30.095</td>\n",
       "      <td>11.45</td>\n",
       "      <td>7.0</td>\n",
       "      <td>11.75</td>\n",
       "    </tr>\n",
       "  </tbody>\n",
       "</table>\n",
       "</div>"
      ],
      "text/plain": [
       "         Date  Tmax  Tmin   Tavg  Depart  DewPoint  WetBulb  Heat  Cool  \\\n",
       "0  2007-05-01  83.5  51.0  67.25    14.0      51.0     56.5   0.0   2.5   \n",
       "1  2007-05-02  59.5  42.5  51.00    -3.0      42.0     47.0  13.5   0.0   \n",
       "2  2007-05-03  66.5  47.0  56.75     2.0      40.0     49.0   8.0   0.0   \n",
       "3  2007-05-04  72.0  50.0  61.00     4.0      41.5     50.0   7.0   0.0   \n",
       "4  2007-05-05  66.0  53.5  59.75     5.0      38.5     49.5   5.0   0.0   \n",
       "\n",
       "  Sunrise Sunset  PrecipTotal  StnPressure  SeaLevel  ResultSpeed  ResultDir  \\\n",
       "0    0448   1849       0.0000       29.140    29.820         2.20       26.0   \n",
       "1    0447   1850       0.0000       29.410    30.085        13.15        3.0   \n",
       "2    0446   1851       0.0000       29.425    30.120        12.30        6.5   \n",
       "3    0444   1852       0.0005       29.335    30.045        10.25        7.5   \n",
       "4    0443   1853       0.0010       29.430    30.095        11.45        7.0   \n",
       "\n",
       "   AvgSpeed  \n",
       "0      9.40  \n",
       "1     13.40  \n",
       "2     12.55  \n",
       "3     10.60  \n",
       "4     11.75  "
      ]
     },
     "execution_count": 109,
     "metadata": {},
     "output_type": "execute_result"
    }
   ],
   "source": [
    "# format 'Sunrise' and 'Sunset' columns\n",
    "weather_condense['Sunrise'] = '0' + weather_condense['Sunrise'].astype(str).str[:-2]\n",
    "weather_condense['Sunset'] = weather_condense['Sunset'].astype(str).str[:-2]\n",
    "weather_condense.head()"
   ]
  },
  {
   "cell_type": "code",
   "execution_count": 110,
   "id": "650b3242",
   "metadata": {},
   "outputs": [
    {
     "data": {
      "text/plain": [
       "0      0 days 04:48:00\n",
       "1      0 days 04:47:00\n",
       "2      0 days 04:46:00\n",
       "3      0 days 04:44:00\n",
       "4      0 days 04:43:00\n",
       "             ...      \n",
       "1467   0 days 06:18:00\n",
       "1468   0 days 06:19:00\n",
       "1469   0 days 06:20:00\n",
       "1470   0 days 06:22:00\n",
       "1471   0 days 06:23:00\n",
       "Name: Sunrise, Length: 1472, dtype: timedelta64[ns]"
      ]
     },
     "execution_count": 110,
     "metadata": {},
     "output_type": "execute_result"
    }
   ],
   "source": [
    "# Daytime_length\n",
    "# convert 'Sunrise' and 'Sunset' columns into datetime\n",
    "weather_condense['Sunrise'] = weather_condense['Sunrise'].apply(lambda x: x[0:2]+':'+x[2:4])\n",
    "weather_condense['Sunrise'] = pd.to_datetime(weather_condense['Sunrise'],format='%H:%M')\\\n",
    "                            -pd.to_datetime('1900-01-01 00:00:00')\n",
    "weather_condense.Sunrise"
   ]
  },
  {
   "cell_type": "code",
   "execution_count": 111,
   "id": "6591cad1",
   "metadata": {},
   "outputs": [
    {
     "data": {
      "text/plain": [
       "array(['1849', '1850', '1851', '1852', '1853', '1855', '1856', '1857',\n",
       "       '1858', '1859', '1860', '1901', '1902', '1903', '1904', '1905',\n",
       "       '1906', '1907', '1908', '1909', '1910', '1911', '1912', '1913',\n",
       "       '1914', '1915', '1916', '1917', '1918', '1919', '1920', '1921',\n",
       "       '1922', '1923', '1924', '1925', '1926', '1927', '1928', '1929',\n",
       "       '1930', '1931', '1900', '1854', '1848', '1846', '1845', '1843',\n",
       "       '1842', '1840', '1839', '1837', '1835', '1834', '1832', '1831',\n",
       "       '1829', '1827', '1826', '1824', '1822', '1821', '1819', '1817',\n",
       "       '1815', '1814', '1812', '1810', '1809', '1807', '1805', '1803',\n",
       "       '1760', '1758', '1756', '1755', '1753', '1751', '1749', '1748',\n",
       "       '1746', '1744', '1742', '1741', '1739', '1737', '1735', '1734',\n",
       "       '1732', '1730', '1729', '1727', '1725', '1724', '1722', '1720',\n",
       "       '1719', '1717', '1715', '1714', '1712', '1711', '1709', '1707',\n",
       "       '1706', '1704', '1703', '1701', '1660', '1658', '1657', '1656',\n",
       "       '1654', '1653', '1651', '1650', '1649', '1647'], dtype=object)"
      ]
     },
     "execution_count": 111,
     "metadata": {},
     "output_type": "execute_result"
    }
   ],
   "source": [
    "weather_condense['Sunset'].unique()"
   ]
  },
  {
   "cell_type": "code",
   "execution_count": 112,
   "id": "3ae97eb0",
   "metadata": {},
   "outputs": [],
   "source": [
    "weather_condense.Sunset.replace('1860','1900',inplace=True)\n",
    "weather_condense.Sunset.replace('1760','1800',inplace=True)\n",
    "weather_condense.Sunset.replace('1660','1700',inplace=True)"
   ]
  },
  {
   "cell_type": "code",
   "execution_count": 113,
   "id": "50ca12de",
   "metadata": {},
   "outputs": [
    {
     "data": {
      "text/plain": [
       "0      0 days 18:49:00\n",
       "1      0 days 18:50:00\n",
       "2      0 days 18:51:00\n",
       "3      0 days 18:52:00\n",
       "4      0 days 18:53:00\n",
       "             ...      \n",
       "1467   0 days 16:53:00\n",
       "1468   0 days 16:51:00\n",
       "1469   0 days 16:50:00\n",
       "1470   0 days 16:49:00\n",
       "1471   0 days 16:47:00\n",
       "Name: Sunset, Length: 1472, dtype: timedelta64[ns]"
      ]
     },
     "execution_count": 113,
     "metadata": {},
     "output_type": "execute_result"
    }
   ],
   "source": [
    "weather_condense['Sunset'] = weather_condense['Sunset'].apply(lambda x: x[0:2]+':'+x[2:4])\n",
    "weather_condense['Sunset'] = pd.to_datetime(weather_condense['Sunset'],format='%H:%M')\\\n",
    "                            -pd.to_datetime('1900-01-01 00:00:00')\n",
    "weather_condense.Sunset"
   ]
  },
  {
   "cell_type": "code",
   "execution_count": 114,
   "id": "3d60530b",
   "metadata": {},
   "outputs": [
    {
     "name": "stdout",
     "output_type": "stream",
     "text": [
      "<class 'pandas.core.frame.DataFrame'>\n",
      "RangeIndex: 1472 entries, 0 to 1471\n",
      "Data columns (total 17 columns):\n",
      " #   Column       Non-Null Count  Dtype          \n",
      "---  ------       --------------  -----          \n",
      " 0   Date         1472 non-null   object         \n",
      " 1   Tmax         1472 non-null   float64        \n",
      " 2   Tmin         1472 non-null   float64        \n",
      " 3   Tavg         1472 non-null   float64        \n",
      " 4   Depart       1472 non-null   float64        \n",
      " 5   DewPoint     1472 non-null   float64        \n",
      " 6   WetBulb      1472 non-null   float64        \n",
      " 7   Heat         1472 non-null   float64        \n",
      " 8   Cool         1472 non-null   float64        \n",
      " 9   Sunrise      1472 non-null   timedelta64[ns]\n",
      " 10  Sunset       1472 non-null   timedelta64[ns]\n",
      " 11  PrecipTotal  1472 non-null   float64        \n",
      " 12  StnPressure  1471 non-null   float64        \n",
      " 13  SeaLevel     1472 non-null   float64        \n",
      " 14  ResultSpeed  1472 non-null   float64        \n",
      " 15  ResultDir    1472 non-null   float64        \n",
      " 16  AvgSpeed     1472 non-null   float64        \n",
      "dtypes: float64(14), object(1), timedelta64[ns](2)\n",
      "memory usage: 195.6+ KB\n"
     ]
    }
   ],
   "source": [
    "weather_condense.info()"
   ]
  },
  {
   "cell_type": "code",
   "execution_count": 115,
   "id": "705d5949",
   "metadata": {},
   "outputs": [],
   "source": [
    "# converting 'Date' column to datetime\n",
    "weather_condense['Date'] = pd.to_datetime(weather_condense['Date'],format='%Y-%m-%d')"
   ]
  },
  {
   "cell_type": "code",
   "execution_count": 116,
   "id": "4895bd05",
   "metadata": {},
   "outputs": [],
   "source": [
    "# calculate 'DaytimeLength'\n",
    "weather_condense['DaytimeLength'] = (weather_condense['Sunset'] - weather_condense['Sunrise']).astype(str)\n",
    "weather_condense['DaytimeLength'] = weather_condense['DaytimeLength'].str[7:12].str.replace(':', '').astype(float)/100"
   ]
  },
  {
   "cell_type": "code",
   "execution_count": 117,
   "id": "b51a0927",
   "metadata": {},
   "outputs": [
    {
     "name": "stdout",
     "output_type": "stream",
     "text": [
      "<class 'pandas.core.frame.DataFrame'>\n",
      "RangeIndex: 1472 entries, 0 to 1471\n",
      "Data columns (total 18 columns):\n",
      " #   Column         Non-Null Count  Dtype          \n",
      "---  ------         --------------  -----          \n",
      " 0   Date           1472 non-null   datetime64[ns] \n",
      " 1   Tmax           1472 non-null   float64        \n",
      " 2   Tmin           1472 non-null   float64        \n",
      " 3   Tavg           1472 non-null   float64        \n",
      " 4   Depart         1472 non-null   float64        \n",
      " 5   DewPoint       1472 non-null   float64        \n",
      " 6   WetBulb        1472 non-null   float64        \n",
      " 7   Heat           1472 non-null   float64        \n",
      " 8   Cool           1472 non-null   float64        \n",
      " 9   Sunrise        1472 non-null   timedelta64[ns]\n",
      " 10  Sunset         1472 non-null   timedelta64[ns]\n",
      " 11  PrecipTotal    1472 non-null   float64        \n",
      " 12  StnPressure    1471 non-null   float64        \n",
      " 13  SeaLevel       1472 non-null   float64        \n",
      " 14  ResultSpeed    1472 non-null   float64        \n",
      " 15  ResultDir      1472 non-null   float64        \n",
      " 16  AvgSpeed       1472 non-null   float64        \n",
      " 17  DaytimeLength  1472 non-null   float64        \n",
      "dtypes: datetime64[ns](1), float64(15), timedelta64[ns](2)\n",
      "memory usage: 207.1 KB\n"
     ]
    }
   ],
   "source": [
    "weather_condense.info()"
   ]
  },
  {
   "cell_type": "markdown",
   "id": "adfdf56f",
   "metadata": {},
   "source": [
    "#### `RelativeHumidity`"
   ]
  },
  {
   "cell_type": "code",
   "execution_count": 118,
   "id": "1a7ab9f9",
   "metadata": {},
   "outputs": [],
   "source": [
    "def relative_humidity(Tavg, DewPoint):\n",
    "    \n",
    "    Tavg_celsius = (Tavg-32.0)/1.8\n",
    "    DewPoint_celsius = (DewPoint-32.0)/1.8\n",
    "    \n",
    "    rh = 100 * (np.exp((17.625*DewPoint_celsius)/(243.04+DewPoint_celsius))\\\n",
    "                / np.exp((17.625*Tavg_celsius)/(243.04+Tavg_celsius)))\n",
    "    \n",
    "    return round(rh, 2)"
   ]
  },
  {
   "cell_type": "markdown",
   "id": "50f1f4f3",
   "metadata": {},
   "source": [
    "__[Function taken from here](http://https://bmcnoldy.rsmas.miami.edu/Humidity.html)__"
   ]
  },
  {
   "cell_type": "code",
   "execution_count": 119,
   "id": "963c67dc",
   "metadata": {},
   "outputs": [],
   "source": [
    "# create 'RelativeHumidity' column\n",
    "weather_condense['RelativeHumidity'] = relative_humidity(weather_condense['Tavg'], weather_condense['DewPoint'])"
   ]
  },
  {
   "cell_type": "markdown",
   "id": "4e898dbb",
   "metadata": {},
   "source": [
    "#### `DewPointDepression` and `WetBulbDepression`"
   ]
  },
  {
   "cell_type": "code",
   "execution_count": 120,
   "id": "0ce1783c",
   "metadata": {},
   "outputs": [],
   "source": [
    "# create 'DewPointDepression' and 'WetBulbDepression' columns\n",
    "weather_condense['DewPointDepression'] = weather_condense['Tavg'] - weather_condense['DewPoint']\n",
    "weather_condense['WetBulbDepression'] = weather_condense['Tavg'] - weather_condense['WetBulb']"
   ]
  },
  {
   "cell_type": "code",
   "execution_count": 121,
   "id": "d0e5539c",
   "metadata": {},
   "outputs": [
    {
     "name": "stdout",
     "output_type": "stream",
     "text": [
      "<class 'pandas.core.frame.DataFrame'>\n",
      "RangeIndex: 1472 entries, 0 to 1471\n",
      "Data columns (total 21 columns):\n",
      " #   Column              Non-Null Count  Dtype          \n",
      "---  ------              --------------  -----          \n",
      " 0   Date                1472 non-null   datetime64[ns] \n",
      " 1   Tmax                1472 non-null   float64        \n",
      " 2   Tmin                1472 non-null   float64        \n",
      " 3   Tavg                1472 non-null   float64        \n",
      " 4   Depart              1472 non-null   float64        \n",
      " 5   DewPoint            1472 non-null   float64        \n",
      " 6   WetBulb             1472 non-null   float64        \n",
      " 7   Heat                1472 non-null   float64        \n",
      " 8   Cool                1472 non-null   float64        \n",
      " 9   Sunrise             1472 non-null   timedelta64[ns]\n",
      " 10  Sunset              1472 non-null   timedelta64[ns]\n",
      " 11  PrecipTotal         1472 non-null   float64        \n",
      " 12  StnPressure         1471 non-null   float64        \n",
      " 13  SeaLevel            1472 non-null   float64        \n",
      " 14  ResultSpeed         1472 non-null   float64        \n",
      " 15  ResultDir           1472 non-null   float64        \n",
      " 16  AvgSpeed            1472 non-null   float64        \n",
      " 17  DaytimeLength       1472 non-null   float64        \n",
      " 18  RelativeHumidity    1472 non-null   float64        \n",
      " 19  DewPointDepression  1472 non-null   float64        \n",
      " 20  WetBulbDepression   1472 non-null   float64        \n",
      "dtypes: datetime64[ns](1), float64(18), timedelta64[ns](2)\n",
      "memory usage: 241.6 KB\n"
     ]
    }
   ],
   "source": [
    "weather_condense.info()"
   ]
  },
  {
   "cell_type": "code",
   "execution_count": 122,
   "id": "57376080",
   "metadata": {},
   "outputs": [],
   "source": [
    "#Creating Dayofweek,Day week, month, year from date \n",
    "weather_condense['Day_of_week'] = weather_condense['Date'].dt.dayofweek\n",
    "weather_condense['Day_of_month'] = weather_condense['Date'].dt.day\n",
    "weather_condense['Week'] = weather_condense['Date'].dt.isocalendar().week\n",
    "weather_condense['Month'] = weather_condense['Date'].dt.month\n",
    "weather_condense['Year'] = weather_condense['Date'].dt.year"
   ]
  },
  {
   "cell_type": "code",
   "execution_count": 123,
   "id": "09a37753",
   "metadata": {},
   "outputs": [],
   "source": [
    "# transform 'Week' column into an integer\n",
    "weather_condense['Week'] = weather_condense['Week'].astype(int)"
   ]
  },
  {
   "cell_type": "code",
   "execution_count": 124,
   "id": "b0808e9a",
   "metadata": {},
   "outputs": [],
   "source": [
    "# function that turns months into seasons of the year\n",
    "def makeseason(n):\n",
    "    if 3<=n<=5: season = 'Spring'\n",
    "    elif 6<=n<=8: season = 'Summer'\n",
    "    elif 9<=n<=11: season = 'Fall'\n",
    "    else: season = 'Winter'\n",
    "    return(season)\n",
    "\n",
    "# function that turns months in to month names\n",
    "def month_name(n):\n",
    "    if n==5: month = 'May'\n",
    "    elif n==6: month = 'June'\n",
    "    elif n==7: month = 'July'\n",
    "    elif n==8: month = 'Aug'\n",
    "    elif n==9: month = 'Sep'   \n",
    "    else: month = 'Oct'\n",
    "    return(month)"
   ]
  },
  {
   "cell_type": "code",
   "execution_count": 125,
   "id": "3e576b5a",
   "metadata": {},
   "outputs": [],
   "source": [
    "weather_condense['Season'] = weather_condense['Month'].apply(makeseason)\n",
    "weather_condense['Month_Name'] = weather_condense['Month'].apply(month_name)"
   ]
  },
  {
   "cell_type": "code",
   "execution_count": 126,
   "id": "960a0c54",
   "metadata": {},
   "outputs": [
    {
     "data": {
      "text/plain": [
       "Index(['Date', 'Tmax', 'Tmin', 'Tavg', 'Depart', 'DewPoint', 'WetBulb', 'Heat',\n",
       "       'Cool', 'Sunrise', 'Sunset', 'PrecipTotal', 'StnPressure', 'SeaLevel',\n",
       "       'ResultSpeed', 'ResultDir', 'AvgSpeed', 'DaytimeLength',\n",
       "       'RelativeHumidity', 'DewPointDepression', 'WetBulbDepression',\n",
       "       'Day_of_week', 'Day_of_month', 'Week', 'Month', 'Year', 'Season',\n",
       "       'Month_Name'],\n",
       "      dtype='object')"
      ]
     },
     "execution_count": 126,
     "metadata": {},
     "output_type": "execute_result"
    }
   ],
   "source": [
    "weather_condense.columns"
   ]
  },
  {
   "cell_type": "code",
   "execution_count": 127,
   "id": "6bf8bc6c",
   "metadata": {},
   "outputs": [],
   "source": [
    "# reorder columns\n",
    "weather_column_order = ['Date', 'Day_of_week', 'Day_of_month', 'Week', 'Month', 'Year', 'Season', 'Month_Name', \n",
    "                        'Sunrise', 'Sunset', 'DaytimeLength', 'Tmax', 'Tmin', 'Tavg', 'Depart', 'DewPoint', \n",
    "                        'WetBulb', 'Heat', 'Cool', 'PrecipTotal', 'StnPressure', 'SeaLevel','ResultSpeed', \n",
    "                        'ResultDir', 'AvgSpeed', 'RelativeHumidity', 'DewPointDepression','WetBulbDepression']\n",
    "weather_condense = weather_condense[weather_column_order]"
   ]
  },
  {
   "cell_type": "code",
   "execution_count": 128,
   "id": "2549fef8",
   "metadata": {},
   "outputs": [
    {
     "data": {
      "text/html": [
       "<div>\n",
       "<style scoped>\n",
       "    .dataframe tbody tr th:only-of-type {\n",
       "        vertical-align: middle;\n",
       "    }\n",
       "\n",
       "    .dataframe tbody tr th {\n",
       "        vertical-align: top;\n",
       "    }\n",
       "\n",
       "    .dataframe thead th {\n",
       "        text-align: right;\n",
       "    }\n",
       "</style>\n",
       "<table border=\"1\" class=\"dataframe\">\n",
       "  <thead>\n",
       "    <tr style=\"text-align: right;\">\n",
       "      <th></th>\n",
       "      <th>Date</th>\n",
       "      <th>Day_of_week</th>\n",
       "      <th>Day_of_month</th>\n",
       "      <th>Week</th>\n",
       "      <th>Month</th>\n",
       "      <th>Year</th>\n",
       "      <th>Season</th>\n",
       "      <th>Month_Name</th>\n",
       "      <th>Sunrise</th>\n",
       "      <th>Sunset</th>\n",
       "      <th>...</th>\n",
       "      <th>Cool</th>\n",
       "      <th>PrecipTotal</th>\n",
       "      <th>StnPressure</th>\n",
       "      <th>SeaLevel</th>\n",
       "      <th>ResultSpeed</th>\n",
       "      <th>ResultDir</th>\n",
       "      <th>AvgSpeed</th>\n",
       "      <th>RelativeHumidity</th>\n",
       "      <th>DewPointDepression</th>\n",
       "      <th>WetBulbDepression</th>\n",
       "    </tr>\n",
       "  </thead>\n",
       "  <tbody>\n",
       "    <tr>\n",
       "      <th>0</th>\n",
       "      <td>2007-05-01</td>\n",
       "      <td>1</td>\n",
       "      <td>1</td>\n",
       "      <td>18</td>\n",
       "      <td>5</td>\n",
       "      <td>2007</td>\n",
       "      <td>Spring</td>\n",
       "      <td>May</td>\n",
       "      <td>0 days 04:48:00</td>\n",
       "      <td>0 days 18:49:00</td>\n",
       "      <td>...</td>\n",
       "      <td>2.5</td>\n",
       "      <td>0.0000</td>\n",
       "      <td>29.140</td>\n",
       "      <td>29.820</td>\n",
       "      <td>2.20</td>\n",
       "      <td>26.0</td>\n",
       "      <td>9.40</td>\n",
       "      <td>55.95</td>\n",
       "      <td>16.25</td>\n",
       "      <td>10.75</td>\n",
       "    </tr>\n",
       "    <tr>\n",
       "      <th>1</th>\n",
       "      <td>2007-05-02</td>\n",
       "      <td>2</td>\n",
       "      <td>2</td>\n",
       "      <td>18</td>\n",
       "      <td>5</td>\n",
       "      <td>2007</td>\n",
       "      <td>Spring</td>\n",
       "      <td>May</td>\n",
       "      <td>0 days 04:47:00</td>\n",
       "      <td>0 days 18:50:00</td>\n",
       "      <td>...</td>\n",
       "      <td>0.0</td>\n",
       "      <td>0.0000</td>\n",
       "      <td>29.410</td>\n",
       "      <td>30.085</td>\n",
       "      <td>13.15</td>\n",
       "      <td>3.0</td>\n",
       "      <td>13.40</td>\n",
       "      <td>71.20</td>\n",
       "      <td>9.00</td>\n",
       "      <td>4.00</td>\n",
       "    </tr>\n",
       "    <tr>\n",
       "      <th>2</th>\n",
       "      <td>2007-05-03</td>\n",
       "      <td>3</td>\n",
       "      <td>3</td>\n",
       "      <td>18</td>\n",
       "      <td>5</td>\n",
       "      <td>2007</td>\n",
       "      <td>Spring</td>\n",
       "      <td>May</td>\n",
       "      <td>0 days 04:46:00</td>\n",
       "      <td>0 days 18:51:00</td>\n",
       "      <td>...</td>\n",
       "      <td>0.0</td>\n",
       "      <td>0.0000</td>\n",
       "      <td>29.425</td>\n",
       "      <td>30.120</td>\n",
       "      <td>12.30</td>\n",
       "      <td>6.5</td>\n",
       "      <td>12.55</td>\n",
       "      <td>53.41</td>\n",
       "      <td>16.75</td>\n",
       "      <td>7.75</td>\n",
       "    </tr>\n",
       "    <tr>\n",
       "      <th>3</th>\n",
       "      <td>2007-05-04</td>\n",
       "      <td>4</td>\n",
       "      <td>4</td>\n",
       "      <td>18</td>\n",
       "      <td>5</td>\n",
       "      <td>2007</td>\n",
       "      <td>Spring</td>\n",
       "      <td>May</td>\n",
       "      <td>0 days 04:44:00</td>\n",
       "      <td>0 days 18:52:00</td>\n",
       "      <td>...</td>\n",
       "      <td>0.0</td>\n",
       "      <td>0.0005</td>\n",
       "      <td>29.335</td>\n",
       "      <td>30.045</td>\n",
       "      <td>10.25</td>\n",
       "      <td>7.5</td>\n",
       "      <td>10.60</td>\n",
       "      <td>48.62</td>\n",
       "      <td>19.50</td>\n",
       "      <td>11.00</td>\n",
       "    </tr>\n",
       "    <tr>\n",
       "      <th>4</th>\n",
       "      <td>2007-05-05</td>\n",
       "      <td>5</td>\n",
       "      <td>5</td>\n",
       "      <td>18</td>\n",
       "      <td>5</td>\n",
       "      <td>2007</td>\n",
       "      <td>Spring</td>\n",
       "      <td>May</td>\n",
       "      <td>0 days 04:43:00</td>\n",
       "      <td>0 days 18:53:00</td>\n",
       "      <td>...</td>\n",
       "      <td>0.0</td>\n",
       "      <td>0.0010</td>\n",
       "      <td>29.430</td>\n",
       "      <td>30.095</td>\n",
       "      <td>11.45</td>\n",
       "      <td>7.0</td>\n",
       "      <td>11.75</td>\n",
       "      <td>45.24</td>\n",
       "      <td>21.25</td>\n",
       "      <td>10.25</td>\n",
       "    </tr>\n",
       "  </tbody>\n",
       "</table>\n",
       "<p>5 rows × 28 columns</p>\n",
       "</div>"
      ],
      "text/plain": [
       "        Date  Day_of_week  Day_of_month  Week  Month  Year  Season Month_Name  \\\n",
       "0 2007-05-01            1             1    18      5  2007  Spring        May   \n",
       "1 2007-05-02            2             2    18      5  2007  Spring        May   \n",
       "2 2007-05-03            3             3    18      5  2007  Spring        May   \n",
       "3 2007-05-04            4             4    18      5  2007  Spring        May   \n",
       "4 2007-05-05            5             5    18      5  2007  Spring        May   \n",
       "\n",
       "          Sunrise          Sunset  ...  Cool  PrecipTotal  StnPressure  \\\n",
       "0 0 days 04:48:00 0 days 18:49:00  ...   2.5       0.0000       29.140   \n",
       "1 0 days 04:47:00 0 days 18:50:00  ...   0.0       0.0000       29.410   \n",
       "2 0 days 04:46:00 0 days 18:51:00  ...   0.0       0.0000       29.425   \n",
       "3 0 days 04:44:00 0 days 18:52:00  ...   0.0       0.0005       29.335   \n",
       "4 0 days 04:43:00 0 days 18:53:00  ...   0.0       0.0010       29.430   \n",
       "\n",
       "   SeaLevel  ResultSpeed  ResultDir  AvgSpeed  RelativeHumidity  \\\n",
       "0    29.820         2.20       26.0      9.40             55.95   \n",
       "1    30.085        13.15        3.0     13.40             71.20   \n",
       "2    30.120        12.30        6.5     12.55             53.41   \n",
       "3    30.045        10.25        7.5     10.60             48.62   \n",
       "4    30.095        11.45        7.0     11.75             45.24   \n",
       "\n",
       "   DewPointDepression  WetBulbDepression  \n",
       "0               16.25              10.75  \n",
       "1                9.00               4.00  \n",
       "2               16.75               7.75  \n",
       "3               19.50              11.00  \n",
       "4               21.25              10.25  \n",
       "\n",
       "[5 rows x 28 columns]"
      ]
     },
     "execution_count": 128,
     "metadata": {},
     "output_type": "execute_result"
    }
   ],
   "source": [
    "weather_condense.head()"
   ]
  },
  {
   "cell_type": "code",
   "execution_count": 129,
   "id": "aa45311c",
   "metadata": {},
   "outputs": [
    {
     "name": "stdout",
     "output_type": "stream",
     "text": [
      "<class 'pandas.core.frame.DataFrame'>\n",
      "RangeIndex: 1472 entries, 0 to 1471\n",
      "Data columns (total 28 columns):\n",
      " #   Column              Non-Null Count  Dtype          \n",
      "---  ------              --------------  -----          \n",
      " 0   Date                1472 non-null   datetime64[ns] \n",
      " 1   Day_of_week         1472 non-null   int64          \n",
      " 2   Day_of_month        1472 non-null   int64          \n",
      " 3   Week                1472 non-null   int64          \n",
      " 4   Month               1472 non-null   int64          \n",
      " 5   Year                1472 non-null   int64          \n",
      " 6   Season              1472 non-null   object         \n",
      " 7   Month_Name          1472 non-null   object         \n",
      " 8   Sunrise             1472 non-null   timedelta64[ns]\n",
      " 9   Sunset              1472 non-null   timedelta64[ns]\n",
      " 10  DaytimeLength       1472 non-null   float64        \n",
      " 11  Tmax                1472 non-null   float64        \n",
      " 12  Tmin                1472 non-null   float64        \n",
      " 13  Tavg                1472 non-null   float64        \n",
      " 14  Depart              1472 non-null   float64        \n",
      " 15  DewPoint            1472 non-null   float64        \n",
      " 16  WetBulb             1472 non-null   float64        \n",
      " 17  Heat                1472 non-null   float64        \n",
      " 18  Cool                1472 non-null   float64        \n",
      " 19  PrecipTotal         1472 non-null   float64        \n",
      " 20  StnPressure         1471 non-null   float64        \n",
      " 21  SeaLevel            1472 non-null   float64        \n",
      " 22  ResultSpeed         1472 non-null   float64        \n",
      " 23  ResultDir           1472 non-null   float64        \n",
      " 24  AvgSpeed            1472 non-null   float64        \n",
      " 25  RelativeHumidity    1472 non-null   float64        \n",
      " 26  DewPointDepression  1472 non-null   float64        \n",
      " 27  WetBulbDepression   1472 non-null   float64        \n",
      "dtypes: datetime64[ns](1), float64(18), int64(5), object(2), timedelta64[ns](2)\n",
      "memory usage: 322.1+ KB\n"
     ]
    }
   ],
   "source": [
    "weather_condense.info()"
   ]
  },
  {
   "cell_type": "code",
   "execution_count": 130,
   "id": "b47475e5",
   "metadata": {},
   "outputs": [
    {
     "data": {
      "text/plain": [
       "(1472, 28)"
      ]
     },
     "execution_count": 130,
     "metadata": {},
     "output_type": "execute_result"
    }
   ],
   "source": [
    "weather_condense.shape"
   ]
  },
  {
   "cell_type": "markdown",
   "id": "cfbf5954",
   "metadata": {},
   "source": [
    "## Merge `weather_condense` and `traps` dataframes"
   ]
  },
  {
   "cell_type": "code",
   "execution_count": 131,
   "id": "e3bf169e",
   "metadata": {},
   "outputs": [
    {
     "data": {
      "text/html": [
       "<div>\n",
       "<style scoped>\n",
       "    .dataframe tbody tr th:only-of-type {\n",
       "        vertical-align: middle;\n",
       "    }\n",
       "\n",
       "    .dataframe tbody tr th {\n",
       "        vertical-align: top;\n",
       "    }\n",
       "\n",
       "    .dataframe thead th {\n",
       "        text-align: right;\n",
       "    }\n",
       "</style>\n",
       "<table border=\"1\" class=\"dataframe\">\n",
       "  <thead>\n",
       "    <tr style=\"text-align: right;\">\n",
       "      <th></th>\n",
       "      <th>Trap</th>\n",
       "      <th>Block</th>\n",
       "      <th>Latitude</th>\n",
       "      <th>Longitude</th>\n",
       "      <th>Date</th>\n",
       "      <th>Species</th>\n",
       "      <th>WnvPresent</th>\n",
       "      <th>AddressAccuracy</th>\n",
       "      <th>NumMosquitos</th>\n",
       "      <th>Day_of_week</th>\n",
       "      <th>...</th>\n",
       "      <th>Cool</th>\n",
       "      <th>PrecipTotal</th>\n",
       "      <th>StnPressure</th>\n",
       "      <th>SeaLevel</th>\n",
       "      <th>ResultSpeed</th>\n",
       "      <th>ResultDir</th>\n",
       "      <th>AvgSpeed</th>\n",
       "      <th>RelativeHumidity</th>\n",
       "      <th>DewPointDepression</th>\n",
       "      <th>WetBulbDepression</th>\n",
       "    </tr>\n",
       "  </thead>\n",
       "  <tbody>\n",
       "    <tr>\n",
       "      <th>0</th>\n",
       "      <td>T001</td>\n",
       "      <td>40</td>\n",
       "      <td>41.953705</td>\n",
       "      <td>-87.733974</td>\n",
       "      <td>2007-06-26</td>\n",
       "      <td>CULEX PIPIENS/RESTUANS</td>\n",
       "      <td>0</td>\n",
       "      <td>8</td>\n",
       "      <td>1</td>\n",
       "      <td>1</td>\n",
       "      <td>...</td>\n",
       "      <td>16.5</td>\n",
       "      <td>0.0805</td>\n",
       "      <td>29.420</td>\n",
       "      <td>30.100</td>\n",
       "      <td>6.70</td>\n",
       "      <td>21.5</td>\n",
       "      <td>7.60</td>\n",
       "      <td>65.89</td>\n",
       "      <td>12.50</td>\n",
       "      <td>9.50</td>\n",
       "    </tr>\n",
       "    <tr>\n",
       "      <th>1</th>\n",
       "      <td>T001</td>\n",
       "      <td>40</td>\n",
       "      <td>41.953705</td>\n",
       "      <td>-87.733974</td>\n",
       "      <td>2007-07-11</td>\n",
       "      <td>CULEX PIPIENS/RESTUANS</td>\n",
       "      <td>0</td>\n",
       "      <td>8</td>\n",
       "      <td>1</td>\n",
       "      <td>2</td>\n",
       "      <td>...</td>\n",
       "      <td>5.0</td>\n",
       "      <td>0.0000</td>\n",
       "      <td>29.255</td>\n",
       "      <td>29.925</td>\n",
       "      <td>8.95</td>\n",
       "      <td>30.0</td>\n",
       "      <td>11.05</td>\n",
       "      <td>51.35</td>\n",
       "      <td>18.75</td>\n",
       "      <td>10.75</td>\n",
       "    </tr>\n",
       "    <tr>\n",
       "      <th>2</th>\n",
       "      <td>T001</td>\n",
       "      <td>40</td>\n",
       "      <td>41.953705</td>\n",
       "      <td>-87.733974</td>\n",
       "      <td>2007-07-18</td>\n",
       "      <td>CULEX PIPIENS</td>\n",
       "      <td>0</td>\n",
       "      <td>8</td>\n",
       "      <td>1</td>\n",
       "      <td>2</td>\n",
       "      <td>...</td>\n",
       "      <td>12.0</td>\n",
       "      <td>1.2350</td>\n",
       "      <td>29.145</td>\n",
       "      <td>29.835</td>\n",
       "      <td>9.70</td>\n",
       "      <td>24.0</td>\n",
       "      <td>10.35</td>\n",
       "      <td>75.08</td>\n",
       "      <td>8.50</td>\n",
       "      <td>6.00</td>\n",
       "    </tr>\n",
       "    <tr>\n",
       "      <th>3</th>\n",
       "      <td>T001</td>\n",
       "      <td>40</td>\n",
       "      <td>41.953705</td>\n",
       "      <td>-87.733974</td>\n",
       "      <td>2007-08-01</td>\n",
       "      <td>CULEX PIPIENS</td>\n",
       "      <td>0</td>\n",
       "      <td>8</td>\n",
       "      <td>1</td>\n",
       "      <td>2</td>\n",
       "      <td>...</td>\n",
       "      <td>15.5</td>\n",
       "      <td>0.0000</td>\n",
       "      <td>29.315</td>\n",
       "      <td>29.990</td>\n",
       "      <td>2.80</td>\n",
       "      <td>11.0</td>\n",
       "      <td>3.90</td>\n",
       "      <td>54.77</td>\n",
       "      <td>17.75</td>\n",
       "      <td>10.75</td>\n",
       "    </tr>\n",
       "    <tr>\n",
       "      <th>4</th>\n",
       "      <td>T001</td>\n",
       "      <td>40</td>\n",
       "      <td>41.953705</td>\n",
       "      <td>-87.733974</td>\n",
       "      <td>2007-08-01</td>\n",
       "      <td>CULEX PIPIENS/RESTUANS</td>\n",
       "      <td>0</td>\n",
       "      <td>8</td>\n",
       "      <td>3</td>\n",
       "      <td>2</td>\n",
       "      <td>...</td>\n",
       "      <td>15.5</td>\n",
       "      <td>0.0000</td>\n",
       "      <td>29.315</td>\n",
       "      <td>29.990</td>\n",
       "      <td>2.80</td>\n",
       "      <td>11.0</td>\n",
       "      <td>3.90</td>\n",
       "      <td>54.77</td>\n",
       "      <td>17.75</td>\n",
       "      <td>10.75</td>\n",
       "    </tr>\n",
       "  </tbody>\n",
       "</table>\n",
       "<p>5 rows × 36 columns</p>\n",
       "</div>"
      ],
      "text/plain": [
       "   Trap  Block   Latitude  Longitude       Date                 Species  \\\n",
       "0  T001     40  41.953705 -87.733974 2007-06-26  CULEX PIPIENS/RESTUANS   \n",
       "1  T001     40  41.953705 -87.733974 2007-07-11  CULEX PIPIENS/RESTUANS   \n",
       "2  T001     40  41.953705 -87.733974 2007-07-18           CULEX PIPIENS   \n",
       "3  T001     40  41.953705 -87.733974 2007-08-01           CULEX PIPIENS   \n",
       "4  T001     40  41.953705 -87.733974 2007-08-01  CULEX PIPIENS/RESTUANS   \n",
       "\n",
       "   WnvPresent  AddressAccuracy  NumMosquitos  Day_of_week  ...  Cool  \\\n",
       "0           0                8             1            1  ...  16.5   \n",
       "1           0                8             1            2  ...   5.0   \n",
       "2           0                8             1            2  ...  12.0   \n",
       "3           0                8             1            2  ...  15.5   \n",
       "4           0                8             3            2  ...  15.5   \n",
       "\n",
       "   PrecipTotal  StnPressure  SeaLevel ResultSpeed ResultDir AvgSpeed  \\\n",
       "0       0.0805       29.420    30.100        6.70      21.5     7.60   \n",
       "1       0.0000       29.255    29.925        8.95      30.0    11.05   \n",
       "2       1.2350       29.145    29.835        9.70      24.0    10.35   \n",
       "3       0.0000       29.315    29.990        2.80      11.0     3.90   \n",
       "4       0.0000       29.315    29.990        2.80      11.0     3.90   \n",
       "\n",
       "  RelativeHumidity  DewPointDepression  WetBulbDepression  \n",
       "0            65.89               12.50               9.50  \n",
       "1            51.35               18.75              10.75  \n",
       "2            75.08                8.50               6.00  \n",
       "3            54.77               17.75              10.75  \n",
       "4            54.77               17.75              10.75  \n",
       "\n",
       "[5 rows x 36 columns]"
      ]
     },
     "execution_count": 131,
     "metadata": {},
     "output_type": "execute_result"
    }
   ],
   "source": [
    "# merge 'traps' and 'weather_final' datasets\n",
    "data = traps.merge(weather_condense, how='left', on='Date')\n",
    "data.head()"
   ]
  },
  {
   "cell_type": "code",
   "execution_count": 132,
   "id": "a25cece9",
   "metadata": {},
   "outputs": [
    {
     "data": {
      "text/plain": [
       "(8610, 36)"
      ]
     },
     "execution_count": 132,
     "metadata": {},
     "output_type": "execute_result"
    }
   ],
   "source": [
    "data.shape"
   ]
  },
  {
   "cell_type": "code",
   "execution_count": 133,
   "id": "e35214e9",
   "metadata": {},
   "outputs": [
    {
     "name": "stdout",
     "output_type": "stream",
     "text": [
      "<class 'pandas.core.frame.DataFrame'>\n",
      "Int64Index: 8610 entries, 0 to 8609\n",
      "Data columns (total 36 columns):\n",
      " #   Column              Non-Null Count  Dtype          \n",
      "---  ------              --------------  -----          \n",
      " 0   Trap                8610 non-null   object         \n",
      " 1   Block               8610 non-null   int64          \n",
      " 2   Latitude            8610 non-null   float64        \n",
      " 3   Longitude           8610 non-null   float64        \n",
      " 4   Date                8610 non-null   datetime64[ns] \n",
      " 5   Species             8610 non-null   object         \n",
      " 6   WnvPresent          8610 non-null   int64          \n",
      " 7   AddressAccuracy     8610 non-null   int64          \n",
      " 8   NumMosquitos        8610 non-null   int64          \n",
      " 9   Day_of_week         8610 non-null   int64          \n",
      " 10  Day_of_month        8610 non-null   int64          \n",
      " 11  Week                8610 non-null   int64          \n",
      " 12  Month               8610 non-null   int64          \n",
      " 13  Year                8610 non-null   int64          \n",
      " 14  Season              8610 non-null   object         \n",
      " 15  Month_Name          8610 non-null   object         \n",
      " 16  Sunrise             8610 non-null   timedelta64[ns]\n",
      " 17  Sunset              8610 non-null   timedelta64[ns]\n",
      " 18  DaytimeLength       8610 non-null   float64        \n",
      " 19  Tmax                8610 non-null   float64        \n",
      " 20  Tmin                8610 non-null   float64        \n",
      " 21  Tavg                8610 non-null   float64        \n",
      " 22  Depart              8610 non-null   float64        \n",
      " 23  DewPoint            8610 non-null   float64        \n",
      " 24  WetBulb             8610 non-null   float64        \n",
      " 25  Heat                8610 non-null   float64        \n",
      " 26  Cool                8610 non-null   float64        \n",
      " 27  PrecipTotal         8610 non-null   float64        \n",
      " 28  StnPressure         8610 non-null   float64        \n",
      " 29  SeaLevel            8610 non-null   float64        \n",
      " 30  ResultSpeed         8610 non-null   float64        \n",
      " 31  ResultDir           8610 non-null   float64        \n",
      " 32  AvgSpeed            8610 non-null   float64        \n",
      " 33  RelativeHumidity    8610 non-null   float64        \n",
      " 34  DewPointDepression  8610 non-null   float64        \n",
      " 35  WetBulbDepression   8610 non-null   float64        \n",
      "dtypes: datetime64[ns](1), float64(20), int64(9), object(4), timedelta64[ns](2)\n",
      "memory usage: 2.4+ MB\n"
     ]
    }
   ],
   "source": [
    "data.info()"
   ]
  },
  {
   "cell_type": "code",
   "execution_count": 134,
   "id": "61224d1d",
   "metadata": {},
   "outputs": [
    {
     "data": {
      "text/plain": [
       "Trap                  0\n",
       "Block                 0\n",
       "Latitude              0\n",
       "Longitude             0\n",
       "Date                  0\n",
       "Species               0\n",
       "WnvPresent            0\n",
       "AddressAccuracy       0\n",
       "NumMosquitos          0\n",
       "Day_of_week           0\n",
       "Day_of_month          0\n",
       "Week                  0\n",
       "Month                 0\n",
       "Year                  0\n",
       "Season                0\n",
       "Month_Name            0\n",
       "Sunrise               0\n",
       "Sunset                0\n",
       "DaytimeLength         0\n",
       "Tmax                  0\n",
       "Tmin                  0\n",
       "Tavg                  0\n",
       "Depart                0\n",
       "DewPoint              0\n",
       "WetBulb               0\n",
       "Heat                  0\n",
       "Cool                  0\n",
       "PrecipTotal           0\n",
       "StnPressure           0\n",
       "SeaLevel              0\n",
       "ResultSpeed           0\n",
       "ResultDir             0\n",
       "AvgSpeed              0\n",
       "RelativeHumidity      0\n",
       "DewPointDepression    0\n",
       "WetBulbDepression     0\n",
       "dtype: int64"
      ]
     },
     "execution_count": 134,
     "metadata": {},
     "output_type": "execute_result"
    }
   ],
   "source": [
    "# check missing values\n",
    "data.isna().sum()"
   ]
  },
  {
   "cell_type": "code",
   "execution_count": 135,
   "id": "75ea3ebc",
   "metadata": {},
   "outputs": [
    {
     "data": {
      "text/plain": [
       "Index(['Trap', 'Block', 'Latitude', 'Longitude', 'Date', 'Species',\n",
       "       'WnvPresent', 'AddressAccuracy', 'NumMosquitos', 'Day_of_week',\n",
       "       'Day_of_month', 'Week', 'Month', 'Year', 'Season', 'Month_Name',\n",
       "       'Sunrise', 'Sunset', 'DaytimeLength', 'Tmax', 'Tmin', 'Tavg', 'Depart',\n",
       "       'DewPoint', 'WetBulb', 'Heat', 'Cool', 'PrecipTotal', 'StnPressure',\n",
       "       'SeaLevel', 'ResultSpeed', 'ResultDir', 'AvgSpeed', 'RelativeHumidity',\n",
       "       'DewPointDepression', 'WetBulbDepression'],\n",
       "      dtype='object')"
      ]
     },
     "execution_count": 135,
     "metadata": {},
     "output_type": "execute_result"
    }
   ],
   "source": [
    "data.columns"
   ]
  },
  {
   "cell_type": "code",
   "execution_count": 136,
   "id": "a39d5b43",
   "metadata": {
    "scrolled": false
   },
   "outputs": [
    {
     "data": {
      "text/html": [
       "<div>\n",
       "<style scoped>\n",
       "    .dataframe tbody tr th:only-of-type {\n",
       "        vertical-align: middle;\n",
       "    }\n",
       "\n",
       "    .dataframe tbody tr th {\n",
       "        vertical-align: top;\n",
       "    }\n",
       "\n",
       "    .dataframe thead th {\n",
       "        text-align: right;\n",
       "    }\n",
       "</style>\n",
       "<table border=\"1\" class=\"dataframe\">\n",
       "  <thead>\n",
       "    <tr style=\"text-align: right;\">\n",
       "      <th></th>\n",
       "      <th>Trap</th>\n",
       "      <th>Block</th>\n",
       "      <th>Latitude</th>\n",
       "      <th>Longitude</th>\n",
       "      <th>Date</th>\n",
       "      <th>Species</th>\n",
       "      <th>AddressAccuracy</th>\n",
       "      <th>NumMosquitos</th>\n",
       "      <th>Day_of_week</th>\n",
       "      <th>Day_of_month</th>\n",
       "      <th>...</th>\n",
       "      <th>PrecipTotal</th>\n",
       "      <th>StnPressure</th>\n",
       "      <th>SeaLevel</th>\n",
       "      <th>ResultSpeed</th>\n",
       "      <th>ResultDir</th>\n",
       "      <th>AvgSpeed</th>\n",
       "      <th>RelativeHumidity</th>\n",
       "      <th>DewPointDepression</th>\n",
       "      <th>WetBulbDepression</th>\n",
       "      <th>WnvPresent</th>\n",
       "    </tr>\n",
       "  </thead>\n",
       "  <tbody>\n",
       "    <tr>\n",
       "      <th>0</th>\n",
       "      <td>T001</td>\n",
       "      <td>40</td>\n",
       "      <td>41.953705</td>\n",
       "      <td>-87.733974</td>\n",
       "      <td>2007-06-26</td>\n",
       "      <td>CULEX PIPIENS/RESTUANS</td>\n",
       "      <td>8</td>\n",
       "      <td>1</td>\n",
       "      <td>1</td>\n",
       "      <td>26</td>\n",
       "      <td>...</td>\n",
       "      <td>0.0805</td>\n",
       "      <td>29.420</td>\n",
       "      <td>30.100</td>\n",
       "      <td>6.70</td>\n",
       "      <td>21.5</td>\n",
       "      <td>7.60</td>\n",
       "      <td>65.89</td>\n",
       "      <td>12.50</td>\n",
       "      <td>9.50</td>\n",
       "      <td>0</td>\n",
       "    </tr>\n",
       "    <tr>\n",
       "      <th>1</th>\n",
       "      <td>T001</td>\n",
       "      <td>40</td>\n",
       "      <td>41.953705</td>\n",
       "      <td>-87.733974</td>\n",
       "      <td>2007-07-11</td>\n",
       "      <td>CULEX PIPIENS/RESTUANS</td>\n",
       "      <td>8</td>\n",
       "      <td>1</td>\n",
       "      <td>2</td>\n",
       "      <td>11</td>\n",
       "      <td>...</td>\n",
       "      <td>0.0000</td>\n",
       "      <td>29.255</td>\n",
       "      <td>29.925</td>\n",
       "      <td>8.95</td>\n",
       "      <td>30.0</td>\n",
       "      <td>11.05</td>\n",
       "      <td>51.35</td>\n",
       "      <td>18.75</td>\n",
       "      <td>10.75</td>\n",
       "      <td>0</td>\n",
       "    </tr>\n",
       "    <tr>\n",
       "      <th>2</th>\n",
       "      <td>T001</td>\n",
       "      <td>40</td>\n",
       "      <td>41.953705</td>\n",
       "      <td>-87.733974</td>\n",
       "      <td>2007-07-18</td>\n",
       "      <td>CULEX PIPIENS</td>\n",
       "      <td>8</td>\n",
       "      <td>1</td>\n",
       "      <td>2</td>\n",
       "      <td>18</td>\n",
       "      <td>...</td>\n",
       "      <td>1.2350</td>\n",
       "      <td>29.145</td>\n",
       "      <td>29.835</td>\n",
       "      <td>9.70</td>\n",
       "      <td>24.0</td>\n",
       "      <td>10.35</td>\n",
       "      <td>75.08</td>\n",
       "      <td>8.50</td>\n",
       "      <td>6.00</td>\n",
       "      <td>0</td>\n",
       "    </tr>\n",
       "    <tr>\n",
       "      <th>3</th>\n",
       "      <td>T001</td>\n",
       "      <td>40</td>\n",
       "      <td>41.953705</td>\n",
       "      <td>-87.733974</td>\n",
       "      <td>2007-08-01</td>\n",
       "      <td>CULEX PIPIENS</td>\n",
       "      <td>8</td>\n",
       "      <td>1</td>\n",
       "      <td>2</td>\n",
       "      <td>1</td>\n",
       "      <td>...</td>\n",
       "      <td>0.0000</td>\n",
       "      <td>29.315</td>\n",
       "      <td>29.990</td>\n",
       "      <td>2.80</td>\n",
       "      <td>11.0</td>\n",
       "      <td>3.90</td>\n",
       "      <td>54.77</td>\n",
       "      <td>17.75</td>\n",
       "      <td>10.75</td>\n",
       "      <td>0</td>\n",
       "    </tr>\n",
       "    <tr>\n",
       "      <th>4</th>\n",
       "      <td>T001</td>\n",
       "      <td>40</td>\n",
       "      <td>41.953705</td>\n",
       "      <td>-87.733974</td>\n",
       "      <td>2007-08-01</td>\n",
       "      <td>CULEX PIPIENS/RESTUANS</td>\n",
       "      <td>8</td>\n",
       "      <td>3</td>\n",
       "      <td>2</td>\n",
       "      <td>1</td>\n",
       "      <td>...</td>\n",
       "      <td>0.0000</td>\n",
       "      <td>29.315</td>\n",
       "      <td>29.990</td>\n",
       "      <td>2.80</td>\n",
       "      <td>11.0</td>\n",
       "      <td>3.90</td>\n",
       "      <td>54.77</td>\n",
       "      <td>17.75</td>\n",
       "      <td>10.75</td>\n",
       "      <td>0</td>\n",
       "    </tr>\n",
       "  </tbody>\n",
       "</table>\n",
       "<p>5 rows × 36 columns</p>\n",
       "</div>"
      ],
      "text/plain": [
       "   Trap  Block   Latitude  Longitude       Date                 Species  \\\n",
       "0  T001     40  41.953705 -87.733974 2007-06-26  CULEX PIPIENS/RESTUANS   \n",
       "1  T001     40  41.953705 -87.733974 2007-07-11  CULEX PIPIENS/RESTUANS   \n",
       "2  T001     40  41.953705 -87.733974 2007-07-18           CULEX PIPIENS   \n",
       "3  T001     40  41.953705 -87.733974 2007-08-01           CULEX PIPIENS   \n",
       "4  T001     40  41.953705 -87.733974 2007-08-01  CULEX PIPIENS/RESTUANS   \n",
       "\n",
       "   AddressAccuracy  NumMosquitos  Day_of_week  Day_of_month  ...  PrecipTotal  \\\n",
       "0                8             1            1            26  ...       0.0805   \n",
       "1                8             1            2            11  ...       0.0000   \n",
       "2                8             1            2            18  ...       1.2350   \n",
       "3                8             1            2             1  ...       0.0000   \n",
       "4                8             3            2             1  ...       0.0000   \n",
       "\n",
       "   StnPressure  SeaLevel ResultSpeed ResultDir AvgSpeed RelativeHumidity  \\\n",
       "0       29.420    30.100        6.70      21.5     7.60            65.89   \n",
       "1       29.255    29.925        8.95      30.0    11.05            51.35   \n",
       "2       29.145    29.835        9.70      24.0    10.35            75.08   \n",
       "3       29.315    29.990        2.80      11.0     3.90            54.77   \n",
       "4       29.315    29.990        2.80      11.0     3.90            54.77   \n",
       "\n",
       "   DewPointDepression  WetBulbDepression  WnvPresent  \n",
       "0               12.50               9.50           0  \n",
       "1               18.75              10.75           0  \n",
       "2                8.50               6.00           0  \n",
       "3               17.75              10.75           0  \n",
       "4               17.75              10.75           0  \n",
       "\n",
       "[5 rows x 36 columns]"
      ]
     },
     "execution_count": 136,
     "metadata": {},
     "output_type": "execute_result"
    }
   ],
   "source": [
    "# rearrange columns so 'WnvPresent' is at the end\n",
    "data = data[['Trap', 'Block', 'Latitude', 'Longitude', 'Date', 'Species', 'AddressAccuracy', 'NumMosquitos', \n",
    "             'Day_of_week', 'Day_of_month', 'Week', 'Month', 'Year', 'Season', 'Month_Name', 'Sunrise', 'Sunset', \n",
    "             'DaytimeLength', 'Tmax', 'Tmin', 'Tavg', 'Depart', 'DewPoint', 'WetBulb', 'Heat', 'Cool', \n",
    "             'PrecipTotal', 'StnPressure', 'SeaLevel', 'ResultSpeed', 'ResultDir', 'AvgSpeed', 'RelativeHumidity', \n",
    "             'DewPointDepression', 'WetBulbDepression', 'WnvPresent',]]\n",
    "data.head()"
   ]
  },
  {
   "cell_type": "code",
   "execution_count": 137,
   "id": "6f7f4298",
   "metadata": {
    "scrolled": true
   },
   "outputs": [
    {
     "name": "stdout",
     "output_type": "stream",
     "text": [
      "A file already exists with this name.\n",
      "\n",
      "Do you want to overwrite? (Y/N)Y\n",
      "Writing file.  \"../data/WestNileVirus.csv\"\n"
     ]
    }
   ],
   "source": [
    "# save data to a new .csv file\n",
    "datapath = '../data'\n",
    "save_file(data, 'WestNileVirus.csv', datapath)"
   ]
  }
 ],
 "metadata": {
  "kernelspec": {
   "display_name": "Python 3 (ipykernel)",
   "language": "python",
   "name": "python3"
  },
  "language_info": {
   "codemirror_mode": {
    "name": "ipython",
    "version": 3
   },
   "file_extension": ".py",
   "mimetype": "text/x-python",
   "name": "python",
   "nbconvert_exporter": "python",
   "pygments_lexer": "ipython3",
   "version": "3.8.13"
  }
 },
 "nbformat": 4,
 "nbformat_minor": 5
}
